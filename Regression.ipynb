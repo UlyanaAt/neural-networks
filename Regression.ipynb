{
  "nbformat": 4,
  "nbformat_minor": 0,
  "metadata": {
    "colab": {
      "provenance": [],
      "authorship_tag": "ABX9TyORttbiDr8aITHjCul4//bM",
      "include_colab_link": true
    },
    "kernelspec": {
      "name": "python3",
      "display_name": "Python 3"
    },
    "language_info": {
      "name": "python"
    }
  },
  "cells": [
    {
      "cell_type": "markdown",
      "metadata": {
        "id": "view-in-github",
        "colab_type": "text"
      },
      "source": [
        "<a href=\"https://colab.research.google.com/github/UlyanaAt/neural-networks/blob/main/Regression.ipynb\" target=\"_parent\"><img src=\"https://colab.research.google.com/assets/colab-badge.svg\" alt=\"Open In Colab\"/></a>"
      ]
    },
    {
      "cell_type": "code",
      "execution_count": 69,
      "metadata": {
        "id": "OFgfbVSqeAqp"
      },
      "outputs": [],
      "source": [
        "from pandas import (\n",
        "    DataFrame,\n",
        "    read_csv,\n",
        ")\n",
        "from sys import exc_info\n",
        "\n",
        "from sklearn.preprocessing import MinMaxScaler\n",
        "from sklearn.model_selection import train_test_split\n",
        "\n",
        "from keras.models import Sequential\n",
        "from keras.layers import Dense\n",
        "from keras.callbacks import (\n",
        "    ModelCheckpoint,\n",
        "    EarlyStopping,\n",
        ")\n",
        "import matplotlib.pyplot as plt\n",
        "\n",
        "from sklearn.metrics import (\n",
        "    mean_absolute_error,\n",
        "    mean_squared_error,\n",
        "    r2_score,\n",
        ")"
      ]
    },
    {
      "cell_type": "code",
      "source": [
        "df: DataFrame = read_csv('/content/DS_2019_public.csv', encoding='ISO-8859-1', dtype=str)\n",
        "df.head()"
      ],
      "metadata": {
        "colab": {
          "base_uri": "https://localhost:8080/",
          "height": 236
        },
        "id": "eCj8tyu4efHk",
        "outputId": "44476f49-e7a1-4034-e912-a08b9edf8ad0"
      },
      "execution_count": 70,
      "outputs": [
        {
          "output_type": "execute_result",
          "data": {
            "text/plain": [
              "  Climate_Region_Pub DIVISION REPORTABLE_DOMAIN DOLELCOL TOTALDOLCOL  \\\n",
              "0                  5       10                26   16.793          17   \n",
              "1                  1        1                 1   48.901          49   \n",
              "2                  1        3                 7  101.048         101   \n",
              "3                  1        1                 1        0           0   \n",
              "4                  1        4                10   45.132          45   \n",
              "\n",
              "     KWHCOL  BTUELCOL TOTALBTUCOL TOTALDOLSPH TOTALBTUSPH  ... LGT1EE  \\\n",
              "0   181.998   620.979         621         368       38606  ...     -2   \n",
              "1   184.459   629.389         629         582       40248  ...      2   \n",
              "2  1063.022  3627.013        3627         425       40196  ...     -2   \n",
              "3         0         0           0         616       36136  ...      2   \n",
              "4    274.53   936.677         937         685       74100  ...      3   \n",
              "\n",
              "  TOTALBTUWTH ROOFTYPE DOLELRFG TOTALDOLRFG HEATROOM WDWATER UGWARM DRYRFUEL  \\\n",
              "0       30110        2  120.893         121        4       0      1        1   \n",
              "1        7933       -2  242.746         243        2       0      1       -2   \n",
              "2        6440        5  158.797         159        7       0      1        5   \n",
              "3       13884        5   85.138          85        5       0      1        5   \n",
              "4       14204        6  151.319         151        6       0      1        5   \n",
              "\n",
              "     KWHRFG  \n",
              "0   1310.22  \n",
              "1   915.664  \n",
              "2  1670.534  \n",
              "3   346.468  \n",
              "4   920.454  \n",
              "\n",
              "[5 rows x 121 columns]"
            ],
            "text/html": [
              "\n",
              "  <div id=\"df-3fa5c7a9-3e50-436f-b11d-66d9dee37bfb\" class=\"colab-df-container\">\n",
              "    <div>\n",
              "<style scoped>\n",
              "    .dataframe tbody tr th:only-of-type {\n",
              "        vertical-align: middle;\n",
              "    }\n",
              "\n",
              "    .dataframe tbody tr th {\n",
              "        vertical-align: top;\n",
              "    }\n",
              "\n",
              "    .dataframe thead th {\n",
              "        text-align: right;\n",
              "    }\n",
              "</style>\n",
              "<table border=\"1\" class=\"dataframe\">\n",
              "  <thead>\n",
              "    <tr style=\"text-align: right;\">\n",
              "      <th></th>\n",
              "      <th>Climate_Region_Pub</th>\n",
              "      <th>DIVISION</th>\n",
              "      <th>REPORTABLE_DOMAIN</th>\n",
              "      <th>DOLELCOL</th>\n",
              "      <th>TOTALDOLCOL</th>\n",
              "      <th>KWHCOL</th>\n",
              "      <th>BTUELCOL</th>\n",
              "      <th>TOTALBTUCOL</th>\n",
              "      <th>TOTALDOLSPH</th>\n",
              "      <th>TOTALBTUSPH</th>\n",
              "      <th>...</th>\n",
              "      <th>LGT1EE</th>\n",
              "      <th>TOTALBTUWTH</th>\n",
              "      <th>ROOFTYPE</th>\n",
              "      <th>DOLELRFG</th>\n",
              "      <th>TOTALDOLRFG</th>\n",
              "      <th>HEATROOM</th>\n",
              "      <th>WDWATER</th>\n",
              "      <th>UGWARM</th>\n",
              "      <th>DRYRFUEL</th>\n",
              "      <th>KWHRFG</th>\n",
              "    </tr>\n",
              "  </thead>\n",
              "  <tbody>\n",
              "    <tr>\n",
              "      <th>0</th>\n",
              "      <td>5</td>\n",
              "      <td>10</td>\n",
              "      <td>26</td>\n",
              "      <td>16.793</td>\n",
              "      <td>17</td>\n",
              "      <td>181.998</td>\n",
              "      <td>620.979</td>\n",
              "      <td>621</td>\n",
              "      <td>368</td>\n",
              "      <td>38606</td>\n",
              "      <td>...</td>\n",
              "      <td>-2</td>\n",
              "      <td>30110</td>\n",
              "      <td>2</td>\n",
              "      <td>120.893</td>\n",
              "      <td>121</td>\n",
              "      <td>4</td>\n",
              "      <td>0</td>\n",
              "      <td>1</td>\n",
              "      <td>1</td>\n",
              "      <td>1310.22</td>\n",
              "    </tr>\n",
              "    <tr>\n",
              "      <th>1</th>\n",
              "      <td>1</td>\n",
              "      <td>1</td>\n",
              "      <td>1</td>\n",
              "      <td>48.901</td>\n",
              "      <td>49</td>\n",
              "      <td>184.459</td>\n",
              "      <td>629.389</td>\n",
              "      <td>629</td>\n",
              "      <td>582</td>\n",
              "      <td>40248</td>\n",
              "      <td>...</td>\n",
              "      <td>2</td>\n",
              "      <td>7933</td>\n",
              "      <td>-2</td>\n",
              "      <td>242.746</td>\n",
              "      <td>243</td>\n",
              "      <td>2</td>\n",
              "      <td>0</td>\n",
              "      <td>1</td>\n",
              "      <td>-2</td>\n",
              "      <td>915.664</td>\n",
              "    </tr>\n",
              "    <tr>\n",
              "      <th>2</th>\n",
              "      <td>1</td>\n",
              "      <td>3</td>\n",
              "      <td>7</td>\n",
              "      <td>101.048</td>\n",
              "      <td>101</td>\n",
              "      <td>1063.022</td>\n",
              "      <td>3627.013</td>\n",
              "      <td>3627</td>\n",
              "      <td>425</td>\n",
              "      <td>40196</td>\n",
              "      <td>...</td>\n",
              "      <td>-2</td>\n",
              "      <td>6440</td>\n",
              "      <td>5</td>\n",
              "      <td>158.797</td>\n",
              "      <td>159</td>\n",
              "      <td>7</td>\n",
              "      <td>0</td>\n",
              "      <td>1</td>\n",
              "      <td>5</td>\n",
              "      <td>1670.534</td>\n",
              "    </tr>\n",
              "    <tr>\n",
              "      <th>3</th>\n",
              "      <td>1</td>\n",
              "      <td>1</td>\n",
              "      <td>1</td>\n",
              "      <td>0</td>\n",
              "      <td>0</td>\n",
              "      <td>0</td>\n",
              "      <td>0</td>\n",
              "      <td>0</td>\n",
              "      <td>616</td>\n",
              "      <td>36136</td>\n",
              "      <td>...</td>\n",
              "      <td>2</td>\n",
              "      <td>13884</td>\n",
              "      <td>5</td>\n",
              "      <td>85.138</td>\n",
              "      <td>85</td>\n",
              "      <td>5</td>\n",
              "      <td>0</td>\n",
              "      <td>1</td>\n",
              "      <td>5</td>\n",
              "      <td>346.468</td>\n",
              "    </tr>\n",
              "    <tr>\n",
              "      <th>4</th>\n",
              "      <td>1</td>\n",
              "      <td>4</td>\n",
              "      <td>10</td>\n",
              "      <td>45.132</td>\n",
              "      <td>45</td>\n",
              "      <td>274.53</td>\n",
              "      <td>936.677</td>\n",
              "      <td>937</td>\n",
              "      <td>685</td>\n",
              "      <td>74100</td>\n",
              "      <td>...</td>\n",
              "      <td>3</td>\n",
              "      <td>14204</td>\n",
              "      <td>6</td>\n",
              "      <td>151.319</td>\n",
              "      <td>151</td>\n",
              "      <td>6</td>\n",
              "      <td>0</td>\n",
              "      <td>1</td>\n",
              "      <td>5</td>\n",
              "      <td>920.454</td>\n",
              "    </tr>\n",
              "  </tbody>\n",
              "</table>\n",
              "<p>5 rows × 121 columns</p>\n",
              "</div>\n",
              "    <div class=\"colab-df-buttons\">\n",
              "\n",
              "  <div class=\"colab-df-container\">\n",
              "    <button class=\"colab-df-convert\" onclick=\"convertToInteractive('df-3fa5c7a9-3e50-436f-b11d-66d9dee37bfb')\"\n",
              "            title=\"Convert this dataframe to an interactive table.\"\n",
              "            style=\"display:none;\">\n",
              "\n",
              "  <svg xmlns=\"http://www.w3.org/2000/svg\" height=\"24px\" viewBox=\"0 -960 960 960\">\n",
              "    <path d=\"M120-120v-720h720v720H120Zm60-500h600v-160H180v160Zm220 220h160v-160H400v160Zm0 220h160v-160H400v160ZM180-400h160v-160H180v160Zm440 0h160v-160H620v160ZM180-180h160v-160H180v160Zm440 0h160v-160H620v160Z\"/>\n",
              "  </svg>\n",
              "    </button>\n",
              "\n",
              "  <style>\n",
              "    .colab-df-container {\n",
              "      display:flex;\n",
              "      gap: 12px;\n",
              "    }\n",
              "\n",
              "    .colab-df-convert {\n",
              "      background-color: #E8F0FE;\n",
              "      border: none;\n",
              "      border-radius: 50%;\n",
              "      cursor: pointer;\n",
              "      display: none;\n",
              "      fill: #1967D2;\n",
              "      height: 32px;\n",
              "      padding: 0 0 0 0;\n",
              "      width: 32px;\n",
              "    }\n",
              "\n",
              "    .colab-df-convert:hover {\n",
              "      background-color: #E2EBFA;\n",
              "      box-shadow: 0px 1px 2px rgba(60, 64, 67, 0.3), 0px 1px 3px 1px rgba(60, 64, 67, 0.15);\n",
              "      fill: #174EA6;\n",
              "    }\n",
              "\n",
              "    .colab-df-buttons div {\n",
              "      margin-bottom: 4px;\n",
              "    }\n",
              "\n",
              "    [theme=dark] .colab-df-convert {\n",
              "      background-color: #3B4455;\n",
              "      fill: #D2E3FC;\n",
              "    }\n",
              "\n",
              "    [theme=dark] .colab-df-convert:hover {\n",
              "      background-color: #434B5C;\n",
              "      box-shadow: 0px 1px 3px 1px rgba(0, 0, 0, 0.15);\n",
              "      filter: drop-shadow(0px 1px 2px rgba(0, 0, 0, 0.3));\n",
              "      fill: #FFFFFF;\n",
              "    }\n",
              "  </style>\n",
              "\n",
              "    <script>\n",
              "      const buttonEl =\n",
              "        document.querySelector('#df-3fa5c7a9-3e50-436f-b11d-66d9dee37bfb button.colab-df-convert');\n",
              "      buttonEl.style.display =\n",
              "        google.colab.kernel.accessAllowed ? 'block' : 'none';\n",
              "\n",
              "      async function convertToInteractive(key) {\n",
              "        const element = document.querySelector('#df-3fa5c7a9-3e50-436f-b11d-66d9dee37bfb');\n",
              "        const dataTable =\n",
              "          await google.colab.kernel.invokeFunction('convertToInteractive',\n",
              "                                                    [key], {});\n",
              "        if (!dataTable) return;\n",
              "\n",
              "        const docLinkHtml = 'Like what you see? Visit the ' +\n",
              "          '<a target=\"_blank\" href=https://colab.research.google.com/notebooks/data_table.ipynb>data table notebook</a>'\n",
              "          + ' to learn more about interactive tables.';\n",
              "        element.innerHTML = '';\n",
              "        dataTable['output_type'] = 'display_data';\n",
              "        await google.colab.output.renderOutput(dataTable, element);\n",
              "        const docLink = document.createElement('div');\n",
              "        docLink.innerHTML = docLinkHtml;\n",
              "        element.appendChild(docLink);\n",
              "      }\n",
              "    </script>\n",
              "  </div>\n",
              "\n",
              "\n",
              "<div id=\"df-eb896886-84ae-42db-b15d-3a622236ae07\">\n",
              "  <button class=\"colab-df-quickchart\" onclick=\"quickchart('df-eb896886-84ae-42db-b15d-3a622236ae07')\"\n",
              "            title=\"Suggest charts\"\n",
              "            style=\"display:none;\">\n",
              "\n",
              "<svg xmlns=\"http://www.w3.org/2000/svg\" height=\"24px\"viewBox=\"0 0 24 24\"\n",
              "     width=\"24px\">\n",
              "    <g>\n",
              "        <path d=\"M19 3H5c-1.1 0-2 .9-2 2v14c0 1.1.9 2 2 2h14c1.1 0 2-.9 2-2V5c0-1.1-.9-2-2-2zM9 17H7v-7h2v7zm4 0h-2V7h2v10zm4 0h-2v-4h2v4z\"/>\n",
              "    </g>\n",
              "</svg>\n",
              "  </button>\n",
              "\n",
              "<style>\n",
              "  .colab-df-quickchart {\n",
              "      --bg-color: #E8F0FE;\n",
              "      --fill-color: #1967D2;\n",
              "      --hover-bg-color: #E2EBFA;\n",
              "      --hover-fill-color: #174EA6;\n",
              "      --disabled-fill-color: #AAA;\n",
              "      --disabled-bg-color: #DDD;\n",
              "  }\n",
              "\n",
              "  [theme=dark] .colab-df-quickchart {\n",
              "      --bg-color: #3B4455;\n",
              "      --fill-color: #D2E3FC;\n",
              "      --hover-bg-color: #434B5C;\n",
              "      --hover-fill-color: #FFFFFF;\n",
              "      --disabled-bg-color: #3B4455;\n",
              "      --disabled-fill-color: #666;\n",
              "  }\n",
              "\n",
              "  .colab-df-quickchart {\n",
              "    background-color: var(--bg-color);\n",
              "    border: none;\n",
              "    border-radius: 50%;\n",
              "    cursor: pointer;\n",
              "    display: none;\n",
              "    fill: var(--fill-color);\n",
              "    height: 32px;\n",
              "    padding: 0;\n",
              "    width: 32px;\n",
              "  }\n",
              "\n",
              "  .colab-df-quickchart:hover {\n",
              "    background-color: var(--hover-bg-color);\n",
              "    box-shadow: 0 1px 2px rgba(60, 64, 67, 0.3), 0 1px 3px 1px rgba(60, 64, 67, 0.15);\n",
              "    fill: var(--button-hover-fill-color);\n",
              "  }\n",
              "\n",
              "  .colab-df-quickchart-complete:disabled,\n",
              "  .colab-df-quickchart-complete:disabled:hover {\n",
              "    background-color: var(--disabled-bg-color);\n",
              "    fill: var(--disabled-fill-color);\n",
              "    box-shadow: none;\n",
              "  }\n",
              "\n",
              "  .colab-df-spinner {\n",
              "    border: 2px solid var(--fill-color);\n",
              "    border-color: transparent;\n",
              "    border-bottom-color: var(--fill-color);\n",
              "    animation:\n",
              "      spin 1s steps(1) infinite;\n",
              "  }\n",
              "\n",
              "  @keyframes spin {\n",
              "    0% {\n",
              "      border-color: transparent;\n",
              "      border-bottom-color: var(--fill-color);\n",
              "      border-left-color: var(--fill-color);\n",
              "    }\n",
              "    20% {\n",
              "      border-color: transparent;\n",
              "      border-left-color: var(--fill-color);\n",
              "      border-top-color: var(--fill-color);\n",
              "    }\n",
              "    30% {\n",
              "      border-color: transparent;\n",
              "      border-left-color: var(--fill-color);\n",
              "      border-top-color: var(--fill-color);\n",
              "      border-right-color: var(--fill-color);\n",
              "    }\n",
              "    40% {\n",
              "      border-color: transparent;\n",
              "      border-right-color: var(--fill-color);\n",
              "      border-top-color: var(--fill-color);\n",
              "    }\n",
              "    60% {\n",
              "      border-color: transparent;\n",
              "      border-right-color: var(--fill-color);\n",
              "    }\n",
              "    80% {\n",
              "      border-color: transparent;\n",
              "      border-right-color: var(--fill-color);\n",
              "      border-bottom-color: var(--fill-color);\n",
              "    }\n",
              "    90% {\n",
              "      border-color: transparent;\n",
              "      border-bottom-color: var(--fill-color);\n",
              "    }\n",
              "  }\n",
              "</style>\n",
              "\n",
              "  <script>\n",
              "    async function quickchart(key) {\n",
              "      const quickchartButtonEl =\n",
              "        document.querySelector('#' + key + ' button');\n",
              "      quickchartButtonEl.disabled = true;  // To prevent multiple clicks.\n",
              "      quickchartButtonEl.classList.add('colab-df-spinner');\n",
              "      try {\n",
              "        const charts = await google.colab.kernel.invokeFunction(\n",
              "            'suggestCharts', [key], {});\n",
              "      } catch (error) {\n",
              "        console.error('Error during call to suggestCharts:', error);\n",
              "      }\n",
              "      quickchartButtonEl.classList.remove('colab-df-spinner');\n",
              "      quickchartButtonEl.classList.add('colab-df-quickchart-complete');\n",
              "    }\n",
              "    (() => {\n",
              "      let quickchartButtonEl =\n",
              "        document.querySelector('#df-eb896886-84ae-42db-b15d-3a622236ae07 button');\n",
              "      quickchartButtonEl.style.display =\n",
              "        google.colab.kernel.accessAllowed ? 'block' : 'none';\n",
              "    })();\n",
              "  </script>\n",
              "</div>\n",
              "    </div>\n",
              "  </div>\n"
            ]
          },
          "metadata": {},
          "execution_count": 70
        }
      ]
    },
    {
      "cell_type": "code",
      "source": [
        "df.describe()"
      ],
      "metadata": {
        "colab": {
          "base_uri": "https://localhost:8080/",
          "height": 204
        },
        "id": "8Qvr-IFUe3eW",
        "outputId": "b031de6f-c6d6-422f-b058-d0a9e42d9cb6"
      },
      "execution_count": 71,
      "outputs": [
        {
          "output_type": "execute_result",
          "data": {
            "text/plain": [
              "       Climate_Region_Pub DIVISION REPORTABLE_DOMAIN DOLELCOL TOTALDOLCOL  \\\n",
              "count               10875    10875             10875    10875       10875   \n",
              "unique                  5       10                27     8854        1140   \n",
              "top                     1        5                26        0           0   \n",
              "freq                 3593     2029              1442     1938        1941   \n",
              "\n",
              "       KWHCOL BTUELCOL TOTALBTUCOL TOTALDOLSPH TOTALBTUSPH  ... LGT1EE  \\\n",
              "count   10875    10875       10875       10875       10875  ...  10875   \n",
              "unique   8922     8935        6413        1816        9638  ...     27   \n",
              "top         0        0           0           0           0  ...      0   \n",
              "freq     1938     1938        1938         500         500  ...   3695   \n",
              "\n",
              "       TOTALBTUWTH ROOFTYPE DOLELRFG TOTALDOLRFG HEATROOM WDWATER UGWARM  \\\n",
              "count        10875    10875    10875       10875    10875   10875  10875   \n",
              "unique        8923        9    10630         599       21       2      2   \n",
              "top              0        5        0          82        6       0      1   \n",
              "freq            58     5245       19          93     1952   10866   5457   \n",
              "\n",
              "       DRYRFUEL KWHRFG  \n",
              "count     10875  10875  \n",
              "unique        4  10829  \n",
              "top           5      0  \n",
              "freq       6964     18  \n",
              "\n",
              "[4 rows x 121 columns]"
            ],
            "text/html": [
              "\n",
              "  <div id=\"df-fbbed846-66ba-47c0-b6ec-40da0bbf00ff\" class=\"colab-df-container\">\n",
              "    <div>\n",
              "<style scoped>\n",
              "    .dataframe tbody tr th:only-of-type {\n",
              "        vertical-align: middle;\n",
              "    }\n",
              "\n",
              "    .dataframe tbody tr th {\n",
              "        vertical-align: top;\n",
              "    }\n",
              "\n",
              "    .dataframe thead th {\n",
              "        text-align: right;\n",
              "    }\n",
              "</style>\n",
              "<table border=\"1\" class=\"dataframe\">\n",
              "  <thead>\n",
              "    <tr style=\"text-align: right;\">\n",
              "      <th></th>\n",
              "      <th>Climate_Region_Pub</th>\n",
              "      <th>DIVISION</th>\n",
              "      <th>REPORTABLE_DOMAIN</th>\n",
              "      <th>DOLELCOL</th>\n",
              "      <th>TOTALDOLCOL</th>\n",
              "      <th>KWHCOL</th>\n",
              "      <th>BTUELCOL</th>\n",
              "      <th>TOTALBTUCOL</th>\n",
              "      <th>TOTALDOLSPH</th>\n",
              "      <th>TOTALBTUSPH</th>\n",
              "      <th>...</th>\n",
              "      <th>LGT1EE</th>\n",
              "      <th>TOTALBTUWTH</th>\n",
              "      <th>ROOFTYPE</th>\n",
              "      <th>DOLELRFG</th>\n",
              "      <th>TOTALDOLRFG</th>\n",
              "      <th>HEATROOM</th>\n",
              "      <th>WDWATER</th>\n",
              "      <th>UGWARM</th>\n",
              "      <th>DRYRFUEL</th>\n",
              "      <th>KWHRFG</th>\n",
              "    </tr>\n",
              "  </thead>\n",
              "  <tbody>\n",
              "    <tr>\n",
              "      <th>count</th>\n",
              "      <td>10875</td>\n",
              "      <td>10875</td>\n",
              "      <td>10875</td>\n",
              "      <td>10875</td>\n",
              "      <td>10875</td>\n",
              "      <td>10875</td>\n",
              "      <td>10875</td>\n",
              "      <td>10875</td>\n",
              "      <td>10875</td>\n",
              "      <td>10875</td>\n",
              "      <td>...</td>\n",
              "      <td>10875</td>\n",
              "      <td>10875</td>\n",
              "      <td>10875</td>\n",
              "      <td>10875</td>\n",
              "      <td>10875</td>\n",
              "      <td>10875</td>\n",
              "      <td>10875</td>\n",
              "      <td>10875</td>\n",
              "      <td>10875</td>\n",
              "      <td>10875</td>\n",
              "    </tr>\n",
              "    <tr>\n",
              "      <th>unique</th>\n",
              "      <td>5</td>\n",
              "      <td>10</td>\n",
              "      <td>27</td>\n",
              "      <td>8854</td>\n",
              "      <td>1140</td>\n",
              "      <td>8922</td>\n",
              "      <td>8935</td>\n",
              "      <td>6413</td>\n",
              "      <td>1816</td>\n",
              "      <td>9638</td>\n",
              "      <td>...</td>\n",
              "      <td>27</td>\n",
              "      <td>8923</td>\n",
              "      <td>9</td>\n",
              "      <td>10630</td>\n",
              "      <td>599</td>\n",
              "      <td>21</td>\n",
              "      <td>2</td>\n",
              "      <td>2</td>\n",
              "      <td>4</td>\n",
              "      <td>10829</td>\n",
              "    </tr>\n",
              "    <tr>\n",
              "      <th>top</th>\n",
              "      <td>1</td>\n",
              "      <td>5</td>\n",
              "      <td>26</td>\n",
              "      <td>0</td>\n",
              "      <td>0</td>\n",
              "      <td>0</td>\n",
              "      <td>0</td>\n",
              "      <td>0</td>\n",
              "      <td>0</td>\n",
              "      <td>0</td>\n",
              "      <td>...</td>\n",
              "      <td>0</td>\n",
              "      <td>0</td>\n",
              "      <td>5</td>\n",
              "      <td>0</td>\n",
              "      <td>82</td>\n",
              "      <td>6</td>\n",
              "      <td>0</td>\n",
              "      <td>1</td>\n",
              "      <td>5</td>\n",
              "      <td>0</td>\n",
              "    </tr>\n",
              "    <tr>\n",
              "      <th>freq</th>\n",
              "      <td>3593</td>\n",
              "      <td>2029</td>\n",
              "      <td>1442</td>\n",
              "      <td>1938</td>\n",
              "      <td>1941</td>\n",
              "      <td>1938</td>\n",
              "      <td>1938</td>\n",
              "      <td>1938</td>\n",
              "      <td>500</td>\n",
              "      <td>500</td>\n",
              "      <td>...</td>\n",
              "      <td>3695</td>\n",
              "      <td>58</td>\n",
              "      <td>5245</td>\n",
              "      <td>19</td>\n",
              "      <td>93</td>\n",
              "      <td>1952</td>\n",
              "      <td>10866</td>\n",
              "      <td>5457</td>\n",
              "      <td>6964</td>\n",
              "      <td>18</td>\n",
              "    </tr>\n",
              "  </tbody>\n",
              "</table>\n",
              "<p>4 rows × 121 columns</p>\n",
              "</div>\n",
              "    <div class=\"colab-df-buttons\">\n",
              "\n",
              "  <div class=\"colab-df-container\">\n",
              "    <button class=\"colab-df-convert\" onclick=\"convertToInteractive('df-fbbed846-66ba-47c0-b6ec-40da0bbf00ff')\"\n",
              "            title=\"Convert this dataframe to an interactive table.\"\n",
              "            style=\"display:none;\">\n",
              "\n",
              "  <svg xmlns=\"http://www.w3.org/2000/svg\" height=\"24px\" viewBox=\"0 -960 960 960\">\n",
              "    <path d=\"M120-120v-720h720v720H120Zm60-500h600v-160H180v160Zm220 220h160v-160H400v160Zm0 220h160v-160H400v160ZM180-400h160v-160H180v160Zm440 0h160v-160H620v160ZM180-180h160v-160H180v160Zm440 0h160v-160H620v160Z\"/>\n",
              "  </svg>\n",
              "    </button>\n",
              "\n",
              "  <style>\n",
              "    .colab-df-container {\n",
              "      display:flex;\n",
              "      gap: 12px;\n",
              "    }\n",
              "\n",
              "    .colab-df-convert {\n",
              "      background-color: #E8F0FE;\n",
              "      border: none;\n",
              "      border-radius: 50%;\n",
              "      cursor: pointer;\n",
              "      display: none;\n",
              "      fill: #1967D2;\n",
              "      height: 32px;\n",
              "      padding: 0 0 0 0;\n",
              "      width: 32px;\n",
              "    }\n",
              "\n",
              "    .colab-df-convert:hover {\n",
              "      background-color: #E2EBFA;\n",
              "      box-shadow: 0px 1px 2px rgba(60, 64, 67, 0.3), 0px 1px 3px 1px rgba(60, 64, 67, 0.15);\n",
              "      fill: #174EA6;\n",
              "    }\n",
              "\n",
              "    .colab-df-buttons div {\n",
              "      margin-bottom: 4px;\n",
              "    }\n",
              "\n",
              "    [theme=dark] .colab-df-convert {\n",
              "      background-color: #3B4455;\n",
              "      fill: #D2E3FC;\n",
              "    }\n",
              "\n",
              "    [theme=dark] .colab-df-convert:hover {\n",
              "      background-color: #434B5C;\n",
              "      box-shadow: 0px 1px 3px 1px rgba(0, 0, 0, 0.15);\n",
              "      filter: drop-shadow(0px 1px 2px rgba(0, 0, 0, 0.3));\n",
              "      fill: #FFFFFF;\n",
              "    }\n",
              "  </style>\n",
              "\n",
              "    <script>\n",
              "      const buttonEl =\n",
              "        document.querySelector('#df-fbbed846-66ba-47c0-b6ec-40da0bbf00ff button.colab-df-convert');\n",
              "      buttonEl.style.display =\n",
              "        google.colab.kernel.accessAllowed ? 'block' : 'none';\n",
              "\n",
              "      async function convertToInteractive(key) {\n",
              "        const element = document.querySelector('#df-fbbed846-66ba-47c0-b6ec-40da0bbf00ff');\n",
              "        const dataTable =\n",
              "          await google.colab.kernel.invokeFunction('convertToInteractive',\n",
              "                                                    [key], {});\n",
              "        if (!dataTable) return;\n",
              "\n",
              "        const docLinkHtml = 'Like what you see? Visit the ' +\n",
              "          '<a target=\"_blank\" href=https://colab.research.google.com/notebooks/data_table.ipynb>data table notebook</a>'\n",
              "          + ' to learn more about interactive tables.';\n",
              "        element.innerHTML = '';\n",
              "        dataTable['output_type'] = 'display_data';\n",
              "        await google.colab.output.renderOutput(dataTable, element);\n",
              "        const docLink = document.createElement('div');\n",
              "        docLink.innerHTML = docLinkHtml;\n",
              "        element.appendChild(docLink);\n",
              "      }\n",
              "    </script>\n",
              "  </div>\n",
              "\n",
              "\n",
              "<div id=\"df-0c002213-aa02-4dbc-9a7e-61007ad2eeb9\">\n",
              "  <button class=\"colab-df-quickchart\" onclick=\"quickchart('df-0c002213-aa02-4dbc-9a7e-61007ad2eeb9')\"\n",
              "            title=\"Suggest charts\"\n",
              "            style=\"display:none;\">\n",
              "\n",
              "<svg xmlns=\"http://www.w3.org/2000/svg\" height=\"24px\"viewBox=\"0 0 24 24\"\n",
              "     width=\"24px\">\n",
              "    <g>\n",
              "        <path d=\"M19 3H5c-1.1 0-2 .9-2 2v14c0 1.1.9 2 2 2h14c1.1 0 2-.9 2-2V5c0-1.1-.9-2-2-2zM9 17H7v-7h2v7zm4 0h-2V7h2v10zm4 0h-2v-4h2v4z\"/>\n",
              "    </g>\n",
              "</svg>\n",
              "  </button>\n",
              "\n",
              "<style>\n",
              "  .colab-df-quickchart {\n",
              "      --bg-color: #E8F0FE;\n",
              "      --fill-color: #1967D2;\n",
              "      --hover-bg-color: #E2EBFA;\n",
              "      --hover-fill-color: #174EA6;\n",
              "      --disabled-fill-color: #AAA;\n",
              "      --disabled-bg-color: #DDD;\n",
              "  }\n",
              "\n",
              "  [theme=dark] .colab-df-quickchart {\n",
              "      --bg-color: #3B4455;\n",
              "      --fill-color: #D2E3FC;\n",
              "      --hover-bg-color: #434B5C;\n",
              "      --hover-fill-color: #FFFFFF;\n",
              "      --disabled-bg-color: #3B4455;\n",
              "      --disabled-fill-color: #666;\n",
              "  }\n",
              "\n",
              "  .colab-df-quickchart {\n",
              "    background-color: var(--bg-color);\n",
              "    border: none;\n",
              "    border-radius: 50%;\n",
              "    cursor: pointer;\n",
              "    display: none;\n",
              "    fill: var(--fill-color);\n",
              "    height: 32px;\n",
              "    padding: 0;\n",
              "    width: 32px;\n",
              "  }\n",
              "\n",
              "  .colab-df-quickchart:hover {\n",
              "    background-color: var(--hover-bg-color);\n",
              "    box-shadow: 0 1px 2px rgba(60, 64, 67, 0.3), 0 1px 3px 1px rgba(60, 64, 67, 0.15);\n",
              "    fill: var(--button-hover-fill-color);\n",
              "  }\n",
              "\n",
              "  .colab-df-quickchart-complete:disabled,\n",
              "  .colab-df-quickchart-complete:disabled:hover {\n",
              "    background-color: var(--disabled-bg-color);\n",
              "    fill: var(--disabled-fill-color);\n",
              "    box-shadow: none;\n",
              "  }\n",
              "\n",
              "  .colab-df-spinner {\n",
              "    border: 2px solid var(--fill-color);\n",
              "    border-color: transparent;\n",
              "    border-bottom-color: var(--fill-color);\n",
              "    animation:\n",
              "      spin 1s steps(1) infinite;\n",
              "  }\n",
              "\n",
              "  @keyframes spin {\n",
              "    0% {\n",
              "      border-color: transparent;\n",
              "      border-bottom-color: var(--fill-color);\n",
              "      border-left-color: var(--fill-color);\n",
              "    }\n",
              "    20% {\n",
              "      border-color: transparent;\n",
              "      border-left-color: var(--fill-color);\n",
              "      border-top-color: var(--fill-color);\n",
              "    }\n",
              "    30% {\n",
              "      border-color: transparent;\n",
              "      border-left-color: var(--fill-color);\n",
              "      border-top-color: var(--fill-color);\n",
              "      border-right-color: var(--fill-color);\n",
              "    }\n",
              "    40% {\n",
              "      border-color: transparent;\n",
              "      border-right-color: var(--fill-color);\n",
              "      border-top-color: var(--fill-color);\n",
              "    }\n",
              "    60% {\n",
              "      border-color: transparent;\n",
              "      border-right-color: var(--fill-color);\n",
              "    }\n",
              "    80% {\n",
              "      border-color: transparent;\n",
              "      border-right-color: var(--fill-color);\n",
              "      border-bottom-color: var(--fill-color);\n",
              "    }\n",
              "    90% {\n",
              "      border-color: transparent;\n",
              "      border-bottom-color: var(--fill-color);\n",
              "    }\n",
              "  }\n",
              "</style>\n",
              "\n",
              "  <script>\n",
              "    async function quickchart(key) {\n",
              "      const quickchartButtonEl =\n",
              "        document.querySelector('#' + key + ' button');\n",
              "      quickchartButtonEl.disabled = true;  // To prevent multiple clicks.\n",
              "      quickchartButtonEl.classList.add('colab-df-spinner');\n",
              "      try {\n",
              "        const charts = await google.colab.kernel.invokeFunction(\n",
              "            'suggestCharts', [key], {});\n",
              "      } catch (error) {\n",
              "        console.error('Error during call to suggestCharts:', error);\n",
              "      }\n",
              "      quickchartButtonEl.classList.remove('colab-df-spinner');\n",
              "      quickchartButtonEl.classList.add('colab-df-quickchart-complete');\n",
              "    }\n",
              "    (() => {\n",
              "      let quickchartButtonEl =\n",
              "        document.querySelector('#df-0c002213-aa02-4dbc-9a7e-61007ad2eeb9 button');\n",
              "      quickchartButtonEl.style.display =\n",
              "        google.colab.kernel.accessAllowed ? 'block' : 'none';\n",
              "    })();\n",
              "  </script>\n",
              "</div>\n",
              "    </div>\n",
              "  </div>\n"
            ]
          },
          "metadata": {},
          "execution_count": 71
        }
      ]
    },
    {
      "cell_type": "code",
      "source": [
        "df.info()"
      ],
      "metadata": {
        "colab": {
          "base_uri": "https://localhost:8080/"
        },
        "id": "0oeQbDxZe5SY",
        "outputId": "26c5d468-41bd-4794-a58c-c83d8ba6a7c1"
      },
      "execution_count": 72,
      "outputs": [
        {
          "output_type": "stream",
          "name": "stdout",
          "text": [
            "<class 'pandas.core.frame.DataFrame'>\n",
            "RangeIndex: 10875 entries, 0 to 10874\n",
            "Columns: 121 entries, Climate_Region_Pub to KWHRFG\n",
            "dtypes: object(121)\n",
            "memory usage: 10.0+ MB\n"
          ]
        }
      ]
    },
    {
      "cell_type": "code",
      "source": [
        "#drop bad rows\n",
        "heads: list = list(df.columns)\n",
        "errs: int = 1\n",
        "\n",
        "while errs != 0:\n",
        "    errs = 0\n",
        "    for head in heads:\n",
        "        try:\n",
        "            df[head] = df[head].astype(float)\n",
        "        except ValueError:\n",
        "            errs += 1\n",
        "            err = exc_info()[1].args[0].split('\\'')[1]\n",
        "            df = df.loc[df[head] != err]\n",
        "\n",
        "print('DONE')"
      ],
      "metadata": {
        "colab": {
          "base_uri": "https://localhost:8080/"
        },
        "id": "CNQSVJlXfEGf",
        "outputId": "0616d767-cabe-466d-b73a-bdc335eec49c"
      },
      "execution_count": 73,
      "outputs": [
        {
          "output_type": "stream",
          "name": "stderr",
          "text": [
            "<ipython-input-73-0f749810a8fe>:9: SettingWithCopyWarning: \n",
            "A value is trying to be set on a copy of a slice from a DataFrame.\n",
            "Try using .loc[row_indexer,col_indexer] = value instead\n",
            "\n",
            "See the caveats in the documentation: https://pandas.pydata.org/pandas-docs/stable/user_guide/indexing.html#returning-a-view-versus-a-copy\n",
            "  df[head] = df[head].astype(float)\n"
          ]
        },
        {
          "output_type": "stream",
          "name": "stdout",
          "text": [
            "DONE\n"
          ]
        }
      ]
    },
    {
      "cell_type": "code",
      "source": [
        "df.info()"
      ],
      "metadata": {
        "colab": {
          "base_uri": "https://localhost:8080/"
        },
        "id": "Ld1TbydLffa5",
        "outputId": "15ddc693-d641-4d75-eae1-4e1cb359233b"
      },
      "execution_count": 74,
      "outputs": [
        {
          "output_type": "stream",
          "name": "stdout",
          "text": [
            "<class 'pandas.core.frame.DataFrame'>\n",
            "Int64Index: 10785 entries, 0 to 10874\n",
            "Columns: 121 entries, Climate_Region_Pub to KWHRFG\n",
            "dtypes: float64(121)\n",
            "memory usage: 10.0 MB\n"
          ]
        }
      ]
    },
    {
      "cell_type": "code",
      "source": [
        "X = df.drop(['TOTALBTUSPH'], axis=1)\n",
        "y = df['TOTALBTUSPH']"
      ],
      "metadata": {
        "id": "3xEUdFbDfnxm"
      },
      "execution_count": 75,
      "outputs": []
    },
    {
      "cell_type": "code",
      "source": [
        "scaler = MinMaxScaler()\n",
        "X = scaler.fit_transform(X)"
      ],
      "metadata": {
        "id": "3rZpYYi6fwJc"
      },
      "execution_count": 76,
      "outputs": []
    },
    {
      "cell_type": "code",
      "source": [
        "X1, X_, y1, y_ = train_test_split(\n",
        "    X,\n",
        "    y,\n",
        "    test_size=0.2,\n",
        "    random_state=0,\n",
        ")\n",
        "X2, X3, y2, y3 = train_test_split(\n",
        "    X_,\n",
        "    y_,\n",
        "    test_size=0.5,\n",
        "    random_state=0,\n",
        ")\n",
        "\n",
        "print(f'Train : {X1.shape}, Test : {X2.shape}, Val: {X3.shape}')"
      ],
      "metadata": {
        "colab": {
          "base_uri": "https://localhost:8080/"
        },
        "id": "c38WYroYfy-f",
        "outputId": "71405984-1eb7-4ab4-df60-d3f5d558f607"
      },
      "execution_count": 77,
      "outputs": [
        {
          "output_type": "stream",
          "name": "stdout",
          "text": [
            "Train : (8628, 120), Test : (1078, 120), Val: (1079, 120)\n"
          ]
        }
      ]
    },
    {
      "cell_type": "code",
      "source": [
        "regressor = Sequential()\n",
        "regressor.add(\n",
        "    Dense(\n",
        "        64,\n",
        "        activation='relu',\n",
        "        input_dim=X1.shape[1]\n",
        "    )\n",
        ")\n",
        "regressor.add(\n",
        "    Dense(\n",
        "        32,\n",
        "        activation='relu',\n",
        "    )\n",
        ")\n",
        "\n",
        "regressor.add(\n",
        "    Dense(\n",
        "        1,\n",
        "        activation='linear'\n",
        "    )\n",
        ")\n",
        "\n",
        "regressor.summary()"
      ],
      "metadata": {
        "colab": {
          "base_uri": "https://localhost:8080/"
        },
        "id": "59Zc1Y-yf4Oe",
        "outputId": "a1efaa88-5503-4741-b8ec-0e54326cb7fc"
      },
      "execution_count": 78,
      "outputs": [
        {
          "output_type": "stream",
          "name": "stdout",
          "text": [
            "Model: \"sequential_4\"\n",
            "_________________________________________________________________\n",
            " Layer (type)                Output Shape              Param #   \n",
            "=================================================================\n",
            " dense_9 (Dense)             (None, 64)                7744      \n",
            "                                                                 \n",
            " dense_10 (Dense)            (None, 32)                2080      \n",
            "                                                                 \n",
            " dense_11 (Dense)            (None, 1)                 33        \n",
            "                                                                 \n",
            "=================================================================\n",
            "Total params: 9857 (38.50 KB)\n",
            "Trainable params: 9857 (38.50 KB)\n",
            "Non-trainable params: 0 (0.00 Byte)\n",
            "_________________________________________________________________\n"
          ]
        }
      ]
    },
    {
      "cell_type": "code",
      "source": [
        "regressor.compile(\n",
        "    loss='mse',\n",
        "    optimizer='adam',\n",
        "    metrics='mae',\n",
        ")"
      ],
      "metadata": {
        "id": "NOFj_DrogD3D"
      },
      "execution_count": 79,
      "outputs": []
    },
    {
      "cell_type": "code",
      "source": [
        "early_stop = EarlyStopping(\n",
        "    monitor='val_mse',\n",
        "    patience=10,\n",
        "    mode='min',\n",
        "    verbose=1,\n",
        ")\n",
        "checkpoint = ModelCheckpoint(\n",
        "    '/content/checkFile.hdf5',\n",
        "    monitor='val_loss',\n",
        "    verbose=1,\n",
        "    mode='min',\n",
        "    save_best_only=True,\n",
        ")\n",
        "callbacks_list = [early_stop, checkpoint]"
      ],
      "metadata": {
        "id": "Bg9f_edwgK4r"
      },
      "execution_count": 80,
      "outputs": []
    },
    {
      "cell_type": "code",
      "source": [
        "regressor_history = regressor.fit(\n",
        "    X1,\n",
        "    y1,\n",
        "    batch_size=300,\n",
        "    validation_data=(X3, y3),\n",
        "    callbacks=callbacks_list,\n",
        "    epochs=350,\n",
        ")"
      ],
      "metadata": {
        "colab": {
          "base_uri": "https://localhost:8080/"
        },
        "id": "MEidl-gRgnk0",
        "outputId": "0c82c33f-793b-46da-bb84-9ff2dd7127f0"
      },
      "execution_count": 81,
      "outputs": [
        {
          "output_type": "stream",
          "name": "stdout",
          "text": [
            "Epoch 1/350\n",
            "18/29 [=================>............] - ETA: 0s - loss: 2594699008.0000 - mae: 36422.8125 "
          ]
        },
        {
          "output_type": "stream",
          "name": "stderr",
          "text": [
            "WARNING:tensorflow:Early stopping conditioned on metric `val_mse` which is not available. Available metrics are: loss,mae,val_loss,val_mae\n"
          ]
        },
        {
          "output_type": "stream",
          "name": "stdout",
          "text": [
            "\n",
            "Epoch 1: val_loss improved from inf to 2458357504.00000, saving model to /content/checkFile.hdf5\n",
            "29/29 [==============================] - 1s 9ms/step - loss: 2633272064.0000 - mae: 36828.2188 - val_loss: 2458357504.0000 - val_mae: 36279.7461\n",
            "Epoch 2/350\n",
            "21/29 [====================>.........] - ETA: 0s - loss: 2632814080.0000 - mae: 37016.9414"
          ]
        },
        {
          "output_type": "stream",
          "name": "stderr",
          "text": [
            "/usr/local/lib/python3.10/dist-packages/keras/src/engine/training.py:3079: UserWarning: You are saving your model as an HDF5 file via `model.save()`. This file format is considered legacy. We recommend using instead the native Keras format, e.g. `model.save('my_model.keras')`.\n",
            "  saving_api.save_model(\n",
            "WARNING:tensorflow:Early stopping conditioned on metric `val_mse` which is not available. Available metrics are: loss,mae,val_loss,val_mae\n"
          ]
        },
        {
          "output_type": "stream",
          "name": "stdout",
          "text": [
            "\n",
            "Epoch 2: val_loss improved from 2458357504.00000 to 2457059840.00000, saving model to /content/checkFile.hdf5\n",
            "29/29 [==============================] - 0s 5ms/step - loss: 2632530688.0000 - mae: 36819.3633 - val_loss: 2457059840.0000 - val_mae: 36263.9766\n",
            "Epoch 3/350\n",
            "23/29 [======================>.......] - ETA: 0s - loss: 2609347328.0000 - mae: 36685.8867"
          ]
        },
        {
          "output_type": "stream",
          "name": "stderr",
          "text": [
            "WARNING:tensorflow:Early stopping conditioned on metric `val_mse` which is not available. Available metrics are: loss,mae,val_loss,val_mae\n"
          ]
        },
        {
          "output_type": "stream",
          "name": "stdout",
          "text": [
            "\n",
            "Epoch 3: val_loss improved from 2457059840.00000 to 2453618944.00000, saving model to /content/checkFile.hdf5\n",
            "29/29 [==============================] - 0s 4ms/step - loss: 2630305024.0000 - mae: 36792.9414 - val_loss: 2453618944.0000 - val_mae: 36222.0859\n",
            "Epoch 4/350\n",
            "22/29 [=====================>........] - ETA: 0s - loss: 2639598080.0000 - mae: 37003.0859"
          ]
        },
        {
          "output_type": "stream",
          "name": "stderr",
          "text": [
            "WARNING:tensorflow:Early stopping conditioned on metric `val_mse` which is not available. Available metrics are: loss,mae,val_loss,val_mae\n"
          ]
        },
        {
          "output_type": "stream",
          "name": "stdout",
          "text": [
            "\n",
            "Epoch 4: val_loss improved from 2453618944.00000 to 2446464512.00000, saving model to /content/checkFile.hdf5\n",
            "29/29 [==============================] - 0s 5ms/step - loss: 2625202688.0000 - mae: 36732.0117 - val_loss: 2446464512.0000 - val_mae: 36134.8125\n",
            "Epoch 5/350\n",
            "24/29 [=======================>......] - ETA: 0s - loss: 2595289856.0000 - mae: 36520.7227"
          ]
        },
        {
          "output_type": "stream",
          "name": "stderr",
          "text": [
            "WARNING:tensorflow:Early stopping conditioned on metric `val_mse` which is not available. Available metrics are: loss,mae,val_loss,val_mae\n"
          ]
        },
        {
          "output_type": "stream",
          "name": "stdout",
          "text": [
            "\n",
            "Epoch 5: val_loss improved from 2446464512.00000 to 2434015232.00000, saving model to /content/checkFile.hdf5\n",
            "29/29 [==============================] - 0s 4ms/step - loss: 2615537920.0000 - mae: 36617.4492 - val_loss: 2434015232.0000 - val_mae: 35982.4609\n",
            "Epoch 6/350\n",
            "23/29 [======================>.......] - ETA: 0s - loss: 2619812352.0000 - mae: 36734.3242"
          ]
        },
        {
          "output_type": "stream",
          "name": "stderr",
          "text": [
            "WARNING:tensorflow:Early stopping conditioned on metric `val_mse` which is not available. Available metrics are: loss,mae,val_loss,val_mae\n"
          ]
        },
        {
          "output_type": "stream",
          "name": "stdout",
          "text": [
            "\n",
            "Epoch 6: val_loss improved from 2434015232.00000 to 2414640896.00000, saving model to /content/checkFile.hdf5\n",
            "29/29 [==============================] - 0s 5ms/step - loss: 2599841792.0000 - mae: 36429.4883 - val_loss: 2414640896.0000 - val_mae: 35744.0820\n",
            "Epoch 7/350\n",
            "24/29 [=======================>......] - ETA: 0s - loss: 2559781632.0000 - mae: 35910.2383"
          ]
        },
        {
          "output_type": "stream",
          "name": "stderr",
          "text": [
            "WARNING:tensorflow:Early stopping conditioned on metric `val_mse` which is not available. Available metrics are: loss,mae,val_loss,val_mae\n"
          ]
        },
        {
          "output_type": "stream",
          "name": "stdout",
          "text": [
            "\n",
            "Epoch 7: val_loss improved from 2414640896.00000 to 2386709760.00000, saving model to /content/checkFile.hdf5\n",
            "29/29 [==============================] - 0s 4ms/step - loss: 2576211456.0000 - mae: 36144.9922 - val_loss: 2386709760.0000 - val_mae: 35397.5859\n",
            "Epoch 8/350\n",
            "20/29 [===================>..........] - ETA: 0s - loss: 2510122240.0000 - mae: 35274.9375"
          ]
        },
        {
          "output_type": "stream",
          "name": "stderr",
          "text": [
            "WARNING:tensorflow:Early stopping conditioned on metric `val_mse` which is not available. Available metrics are: loss,mae,val_loss,val_mae\n"
          ]
        },
        {
          "output_type": "stream",
          "name": "stdout",
          "text": [
            "\n",
            "Epoch 8: val_loss improved from 2386709760.00000 to 2348771840.00000, saving model to /content/checkFile.hdf5\n",
            "29/29 [==============================] - 0s 4ms/step - loss: 2543181056.0000 - mae: 35747.4570 - val_loss: 2348771840.0000 - val_mae: 34923.9766\n",
            "Epoch 9/350\n",
            "20/29 [===================>..........] - ETA: 0s - loss: 2509660160.0000 - mae: 35423.9531"
          ]
        },
        {
          "output_type": "stream",
          "name": "stderr",
          "text": [
            "WARNING:tensorflow:Early stopping conditioned on metric `val_mse` which is not available. Available metrics are: loss,mae,val_loss,val_mae\n"
          ]
        },
        {
          "output_type": "stream",
          "name": "stdout",
          "text": [
            "\n",
            "Epoch 9: val_loss improved from 2348771840.00000 to 2299554304.00000, saving model to /content/checkFile.hdf5\n",
            "29/29 [==============================] - 0s 4ms/step - loss: 2499731200.0000 - mae: 35218.2500 - val_loss: 2299554304.0000 - val_mae: 34308.3281\n",
            "Epoch 10/350\n",
            "23/29 [======================>.......] - ETA: 0s - loss: 2439698176.0000 - mae: 34496.3164"
          ]
        },
        {
          "output_type": "stream",
          "name": "stderr",
          "text": [
            "WARNING:tensorflow:Early stopping conditioned on metric `val_mse` which is not available. Available metrics are: loss,mae,val_loss,val_mae\n"
          ]
        },
        {
          "output_type": "stream",
          "name": "stdout",
          "text": [
            "\n",
            "Epoch 10: val_loss improved from 2299554304.00000 to 2239004416.00000, saving model to /content/checkFile.hdf5\n",
            "29/29 [==============================] - 0s 5ms/step - loss: 2444574464.0000 - mae: 34555.0703 - val_loss: 2239004416.0000 - val_mae: 33560.0977\n",
            "Epoch 11/350\n",
            "23/29 [======================>.......] - ETA: 0s - loss: 2410432768.0000 - mae: 33928.0430"
          ]
        },
        {
          "output_type": "stream",
          "name": "stderr",
          "text": [
            "WARNING:tensorflow:Early stopping conditioned on metric `val_mse` which is not available. Available metrics are: loss,mae,val_loss,val_mae\n"
          ]
        },
        {
          "output_type": "stream",
          "name": "stdout",
          "text": [
            "\n",
            "Epoch 11: val_loss improved from 2239004416.00000 to 2166498560.00000, saving model to /content/checkFile.hdf5\n",
            "29/29 [==============================] - 0s 5ms/step - loss: 2377665792.0000 - mae: 33771.1289 - val_loss: 2166498560.0000 - val_mae: 32687.9336\n",
            "Epoch 12/350\n",
            "22/29 [=====================>........] - ETA: 0s - loss: 2343314688.0000 - mae: 33233.0391"
          ]
        },
        {
          "output_type": "stream",
          "name": "stderr",
          "text": [
            "WARNING:tensorflow:Early stopping conditioned on metric `val_mse` which is not available. Available metrics are: loss,mae,val_loss,val_mae\n"
          ]
        },
        {
          "output_type": "stream",
          "name": "stdout",
          "text": [
            "\n",
            "Epoch 12: val_loss improved from 2166498560.00000 to 2082826624.00000, saving model to /content/checkFile.hdf5\n",
            "29/29 [==============================] - 0s 4ms/step - loss: 2298828800.0000 - mae: 32888.4492 - val_loss: 2082826624.0000 - val_mae: 31721.1602\n",
            "Epoch 13/350\n",
            "24/29 [=======================>......] - ETA: 0s - loss: 2231036416.0000 - mae: 32128.2441"
          ]
        },
        {
          "output_type": "stream",
          "name": "stderr",
          "text": [
            "WARNING:tensorflow:Early stopping conditioned on metric `val_mse` which is not available. Available metrics are: loss,mae,val_loss,val_mae\n"
          ]
        },
        {
          "output_type": "stream",
          "name": "stdout",
          "text": [
            "\n",
            "Epoch 13: val_loss improved from 2082826624.00000 to 1989156352.00000, saving model to /content/checkFile.hdf5\n",
            "29/29 [==============================] - 0s 4ms/step - loss: 2209294592.0000 - mae: 31926.2266 - val_loss: 1989156352.0000 - val_mae: 30697.8027\n",
            "Epoch 14/350\n",
            "21/29 [====================>.........] - ETA: 0s - loss: 2137328256.0000 - mae: 31133.6973"
          ]
        },
        {
          "output_type": "stream",
          "name": "stderr",
          "text": [
            "WARNING:tensorflow:Early stopping conditioned on metric `val_mse` which is not available. Available metrics are: loss,mae,val_loss,val_mae\n"
          ]
        },
        {
          "output_type": "stream",
          "name": "stdout",
          "text": [
            "\n",
            "Epoch 14: val_loss improved from 1989156352.00000 to 1887807744.00000, saving model to /content/checkFile.hdf5\n",
            "29/29 [==============================] - 0s 4ms/step - loss: 2110423296.0000 - mae: 30925.9453 - val_loss: 1887807744.0000 - val_mae: 29666.3867\n",
            "Epoch 15/350\n",
            "23/29 [======================>.......] - ETA: 0s - loss: 2025133312.0000 - mae: 30102.1992"
          ]
        },
        {
          "output_type": "stream",
          "name": "stderr",
          "text": [
            "WARNING:tensorflow:Early stopping conditioned on metric `val_mse` which is not available. Available metrics are: loss,mae,val_loss,val_mae\n"
          ]
        },
        {
          "output_type": "stream",
          "name": "stdout",
          "text": [
            "\n",
            "Epoch 15: val_loss improved from 1887807744.00000 to 1780645760.00000, saving model to /content/checkFile.hdf5\n",
            "29/29 [==============================] - 0s 5ms/step - loss: 2004822656.0000 - mae: 29932.7852 - val_loss: 1780645760.0000 - val_mae: 28631.0020\n",
            "Epoch 16/350\n",
            "24/29 [=======================>......] - ETA: 0s - loss: 1876665984.0000 - mae: 28906.1016"
          ]
        },
        {
          "output_type": "stream",
          "name": "stderr",
          "text": [
            "WARNING:tensorflow:Early stopping conditioned on metric `val_mse` which is not available. Available metrics are: loss,mae,val_loss,val_mae\n"
          ]
        },
        {
          "output_type": "stream",
          "name": "stdout",
          "text": [
            "\n",
            "Epoch 16: val_loss improved from 1780645760.00000 to 1671899776.00000, saving model to /content/checkFile.hdf5\n",
            "29/29 [==============================] - 0s 4ms/step - loss: 1894055552.0000 - mae: 28974.3516 - val_loss: 1671899776.0000 - val_mae: 27688.7148\n",
            "Epoch 17/350\n",
            "24/29 [=======================>......] - ETA: 0s - loss: 1781141888.0000 - mae: 27956.5273"
          ]
        },
        {
          "output_type": "stream",
          "name": "stderr",
          "text": [
            "WARNING:tensorflow:Early stopping conditioned on metric `val_mse` which is not available. Available metrics are: loss,mae,val_loss,val_mae\n"
          ]
        },
        {
          "output_type": "stream",
          "name": "stdout",
          "text": [
            "\n",
            "Epoch 17: val_loss improved from 1671899776.00000 to 1562766976.00000, saving model to /content/checkFile.hdf5\n",
            "29/29 [==============================] - 0s 5ms/step - loss: 1782543232.0000 - mae: 28104.9023 - val_loss: 1562766976.0000 - val_mae: 26872.5840\n",
            "Epoch 18/350\n",
            "25/29 [========================>.....] - ETA: 0s - loss: 1694657408.0000 - mae: 27426.9980"
          ]
        },
        {
          "output_type": "stream",
          "name": "stderr",
          "text": [
            "WARNING:tensorflow:Early stopping conditioned on metric `val_mse` which is not available. Available metrics are: loss,mae,val_loss,val_mae\n"
          ]
        },
        {
          "output_type": "stream",
          "name": "stdout",
          "text": [
            "\n",
            "Epoch 18: val_loss improved from 1562766976.00000 to 1457346944.00000, saving model to /content/checkFile.hdf5\n",
            "29/29 [==============================] - 0s 4ms/step - loss: 1673019392.0000 - mae: 27344.5684 - val_loss: 1457346944.0000 - val_mae: 26219.2969\n",
            "Epoch 19/350\n",
            "24/29 [=======================>......] - ETA: 0s - loss: 1588055296.0000 - mae: 26884.3535"
          ]
        },
        {
          "output_type": "stream",
          "name": "stderr",
          "text": [
            "WARNING:tensorflow:Early stopping conditioned on metric `val_mse` which is not available. Available metrics are: loss,mae,val_loss,val_mae\n"
          ]
        },
        {
          "output_type": "stream",
          "name": "stdout",
          "text": [
            "\n",
            "Epoch 19: val_loss improved from 1457346944.00000 to 1359100160.00000, saving model to /content/checkFile.hdf5\n",
            "29/29 [==============================] - 0s 4ms/step - loss: 1568403584.0000 - mae: 26725.5312 - val_loss: 1359100160.0000 - val_mae: 25676.2188\n",
            "Epoch 20/350\n",
            "24/29 [=======================>......] - ETA: 0s - loss: 1486944384.0000 - mae: 26300.2090"
          ]
        },
        {
          "output_type": "stream",
          "name": "stderr",
          "text": [
            "WARNING:tensorflow:Early stopping conditioned on metric `val_mse` which is not available. Available metrics are: loss,mae,val_loss,val_mae\n"
          ]
        },
        {
          "output_type": "stream",
          "name": "stdout",
          "text": [
            "\n",
            "Epoch 20: val_loss improved from 1359100160.00000 to 1270724480.00000, saving model to /content/checkFile.hdf5\n",
            "29/29 [==============================] - 0s 5ms/step - loss: 1471607168.0000 - mae: 26191.1172 - val_loss: 1270724480.0000 - val_mae: 25236.8965\n",
            "Epoch 21/350\n",
            "24/29 [=======================>......] - ETA: 0s - loss: 1378613248.0000 - mae: 25646.9824"
          ]
        },
        {
          "output_type": "stream",
          "name": "stderr",
          "text": [
            "WARNING:tensorflow:Early stopping conditioned on metric `val_mse` which is not available. Available metrics are: loss,mae,val_loss,val_mae\n"
          ]
        },
        {
          "output_type": "stream",
          "name": "stdout",
          "text": [
            "\n",
            "Epoch 21: val_loss improved from 1270724480.00000 to 1193433600.00000, saving model to /content/checkFile.hdf5\n",
            "29/29 [==============================] - 0s 4ms/step - loss: 1384822784.0000 - mae: 25788.5566 - val_loss: 1193433600.0000 - val_mae: 24867.7461\n",
            "Epoch 22/350\n",
            "25/29 [========================>.....] - ETA: 0s - loss: 1332345216.0000 - mae: 25595.1406"
          ]
        },
        {
          "output_type": "stream",
          "name": "stderr",
          "text": [
            "WARNING:tensorflow:Early stopping conditioned on metric `val_mse` which is not available. Available metrics are: loss,mae,val_loss,val_mae\n"
          ]
        },
        {
          "output_type": "stream",
          "name": "stdout",
          "text": [
            "\n",
            "Epoch 22: val_loss improved from 1193433600.00000 to 1127260672.00000, saving model to /content/checkFile.hdf5\n",
            "29/29 [==============================] - 0s 5ms/step - loss: 1309722496.0000 - mae: 25465.4121 - val_loss: 1127260672.0000 - val_mae: 24563.2402\n",
            "Epoch 23/350\n",
            "24/29 [=======================>......] - ETA: 0s - loss: 1246506240.0000 - mae: 25244.7070"
          ]
        },
        {
          "output_type": "stream",
          "name": "stderr",
          "text": [
            "WARNING:tensorflow:Early stopping conditioned on metric `val_mse` which is not available. Available metrics are: loss,mae,val_loss,val_mae\n"
          ]
        },
        {
          "output_type": "stream",
          "name": "stdout",
          "text": [
            "\n",
            "Epoch 23: val_loss improved from 1127260672.00000 to 1073228480.00000, saving model to /content/checkFile.hdf5\n",
            "29/29 [==============================] - 0s 5ms/step - loss: 1245690752.0000 - mae: 25223.6680 - val_loss: 1073228480.0000 - val_mae: 24321.5801\n",
            "Epoch 24/350\n",
            "22/29 [=====================>........] - ETA: 0s - loss: 1199539200.0000 - mae: 24972.1211"
          ]
        },
        {
          "output_type": "stream",
          "name": "stderr",
          "text": [
            "WARNING:tensorflow:Early stopping conditioned on metric `val_mse` which is not available. Available metrics are: loss,mae,val_loss,val_mae\n"
          ]
        },
        {
          "output_type": "stream",
          "name": "stdout",
          "text": [
            "\n",
            "Epoch 24: val_loss improved from 1073228480.00000 to 1029616576.00000, saving model to /content/checkFile.hdf5\n",
            "29/29 [==============================] - 0s 5ms/step - loss: 1192748672.0000 - mae: 25019.1074 - val_loss: 1029616576.0000 - val_mae: 24134.6816\n",
            "Epoch 25/350\n",
            "23/29 [======================>.......] - ETA: 0s - loss: 1154324608.0000 - mae: 24950.0820"
          ]
        },
        {
          "output_type": "stream",
          "name": "stderr",
          "text": [
            "WARNING:tensorflow:Early stopping conditioned on metric `val_mse` which is not available. Available metrics are: loss,mae,val_loss,val_mae\n"
          ]
        },
        {
          "output_type": "stream",
          "name": "stdout",
          "text": [
            "\n",
            "Epoch 25: val_loss improved from 1029616576.00000 to 993901696.00000, saving model to /content/checkFile.hdf5\n",
            "29/29 [==============================] - 0s 5ms/step - loss: 1149800832.0000 - mae: 24863.4551 - val_loss: 993901696.0000 - val_mae: 23975.3223\n",
            "Epoch 26/350\n",
            "22/29 [=====================>........] - ETA: 0s - loss: 1109503616.0000 - mae: 24662.6328"
          ]
        },
        {
          "output_type": "stream",
          "name": "stderr",
          "text": [
            "WARNING:tensorflow:Early stopping conditioned on metric `val_mse` which is not available. Available metrics are: loss,mae,val_loss,val_mae\n"
          ]
        },
        {
          "output_type": "stream",
          "name": "stdout",
          "text": [
            "\n",
            "Epoch 26: val_loss improved from 993901696.00000 to 965182656.00000, saving model to /content/checkFile.hdf5\n",
            "29/29 [==============================] - 0s 5ms/step - loss: 1114346496.0000 - mae: 24729.6113 - val_loss: 965182656.0000 - val_mae: 23828.1484\n",
            "Epoch 27/350\n",
            "23/29 [======================>.......] - ETA: 0s - loss: 1081101568.0000 - mae: 24552.4688"
          ]
        },
        {
          "output_type": "stream",
          "name": "stderr",
          "text": [
            "WARNING:tensorflow:Early stopping conditioned on metric `val_mse` which is not available. Available metrics are: loss,mae,val_loss,val_mae\n"
          ]
        },
        {
          "output_type": "stream",
          "name": "stdout",
          "text": [
            "\n",
            "Epoch 27: val_loss improved from 965182656.00000 to 940752192.00000, saving model to /content/checkFile.hdf5\n",
            "29/29 [==============================] - 0s 5ms/step - loss: 1085065728.0000 - mae: 24602.7930 - val_loss: 940752192.0000 - val_mae: 23681.1660\n",
            "Epoch 28/350\n",
            "21/29 [====================>.........] - ETA: 0s - loss: 1052860544.0000 - mae: 24466.7598"
          ]
        },
        {
          "output_type": "stream",
          "name": "stderr",
          "text": [
            "WARNING:tensorflow:Early stopping conditioned on metric `val_mse` which is not available. Available metrics are: loss,mae,val_loss,val_mae\n"
          ]
        },
        {
          "output_type": "stream",
          "name": "stdout",
          "text": [
            "\n",
            "Epoch 28: val_loss improved from 940752192.00000 to 919816256.00000, saving model to /content/checkFile.hdf5\n",
            "29/29 [==============================] - 0s 4ms/step - loss: 1059885248.0000 - mae: 24472.8633 - val_loss: 919816256.0000 - val_mae: 23527.8242\n",
            "Epoch 29/350\n",
            "20/29 [===================>..........] - ETA: 0s - loss: 1036911296.0000 - mae: 24313.6719"
          ]
        },
        {
          "output_type": "stream",
          "name": "stderr",
          "text": [
            "WARNING:tensorflow:Early stopping conditioned on metric `val_mse` which is not available. Available metrics are: loss,mae,val_loss,val_mae\n"
          ]
        },
        {
          "output_type": "stream",
          "name": "stdout",
          "text": [
            "\n",
            "Epoch 29: val_loss improved from 919816256.00000 to 901300864.00000, saving model to /content/checkFile.hdf5\n",
            "29/29 [==============================] - 0s 5ms/step - loss: 1037529600.0000 - mae: 24307.8340 - val_loss: 901300864.0000 - val_mae: 23347.6113\n",
            "Epoch 30/350\n",
            "22/29 [=====================>........] - ETA: 0s - loss: 1042034816.0000 - mae: 24347.1484"
          ]
        },
        {
          "output_type": "stream",
          "name": "stderr",
          "text": [
            "WARNING:tensorflow:Early stopping conditioned on metric `val_mse` which is not available. Available metrics are: loss,mae,val_loss,val_mae\n"
          ]
        },
        {
          "output_type": "stream",
          "name": "stdout",
          "text": [
            "\n",
            "Epoch 30: val_loss improved from 901300864.00000 to 883861056.00000, saving model to /content/checkFile.hdf5\n",
            "29/29 [==============================] - 0s 5ms/step - loss: 1017398464.0000 - mae: 24133.8789 - val_loss: 883861056.0000 - val_mae: 23158.5840\n",
            "Epoch 31/350\n",
            "24/29 [=======================>......] - ETA: 0s - loss: 996260480.0000 - mae: 23949.3320 "
          ]
        },
        {
          "output_type": "stream",
          "name": "stderr",
          "text": [
            "WARNING:tensorflow:Early stopping conditioned on metric `val_mse` which is not available. Available metrics are: loss,mae,val_loss,val_mae\n"
          ]
        },
        {
          "output_type": "stream",
          "name": "stdout",
          "text": [
            "\n",
            "Epoch 31: val_loss improved from 883861056.00000 to 867476480.00000, saving model to /content/checkFile.hdf5\n",
            "29/29 [==============================] - 0s 5ms/step - loss: 998133184.0000 - mae: 23928.7559 - val_loss: 867476480.0000 - val_mae: 22940.2422\n",
            "Epoch 32/350\n",
            "22/29 [=====================>........] - ETA: 0s - loss: 964951744.0000 - mae: 23651.1738 "
          ]
        },
        {
          "output_type": "stream",
          "name": "stderr",
          "text": [
            "WARNING:tensorflow:Early stopping conditioned on metric `val_mse` which is not available. Available metrics are: loss,mae,val_loss,val_mae\n"
          ]
        },
        {
          "output_type": "stream",
          "name": "stdout",
          "text": [
            "\n",
            "Epoch 32: val_loss improved from 867476480.00000 to 851718528.00000, saving model to /content/checkFile.hdf5\n",
            "29/29 [==============================] - 0s 4ms/step - loss: 979794944.0000 - mae: 23725.1152 - val_loss: 851718528.0000 - val_mae: 22725.3633\n",
            "Epoch 33/350\n",
            "24/29 [=======================>......] - ETA: 0s - loss: 957123264.0000 - mae: 23531.9551"
          ]
        },
        {
          "output_type": "stream",
          "name": "stderr",
          "text": [
            "WARNING:tensorflow:Early stopping conditioned on metric `val_mse` which is not available. Available metrics are: loss,mae,val_loss,val_mae\n"
          ]
        },
        {
          "output_type": "stream",
          "name": "stdout",
          "text": [
            "\n",
            "Epoch 33: val_loss improved from 851718528.00000 to 836006400.00000, saving model to /content/checkFile.hdf5\n",
            "29/29 [==============================] - 0s 5ms/step - loss: 962201536.0000 - mae: 23517.7441 - val_loss: 836006400.0000 - val_mae: 22510.5078\n",
            "Epoch 34/350\n",
            "21/29 [====================>.........] - ETA: 0s - loss: 950112640.0000 - mae: 23272.2598 "
          ]
        },
        {
          "output_type": "stream",
          "name": "stderr",
          "text": [
            "WARNING:tensorflow:Early stopping conditioned on metric `val_mse` which is not available. Available metrics are: loss,mae,val_loss,val_mae\n"
          ]
        },
        {
          "output_type": "stream",
          "name": "stdout",
          "text": [
            "\n",
            "Epoch 34: val_loss improved from 836006400.00000 to 820625600.00000, saving model to /content/checkFile.hdf5\n",
            "29/29 [==============================] - 0s 4ms/step - loss: 944758784.0000 - mae: 23282.2930 - val_loss: 820625600.0000 - val_mae: 22280.8770\n",
            "Epoch 35/350\n",
            "22/29 [=====================>........] - ETA: 0s - loss: 937735296.0000 - mae: 23065.9219"
          ]
        },
        {
          "output_type": "stream",
          "name": "stderr",
          "text": [
            "WARNING:tensorflow:Early stopping conditioned on metric `val_mse` which is not available. Available metrics are: loss,mae,val_loss,val_mae\n"
          ]
        },
        {
          "output_type": "stream",
          "name": "stdout",
          "text": [
            "\n",
            "Epoch 35: val_loss improved from 820625600.00000 to 805472896.00000, saving model to /content/checkFile.hdf5\n",
            "29/29 [==============================] - 0s 5ms/step - loss: 927637760.0000 - mae: 23042.0176 - val_loss: 805472896.0000 - val_mae: 22045.4492\n",
            "Epoch 36/350\n",
            "22/29 [=====================>........] - ETA: 0s - loss: 895597760.0000 - mae: 22698.4023"
          ]
        },
        {
          "output_type": "stream",
          "name": "stderr",
          "text": [
            "WARNING:tensorflow:Early stopping conditioned on metric `val_mse` which is not available. Available metrics are: loss,mae,val_loss,val_mae\n"
          ]
        },
        {
          "output_type": "stream",
          "name": "stdout",
          "text": [
            "\n",
            "Epoch 36: val_loss improved from 805472896.00000 to 790369792.00000, saving model to /content/checkFile.hdf5\n",
            "29/29 [==============================] - 0s 5ms/step - loss: 910705216.0000 - mae: 22806.7285 - val_loss: 790369792.0000 - val_mae: 21801.3984\n",
            "Epoch 37/350\n",
            "21/29 [====================>.........] - ETA: 0s - loss: 893320512.0000 - mae: 22439.2285"
          ]
        },
        {
          "output_type": "stream",
          "name": "stderr",
          "text": [
            "WARNING:tensorflow:Early stopping conditioned on metric `val_mse` which is not available. Available metrics are: loss,mae,val_loss,val_mae\n"
          ]
        },
        {
          "output_type": "stream",
          "name": "stdout",
          "text": [
            "\n",
            "Epoch 37: val_loss improved from 790369792.00000 to 775435904.00000, saving model to /content/checkFile.hdf5\n",
            "29/29 [==============================] - 0s 4ms/step - loss: 893893952.0000 - mae: 22537.6152 - val_loss: 775435904.0000 - val_mae: 21551.1230\n",
            "Epoch 38/350\n",
            "20/29 [===================>..........] - ETA: 0s - loss: 870164480.0000 - mae: 22277.6914"
          ]
        },
        {
          "output_type": "stream",
          "name": "stderr",
          "text": [
            "WARNING:tensorflow:Early stopping conditioned on metric `val_mse` which is not available. Available metrics are: loss,mae,val_loss,val_mae\n"
          ]
        },
        {
          "output_type": "stream",
          "name": "stdout",
          "text": [
            "\n",
            "Epoch 38: val_loss improved from 775435904.00000 to 760636864.00000, saving model to /content/checkFile.hdf5\n",
            "29/29 [==============================] - 0s 5ms/step - loss: 877127296.0000 - mae: 22282.9922 - val_loss: 760636864.0000 - val_mae: 21289.1855\n",
            "Epoch 39/350\n",
            "21/29 [====================>.........] - ETA: 0s - loss: 875300416.0000 - mae: 22189.6074"
          ]
        },
        {
          "output_type": "stream",
          "name": "stderr",
          "text": [
            "WARNING:tensorflow:Early stopping conditioned on metric `val_mse` which is not available. Available metrics are: loss,mae,val_loss,val_mae\n"
          ]
        },
        {
          "output_type": "stream",
          "name": "stdout",
          "text": [
            "\n",
            "Epoch 39: val_loss improved from 760636864.00000 to 745878144.00000, saving model to /content/checkFile.hdf5\n",
            "29/29 [==============================] - 0s 5ms/step - loss: 860662656.0000 - mae: 22026.0859 - val_loss: 745878144.0000 - val_mae: 21046.8848\n",
            "Epoch 40/350\n",
            "25/29 [========================>.....] - ETA: 0s - loss: 853069952.0000 - mae: 21787.8438"
          ]
        },
        {
          "output_type": "stream",
          "name": "stderr",
          "text": [
            "WARNING:tensorflow:Early stopping conditioned on metric `val_mse` which is not available. Available metrics are: loss,mae,val_loss,val_mae\n"
          ]
        },
        {
          "output_type": "stream",
          "name": "stdout",
          "text": [
            "\n",
            "Epoch 40: val_loss improved from 745878144.00000 to 731130304.00000, saving model to /content/checkFile.hdf5\n",
            "29/29 [==============================] - 0s 5ms/step - loss: 844030464.0000 - mae: 21756.2578 - val_loss: 731130304.0000 - val_mae: 20772.6777\n",
            "Epoch 41/350\n",
            "24/29 [=======================>......] - ETA: 0s - loss: 827480576.0000 - mae: 21448.7383"
          ]
        },
        {
          "output_type": "stream",
          "name": "stderr",
          "text": [
            "WARNING:tensorflow:Early stopping conditioned on metric `val_mse` which is not available. Available metrics are: loss,mae,val_loss,val_mae\n"
          ]
        },
        {
          "output_type": "stream",
          "name": "stdout",
          "text": [
            "\n",
            "Epoch 41: val_loss improved from 731130304.00000 to 716618432.00000, saving model to /content/checkFile.hdf5\n",
            "29/29 [==============================] - 0s 5ms/step - loss: 827555520.0000 - mae: 21476.9023 - val_loss: 716618432.0000 - val_mae: 20498.5918\n",
            "Epoch 42/350\n",
            "23/29 [======================>.......] - ETA: 0s - loss: 790296128.0000 - mae: 21067.6133"
          ]
        },
        {
          "output_type": "stream",
          "name": "stderr",
          "text": [
            "WARNING:tensorflow:Early stopping conditioned on metric `val_mse` which is not available. Available metrics are: loss,mae,val_loss,val_mae\n"
          ]
        },
        {
          "output_type": "stream",
          "name": "stdout",
          "text": [
            "\n",
            "Epoch 42: val_loss improved from 716618432.00000 to 702184768.00000, saving model to /content/checkFile.hdf5\n",
            "29/29 [==============================] - 0s 4ms/step - loss: 811179904.0000 - mae: 21195.6191 - val_loss: 702184768.0000 - val_mae: 20219.1953\n",
            "Epoch 43/350\n",
            "22/29 [=====================>........] - ETA: 0s - loss: 792714624.0000 - mae: 20956.0098"
          ]
        },
        {
          "output_type": "stream",
          "name": "stderr",
          "text": [
            "WARNING:tensorflow:Early stopping conditioned on metric `val_mse` which is not available. Available metrics are: loss,mae,val_loss,val_mae\n"
          ]
        },
        {
          "output_type": "stream",
          "name": "stdout",
          "text": [
            "\n",
            "Epoch 43: val_loss improved from 702184768.00000 to 687804608.00000, saving model to /content/checkFile.hdf5\n",
            "29/29 [==============================] - 0s 5ms/step - loss: 795170944.0000 - mae: 20947.6602 - val_loss: 687804608.0000 - val_mae: 19945.5234\n",
            "Epoch 44/350\n",
            "23/29 [======================>.......] - ETA: 0s - loss: 773838976.0000 - mae: 20620.0957"
          ]
        },
        {
          "output_type": "stream",
          "name": "stderr",
          "text": [
            "WARNING:tensorflow:Early stopping conditioned on metric `val_mse` which is not available. Available metrics are: loss,mae,val_loss,val_mae\n"
          ]
        },
        {
          "output_type": "stream",
          "name": "stdout",
          "text": [
            "\n",
            "Epoch 44: val_loss improved from 687804608.00000 to 673492864.00000, saving model to /content/checkFile.hdf5\n",
            "29/29 [==============================] - 0s 5ms/step - loss: 778763136.0000 - mae: 20633.4023 - val_loss: 673492864.0000 - val_mae: 19643.7207\n",
            "Epoch 45/350\n",
            "24/29 [=======================>......] - ETA: 0s - loss: 745718336.0000 - mae: 20249.9004"
          ]
        },
        {
          "output_type": "stream",
          "name": "stderr",
          "text": [
            "WARNING:tensorflow:Early stopping conditioned on metric `val_mse` which is not available. Available metrics are: loss,mae,val_loss,val_mae\n"
          ]
        },
        {
          "output_type": "stream",
          "name": "stdout",
          "text": [
            "\n",
            "Epoch 45: val_loss improved from 673492864.00000 to 659530432.00000, saving model to /content/checkFile.hdf5\n",
            "29/29 [==============================] - 0s 5ms/step - loss: 762636544.0000 - mae: 20357.4023 - val_loss: 659530432.0000 - val_mae: 19373.4473\n",
            "Epoch 46/350\n",
            "23/29 [======================>.......] - ETA: 0s - loss: 754180288.0000 - mae: 20122.2441"
          ]
        },
        {
          "output_type": "stream",
          "name": "stderr",
          "text": [
            "WARNING:tensorflow:Early stopping conditioned on metric `val_mse` which is not available. Available metrics are: loss,mae,val_loss,val_mae\n"
          ]
        },
        {
          "output_type": "stream",
          "name": "stdout",
          "text": [
            "\n",
            "Epoch 46: val_loss improved from 659530432.00000 to 645380160.00000, saving model to /content/checkFile.hdf5\n",
            "29/29 [==============================] - 0s 4ms/step - loss: 746615808.0000 - mae: 20052.5547 - val_loss: 645380160.0000 - val_mae: 19065.3945\n",
            "Epoch 47/350\n",
            "21/29 [====================>.........] - ETA: 0s - loss: 749623680.0000 - mae: 19937.8418"
          ]
        },
        {
          "output_type": "stream",
          "name": "stderr",
          "text": [
            "WARNING:tensorflow:Early stopping conditioned on metric `val_mse` which is not available. Available metrics are: loss,mae,val_loss,val_mae\n"
          ]
        },
        {
          "output_type": "stream",
          "name": "stdout",
          "text": [
            "\n",
            "Epoch 47: val_loss improved from 645380160.00000 to 631620480.00000, saving model to /content/checkFile.hdf5\n",
            "29/29 [==============================] - 0s 5ms/step - loss: 730683328.0000 - mae: 19765.2812 - val_loss: 631620480.0000 - val_mae: 18788.5156\n",
            "Epoch 48/350\n",
            "22/29 [=====================>........] - ETA: 0s - loss: 712675072.0000 - mae: 19489.7812"
          ]
        },
        {
          "output_type": "stream",
          "name": "stderr",
          "text": [
            "WARNING:tensorflow:Early stopping conditioned on metric `val_mse` which is not available. Available metrics are: loss,mae,val_loss,val_mae\n"
          ]
        },
        {
          "output_type": "stream",
          "name": "stdout",
          "text": [
            "\n",
            "Epoch 48: val_loss improved from 631620480.00000 to 618088896.00000, saving model to /content/checkFile.hdf5\n",
            "29/29 [==============================] - 0s 4ms/step - loss: 714832448.0000 - mae: 19475.1348 - val_loss: 618088896.0000 - val_mae: 18494.2930\n",
            "Epoch 49/350\n",
            "24/29 [=======================>......] - ETA: 0s - loss: 694678336.0000 - mae: 19177.4473"
          ]
        },
        {
          "output_type": "stream",
          "name": "stderr",
          "text": [
            "WARNING:tensorflow:Early stopping conditioned on metric `val_mse` which is not available. Available metrics are: loss,mae,val_loss,val_mae\n"
          ]
        },
        {
          "output_type": "stream",
          "name": "stdout",
          "text": [
            "\n",
            "Epoch 49: val_loss improved from 618088896.00000 to 604679936.00000, saving model to /content/checkFile.hdf5\n",
            "29/29 [==============================] - 0s 4ms/step - loss: 699345536.0000 - mae: 19166.7969 - val_loss: 604679936.0000 - val_mae: 18203.1523\n",
            "Epoch 50/350\n",
            "24/29 [=======================>......] - ETA: 0s - loss: 681060032.0000 - mae: 18909.2090"
          ]
        },
        {
          "output_type": "stream",
          "name": "stderr",
          "text": [
            "WARNING:tensorflow:Early stopping conditioned on metric `val_mse` which is not available. Available metrics are: loss,mae,val_loss,val_mae\n"
          ]
        },
        {
          "output_type": "stream",
          "name": "stdout",
          "text": [
            "\n",
            "Epoch 50: val_loss improved from 604679936.00000 to 591679936.00000, saving model to /content/checkFile.hdf5\n",
            "29/29 [==============================] - 0s 4ms/step - loss: 683929664.0000 - mae: 18905.7148 - val_loss: 591679936.0000 - val_mae: 17936.5215\n",
            "Epoch 51/350\n",
            "20/29 [===================>..........] - ETA: 0s - loss: 684122240.0000 - mae: 18764.1934"
          ]
        },
        {
          "output_type": "stream",
          "name": "stderr",
          "text": [
            "WARNING:tensorflow:Early stopping conditioned on metric `val_mse` which is not available. Available metrics are: loss,mae,val_loss,val_mae\n"
          ]
        },
        {
          "output_type": "stream",
          "name": "stdout",
          "text": [
            "\n",
            "Epoch 51: val_loss improved from 591679936.00000 to 578673920.00000, saving model to /content/checkFile.hdf5\n",
            "29/29 [==============================] - 0s 5ms/step - loss: 668779264.0000 - mae: 18582.8984 - val_loss: 578673920.0000 - val_mae: 17627.9473\n",
            "Epoch 52/350\n",
            "23/29 [======================>.......] - ETA: 0s - loss: 643012992.0000 - mae: 18260.8340"
          ]
        },
        {
          "output_type": "stream",
          "name": "stderr",
          "text": [
            "WARNING:tensorflow:Early stopping conditioned on metric `val_mse` which is not available. Available metrics are: loss,mae,val_loss,val_mae\n"
          ]
        },
        {
          "output_type": "stream",
          "name": "stdout",
          "text": [
            "\n",
            "Epoch 52: val_loss improved from 578673920.00000 to 566330560.00000, saving model to /content/checkFile.hdf5\n",
            "29/29 [==============================] - 0s 4ms/step - loss: 653942656.0000 - mae: 18308.7617 - val_loss: 566330560.0000 - val_mae: 17360.4062\n",
            "Epoch 53/350\n",
            "23/29 [======================>.......] - ETA: 0s - loss: 641009728.0000 - mae: 18126.0137"
          ]
        },
        {
          "output_type": "stream",
          "name": "stderr",
          "text": [
            "WARNING:tensorflow:Early stopping conditioned on metric `val_mse` which is not available. Available metrics are: loss,mae,val_loss,val_mae\n"
          ]
        },
        {
          "output_type": "stream",
          "name": "stdout",
          "text": [
            "\n",
            "Epoch 53: val_loss improved from 566330560.00000 to 554345664.00000, saving model to /content/checkFile.hdf5\n",
            "29/29 [==============================] - 0s 4ms/step - loss: 639471680.0000 - mae: 18026.2207 - val_loss: 554345664.0000 - val_mae: 17108.2480\n",
            "Epoch 54/350\n",
            "23/29 [======================>.......] - ETA: 0s - loss: 635624320.0000 - mae: 17811.6211 "
          ]
        },
        {
          "output_type": "stream",
          "name": "stderr",
          "text": [
            "WARNING:tensorflow:Early stopping conditioned on metric `val_mse` which is not available. Available metrics are: loss,mae,val_loss,val_mae\n"
          ]
        },
        {
          "output_type": "stream",
          "name": "stdout",
          "text": [
            "\n",
            "Epoch 54: val_loss improved from 554345664.00000 to 542349184.00000, saving model to /content/checkFile.hdf5\n",
            "29/29 [==============================] - 0s 5ms/step - loss: 625273408.0000 - mae: 17725.0684 - val_loss: 542349184.0000 - val_mae: 16818.9766\n",
            "Epoch 55/350\n",
            "22/29 [=====================>........] - ETA: 0s - loss: 614743680.0000 - mae: 17464.8965"
          ]
        },
        {
          "output_type": "stream",
          "name": "stderr",
          "text": [
            "WARNING:tensorflow:Early stopping conditioned on metric `val_mse` which is not available. Available metrics are: loss,mae,val_loss,val_mae\n"
          ]
        },
        {
          "output_type": "stream",
          "name": "stdout",
          "text": [
            "\n",
            "Epoch 55: val_loss improved from 542349184.00000 to 531248832.00000, saving model to /content/checkFile.hdf5\n",
            "29/29 [==============================] - 0s 5ms/step - loss: 611378688.0000 - mae: 17444.4668 - val_loss: 531248832.0000 - val_mae: 16596.9199\n",
            "Epoch 56/350\n",
            "22/29 [=====================>........] - ETA: 0s - loss: 594572480.0000 - mae: 17254.5000"
          ]
        },
        {
          "output_type": "stream",
          "name": "stderr",
          "text": [
            "WARNING:tensorflow:Early stopping conditioned on metric `val_mse` which is not available. Available metrics are: loss,mae,val_loss,val_mae\n"
          ]
        },
        {
          "output_type": "stream",
          "name": "stdout",
          "text": [
            "\n",
            "Epoch 56: val_loss improved from 531248832.00000 to 520308768.00000, saving model to /content/checkFile.hdf5\n",
            "29/29 [==============================] - 0s 4ms/step - loss: 597820800.0000 - mae: 17183.6426 - val_loss: 520308768.0000 - val_mae: 16340.8711\n",
            "Epoch 57/350\n",
            "23/29 [======================>.......] - ETA: 0s - loss: 583641792.0000 - mae: 16953.0801"
          ]
        },
        {
          "output_type": "stream",
          "name": "stderr",
          "text": [
            "WARNING:tensorflow:Early stopping conditioned on metric `val_mse` which is not available. Available metrics are: loss,mae,val_loss,val_mae\n"
          ]
        },
        {
          "output_type": "stream",
          "name": "stdout",
          "text": [
            "\n",
            "Epoch 57: val_loss improved from 520308768.00000 to 509817408.00000, saving model to /content/checkFile.hdf5\n",
            "29/29 [==============================] - 0s 4ms/step - loss: 584807168.0000 - mae: 16934.6074 - val_loss: 509817408.0000 - val_mae: 16115.3701\n",
            "Epoch 58/350\n",
            "22/29 [=====================>........] - ETA: 0s - loss: 575568512.0000 - mae: 16836.8418"
          ]
        },
        {
          "output_type": "stream",
          "name": "stderr",
          "text": [
            "WARNING:tensorflow:Early stopping conditioned on metric `val_mse` which is not available. Available metrics are: loss,mae,val_loss,val_mae\n"
          ]
        },
        {
          "output_type": "stream",
          "name": "stdout",
          "text": [
            "\n",
            "Epoch 58: val_loss improved from 509817408.00000 to 499633408.00000, saving model to /content/checkFile.hdf5\n",
            "29/29 [==============================] - 0s 5ms/step - loss: 572002752.0000 - mae: 16671.6621 - val_loss: 499633408.0000 - val_mae: 15879.1719\n",
            "Epoch 59/350\n",
            "23/29 [======================>.......] - ETA: 0s - loss: 557940288.0000 - mae: 16562.9355"
          ]
        },
        {
          "output_type": "stream",
          "name": "stderr",
          "text": [
            "WARNING:tensorflow:Early stopping conditioned on metric `val_mse` which is not available. Available metrics are: loss,mae,val_loss,val_mae\n"
          ]
        },
        {
          "output_type": "stream",
          "name": "stdout",
          "text": [
            "\n",
            "Epoch 59: val_loss improved from 499633408.00000 to 489939968.00000, saving model to /content/checkFile.hdf5\n",
            "29/29 [==============================] - 0s 5ms/step - loss: 559755200.0000 - mae: 16439.0938 - val_loss: 489939968.0000 - val_mae: 15674.5762\n",
            "Epoch 60/350\n",
            "24/29 [=======================>......] - ETA: 0s - loss: 556415360.0000 - mae: 16251.8301"
          ]
        },
        {
          "output_type": "stream",
          "name": "stderr",
          "text": [
            "WARNING:tensorflow:Early stopping conditioned on metric `val_mse` which is not available. Available metrics are: loss,mae,val_loss,val_mae\n"
          ]
        },
        {
          "output_type": "stream",
          "name": "stdout",
          "text": [
            "\n",
            "Epoch 60: val_loss improved from 489939968.00000 to 480803616.00000, saving model to /content/checkFile.hdf5\n",
            "29/29 [==============================] - 0s 5ms/step - loss: 547851072.0000 - mae: 16222.7188 - val_loss: 480803616.0000 - val_mae: 15489.3184\n",
            "Epoch 61/350\n",
            "23/29 [======================>.......] - ETA: 0s - loss: 548115968.0000 - mae: 15996.5488"
          ]
        },
        {
          "output_type": "stream",
          "name": "stderr",
          "text": [
            "WARNING:tensorflow:Early stopping conditioned on metric `val_mse` which is not available. Available metrics are: loss,mae,val_loss,val_mae\n"
          ]
        },
        {
          "output_type": "stream",
          "name": "stdout",
          "text": [
            "\n",
            "Epoch 61: val_loss improved from 480803616.00000 to 472014336.00000, saving model to /content/checkFile.hdf5\n",
            "29/29 [==============================] - 0s 5ms/step - loss: 536473696.0000 - mae: 15954.9521 - val_loss: 472014336.0000 - val_mae: 15302.2754\n",
            "Epoch 62/350\n",
            "22/29 [=====================>........] - ETA: 0s - loss: 520469664.0000 - mae: 15765.4863"
          ]
        },
        {
          "output_type": "stream",
          "name": "stderr",
          "text": [
            "WARNING:tensorflow:Early stopping conditioned on metric `val_mse` which is not available. Available metrics are: loss,mae,val_loss,val_mae\n"
          ]
        },
        {
          "output_type": "stream",
          "name": "stdout",
          "text": [
            "\n",
            "Epoch 62: val_loss improved from 472014336.00000 to 463722784.00000, saving model to /content/checkFile.hdf5\n",
            "29/29 [==============================] - 0s 4ms/step - loss: 525265792.0000 - mae: 15777.9531 - val_loss: 463722784.0000 - val_mae: 15142.1406\n",
            "Epoch 63/350\n",
            "23/29 [======================>.......] - ETA: 0s - loss: 521524128.0000 - mae: 15591.2549"
          ]
        },
        {
          "output_type": "stream",
          "name": "stderr",
          "text": [
            "WARNING:tensorflow:Early stopping conditioned on metric `val_mse` which is not available. Available metrics are: loss,mae,val_loss,val_mae\n"
          ]
        },
        {
          "output_type": "stream",
          "name": "stdout",
          "text": [
            "\n",
            "Epoch 63: val_loss improved from 463722784.00000 to 455479488.00000, saving model to /content/checkFile.hdf5\n",
            "29/29 [==============================] - 0s 5ms/step - loss: 514772416.0000 - mae: 15595.2451 - val_loss: 455479488.0000 - val_mae: 14955.5801\n",
            "Epoch 64/350\n",
            "21/29 [====================>.........] - ETA: 0s - loss: 492128096.0000 - mae: 15259.6670"
          ]
        },
        {
          "output_type": "stream",
          "name": "stderr",
          "text": [
            "WARNING:tensorflow:Early stopping conditioned on metric `val_mse` which is not available. Available metrics are: loss,mae,val_loss,val_mae\n"
          ]
        },
        {
          "output_type": "stream",
          "name": "stdout",
          "text": [
            "\n",
            "Epoch 64: val_loss improved from 455479488.00000 to 448072288.00000, saving model to /content/checkFile.hdf5\n",
            "29/29 [==============================] - 0s 5ms/step - loss: 504356544.0000 - mae: 15387.6328 - val_loss: 448072288.0000 - val_mae: 14814.5088\n",
            "Epoch 65/350\n",
            "16/29 [===============>..............] - ETA: 0s - loss: 506882080.0000 - mae: 15370.1367"
          ]
        },
        {
          "output_type": "stream",
          "name": "stderr",
          "text": [
            "WARNING:tensorflow:Early stopping conditioned on metric `val_mse` which is not available. Available metrics are: loss,mae,val_loss,val_mae\n"
          ]
        },
        {
          "output_type": "stream",
          "name": "stdout",
          "text": [
            "\n",
            "Epoch 65: val_loss improved from 448072288.00000 to 440850272.00000, saving model to /content/checkFile.hdf5\n",
            "29/29 [==============================] - 0s 7ms/step - loss: 494615616.0000 - mae: 15236.4775 - val_loss: 440850272.0000 - val_mae: 14680.5547\n",
            "Epoch 66/350\n",
            "17/29 [================>.............] - ETA: 0s - loss: 486972000.0000 - mae: 15019.9297"
          ]
        },
        {
          "output_type": "stream",
          "name": "stderr",
          "text": [
            "WARNING:tensorflow:Early stopping conditioned on metric `val_mse` which is not available. Available metrics are: loss,mae,val_loss,val_mae\n"
          ]
        },
        {
          "output_type": "stream",
          "name": "stdout",
          "text": [
            "\n",
            "Epoch 66: val_loss improved from 440850272.00000 to 433854080.00000, saving model to /content/checkFile.hdf5\n",
            "29/29 [==============================] - 0s 6ms/step - loss: 485152928.0000 - mae: 15047.4961 - val_loss: 433854080.0000 - val_mae: 14539.3438\n",
            "Epoch 67/350\n",
            "17/29 [================>.............] - ETA: 0s - loss: 469692000.0000 - mae: 14833.8184"
          ]
        },
        {
          "output_type": "stream",
          "name": "stderr",
          "text": [
            "WARNING:tensorflow:Early stopping conditioned on metric `val_mse` which is not available. Available metrics are: loss,mae,val_loss,val_mae\n"
          ]
        },
        {
          "output_type": "stream",
          "name": "stdout",
          "text": [
            "\n",
            "Epoch 67: val_loss improved from 433854080.00000 to 427242304.00000, saving model to /content/checkFile.hdf5\n",
            "29/29 [==============================] - 0s 6ms/step - loss: 476050208.0000 - mae: 14890.6572 - val_loss: 427242304.0000 - val_mae: 14411.4365\n",
            "Epoch 68/350\n",
            "17/29 [================>.............] - ETA: 0s - loss: 479115616.0000 - mae: 14798.9678"
          ]
        },
        {
          "output_type": "stream",
          "name": "stderr",
          "text": [
            "WARNING:tensorflow:Early stopping conditioned on metric `val_mse` which is not available. Available metrics are: loss,mae,val_loss,val_mae\n"
          ]
        },
        {
          "output_type": "stream",
          "name": "stdout",
          "text": [
            "\n",
            "Epoch 68: val_loss improved from 427242304.00000 to 421145024.00000, saving model to /content/checkFile.hdf5\n",
            "29/29 [==============================] - 0s 6ms/step - loss: 467337408.0000 - mae: 14743.6934 - val_loss: 421145024.0000 - val_mae: 14310.6543\n",
            "Epoch 69/350\n",
            "29/29 [==============================] - ETA: 0s - loss: 458869312.0000 - mae: 14603.4092"
          ]
        },
        {
          "output_type": "stream",
          "name": "stderr",
          "text": [
            "WARNING:tensorflow:Early stopping conditioned on metric `val_mse` which is not available. Available metrics are: loss,mae,val_loss,val_mae\n"
          ]
        },
        {
          "output_type": "stream",
          "name": "stdout",
          "text": [
            "\n",
            "Epoch 69: val_loss improved from 421145024.00000 to 414712960.00000, saving model to /content/checkFile.hdf5\n",
            "29/29 [==============================] - 0s 6ms/step - loss: 458869312.0000 - mae: 14603.4092 - val_loss: 414712960.0000 - val_mae: 14164.7910\n",
            "Epoch 70/350\n",
            "17/29 [================>.............] - ETA: 0s - loss: 446233280.0000 - mae: 14482.7842"
          ]
        },
        {
          "output_type": "stream",
          "name": "stderr",
          "text": [
            "WARNING:tensorflow:Early stopping conditioned on metric `val_mse` which is not available. Available metrics are: loss,mae,val_loss,val_mae\n"
          ]
        },
        {
          "output_type": "stream",
          "name": "stdout",
          "text": [
            "\n",
            "Epoch 70: val_loss improved from 414712960.00000 to 409042656.00000, saving model to /content/checkFile.hdf5\n",
            "29/29 [==============================] - 0s 6ms/step - loss: 450805728.0000 - mae: 14436.7549 - val_loss: 409042656.0000 - val_mae: 14064.2451\n",
            "Epoch 71/350\n",
            "16/29 [===============>..............] - ETA: 0s - loss: 422393760.0000 - mae: 14133.2412"
          ]
        },
        {
          "output_type": "stream",
          "name": "stderr",
          "text": [
            "WARNING:tensorflow:Early stopping conditioned on metric `val_mse` which is not available. Available metrics are: loss,mae,val_loss,val_mae\n"
          ]
        },
        {
          "output_type": "stream",
          "name": "stdout",
          "text": [
            "\n",
            "Epoch 71: val_loss improved from 409042656.00000 to 403563360.00000, saving model to /content/checkFile.hdf5\n",
            "29/29 [==============================] - 0s 6ms/step - loss: 442987136.0000 - mae: 14314.8350 - val_loss: 403563360.0000 - val_mae: 13971.6680\n",
            "Epoch 72/350\n",
            "17/29 [================>.............] - ETA: 0s - loss: 414548544.0000 - mae: 13996.6953"
          ]
        },
        {
          "output_type": "stream",
          "name": "stderr",
          "text": [
            "WARNING:tensorflow:Early stopping conditioned on metric `val_mse` which is not available. Available metrics are: loss,mae,val_loss,val_mae\n"
          ]
        },
        {
          "output_type": "stream",
          "name": "stdout",
          "text": [
            "\n",
            "Epoch 72: val_loss improved from 403563360.00000 to 398372640.00000, saving model to /content/checkFile.hdf5\n",
            "29/29 [==============================] - 0s 6ms/step - loss: 435521312.0000 - mae: 14200.5039 - val_loss: 398372640.0000 - val_mae: 13895.9473\n",
            "Epoch 73/350\n",
            "15/29 [==============>...............] - ETA: 0s - loss: 430623744.0000 - mae: 14012.8984"
          ]
        },
        {
          "output_type": "stream",
          "name": "stderr",
          "text": [
            "WARNING:tensorflow:Early stopping conditioned on metric `val_mse` which is not available. Available metrics are: loss,mae,val_loss,val_mae\n"
          ]
        },
        {
          "output_type": "stream",
          "name": "stdout",
          "text": [
            "\n",
            "Epoch 73: val_loss improved from 398372640.00000 to 393173024.00000, saving model to /content/checkFile.hdf5\n",
            "29/29 [==============================] - 0s 6ms/step - loss: 428194688.0000 - mae: 14100.4502 - val_loss: 393173024.0000 - val_mae: 13808.1230\n",
            "Epoch 74/350\n",
            "16/29 [===============>..............] - ETA: 0s - loss: 456704832.0000 - mae: 14222.2363"
          ]
        },
        {
          "output_type": "stream",
          "name": "stderr",
          "text": [
            "WARNING:tensorflow:Early stopping conditioned on metric `val_mse` which is not available. Available metrics are: loss,mae,val_loss,val_mae\n"
          ]
        },
        {
          "output_type": "stream",
          "name": "stdout",
          "text": [
            "\n",
            "Epoch 74: val_loss improved from 393173024.00000 to 387955008.00000, saving model to /content/checkFile.hdf5\n",
            "29/29 [==============================] - 0s 6ms/step - loss: 421176160.0000 - mae: 13962.1387 - val_loss: 387955008.0000 - val_mae: 13711.7109\n",
            "Epoch 75/350\n",
            "17/29 [================>.............] - ETA: 0s - loss: 414443456.0000 - mae: 13862.9932"
          ]
        },
        {
          "output_type": "stream",
          "name": "stderr",
          "text": [
            "WARNING:tensorflow:Early stopping conditioned on metric `val_mse` which is not available. Available metrics are: loss,mae,val_loss,val_mae\n"
          ]
        },
        {
          "output_type": "stream",
          "name": "stdout",
          "text": [
            "\n",
            "Epoch 75: val_loss improved from 387955008.00000 to 383038912.00000, saving model to /content/checkFile.hdf5\n",
            "29/29 [==============================] - 0s 5ms/step - loss: 414326560.0000 - mae: 13829.5684 - val_loss: 383038912.0000 - val_mae: 13624.2744\n",
            "Epoch 76/350\n",
            "17/29 [================>.............] - ETA: 0s - loss: 411620576.0000 - mae: 13627.7031"
          ]
        },
        {
          "output_type": "stream",
          "name": "stderr",
          "text": [
            "WARNING:tensorflow:Early stopping conditioned on metric `val_mse` which is not available. Available metrics are: loss,mae,val_loss,val_mae\n"
          ]
        },
        {
          "output_type": "stream",
          "name": "stdout",
          "text": [
            "\n",
            "Epoch 76: val_loss improved from 383038912.00000 to 378409184.00000, saving model to /content/checkFile.hdf5\n",
            "29/29 [==============================] - 0s 6ms/step - loss: 407815552.0000 - mae: 13709.7422 - val_loss: 378409184.0000 - val_mae: 13547.9424\n",
            "Epoch 77/350\n",
            "17/29 [================>.............] - ETA: 0s - loss: 413338240.0000 - mae: 13741.2783"
          ]
        },
        {
          "output_type": "stream",
          "name": "stderr",
          "text": [
            "WARNING:tensorflow:Early stopping conditioned on metric `val_mse` which is not available. Available metrics are: loss,mae,val_loss,val_mae\n"
          ]
        },
        {
          "output_type": "stream",
          "name": "stdout",
          "text": [
            "\n",
            "Epoch 77: val_loss improved from 378409184.00000 to 373859936.00000, saving model to /content/checkFile.hdf5\n",
            "29/29 [==============================] - 0s 6ms/step - loss: 401469824.0000 - mae: 13625.5781 - val_loss: 373859936.0000 - val_mae: 13473.8818\n",
            "Epoch 78/350\n",
            "16/29 [===============>..............] - ETA: 0s - loss: 407906240.0000 - mae: 13632.6465"
          ]
        },
        {
          "output_type": "stream",
          "name": "stderr",
          "text": [
            "WARNING:tensorflow:Early stopping conditioned on metric `val_mse` which is not available. Available metrics are: loss,mae,val_loss,val_mae\n"
          ]
        },
        {
          "output_type": "stream",
          "name": "stdout",
          "text": [
            "\n",
            "Epoch 78: val_loss improved from 373859936.00000 to 369574528.00000, saving model to /content/checkFile.hdf5\n",
            "29/29 [==============================] - 0s 6ms/step - loss: 395185536.0000 - mae: 13497.8994 - val_loss: 369574528.0000 - val_mae: 13406.2646\n",
            "Epoch 79/350\n",
            "17/29 [================>.............] - ETA: 0s - loss: 383680192.0000 - mae: 13306.4033"
          ]
        },
        {
          "output_type": "stream",
          "name": "stderr",
          "text": [
            "WARNING:tensorflow:Early stopping conditioned on metric `val_mse` which is not available. Available metrics are: loss,mae,val_loss,val_mae\n"
          ]
        },
        {
          "output_type": "stream",
          "name": "stdout",
          "text": [
            "\n",
            "Epoch 79: val_loss improved from 369574528.00000 to 365265600.00000, saving model to /content/checkFile.hdf5\n",
            "29/29 [==============================] - 0s 6ms/step - loss: 389175168.0000 - mae: 13408.6670 - val_loss: 365265600.0000 - val_mae: 13333.3809\n",
            "Epoch 80/350\n",
            "18/29 [=================>............] - ETA: 0s - loss: 387651168.0000 - mae: 13278.2871"
          ]
        },
        {
          "output_type": "stream",
          "name": "stderr",
          "text": [
            "WARNING:tensorflow:Early stopping conditioned on metric `val_mse` which is not available. Available metrics are: loss,mae,val_loss,val_mae\n"
          ]
        },
        {
          "output_type": "stream",
          "name": "stdout",
          "text": [
            "\n",
            "Epoch 80: val_loss improved from 365265600.00000 to 360920480.00000, saving model to /content/checkFile.hdf5\n",
            "29/29 [==============================] - 0s 5ms/step - loss: 383400224.0000 - mae: 13280.0430 - val_loss: 360920480.0000 - val_mae: 13255.1123\n",
            "Epoch 81/350\n",
            "17/29 [================>.............] - ETA: 0s - loss: 372360256.0000 - mae: 13152.9736"
          ]
        },
        {
          "output_type": "stream",
          "name": "stderr",
          "text": [
            "WARNING:tensorflow:Early stopping conditioned on metric `val_mse` which is not available. Available metrics are: loss,mae,val_loss,val_mae\n"
          ]
        },
        {
          "output_type": "stream",
          "name": "stdout",
          "text": [
            "\n",
            "Epoch 81: val_loss improved from 360920480.00000 to 357052000.00000, saving model to /content/checkFile.hdf5\n",
            "29/29 [==============================] - 0s 6ms/step - loss: 377758592.0000 - mae: 13169.1279 - val_loss: 357052000.0000 - val_mae: 13197.9570\n",
            "Epoch 82/350\n",
            "17/29 [================>.............] - ETA: 0s - loss: 360374624.0000 - mae: 13083.8145"
          ]
        },
        {
          "output_type": "stream",
          "name": "stderr",
          "text": [
            "WARNING:tensorflow:Early stopping conditioned on metric `val_mse` which is not available. Available metrics are: loss,mae,val_loss,val_mae\n"
          ]
        },
        {
          "output_type": "stream",
          "name": "stdout",
          "text": [
            "\n",
            "Epoch 82: val_loss improved from 357052000.00000 to 352947296.00000, saving model to /content/checkFile.hdf5\n",
            "29/29 [==============================] - 0s 5ms/step - loss: 372223424.0000 - mae: 13109.3076 - val_loss: 352947296.0000 - val_mae: 13127.0254\n",
            "Epoch 83/350\n",
            "21/29 [====================>.........] - ETA: 0s - loss: 367517152.0000 - mae: 13147.0303"
          ]
        },
        {
          "output_type": "stream",
          "name": "stderr",
          "text": [
            "WARNING:tensorflow:Early stopping conditioned on metric `val_mse` which is not available. Available metrics are: loss,mae,val_loss,val_mae\n"
          ]
        },
        {
          "output_type": "stream",
          "name": "stdout",
          "text": [
            "\n",
            "Epoch 83: val_loss improved from 352947296.00000 to 348898848.00000, saving model to /content/checkFile.hdf5\n",
            "29/29 [==============================] - 0s 5ms/step - loss: 366864992.0000 - mae: 12997.7051 - val_loss: 348898848.0000 - val_mae: 13058.0752\n",
            "Epoch 84/350\n",
            "23/29 [======================>.......] - ETA: 0s - loss: 358419808.0000 - mae: 12903.3135"
          ]
        },
        {
          "output_type": "stream",
          "name": "stderr",
          "text": [
            "WARNING:tensorflow:Early stopping conditioned on metric `val_mse` which is not available. Available metrics are: loss,mae,val_loss,val_mae\n"
          ]
        },
        {
          "output_type": "stream",
          "name": "stdout",
          "text": [
            "\n",
            "Epoch 84: val_loss improved from 348898848.00000 to 345003968.00000, saving model to /content/checkFile.hdf5\n",
            "29/29 [==============================] - 0s 5ms/step - loss: 361543680.0000 - mae: 12888.0811 - val_loss: 345003968.0000 - val_mae: 12989.0566\n",
            "Epoch 85/350\n",
            "25/29 [========================>.....] - ETA: 0s - loss: 357506240.0000 - mae: 12802.7949"
          ]
        },
        {
          "output_type": "stream",
          "name": "stderr",
          "text": [
            "WARNING:tensorflow:Early stopping conditioned on metric `val_mse` which is not available. Available metrics are: loss,mae,val_loss,val_mae\n"
          ]
        },
        {
          "output_type": "stream",
          "name": "stdout",
          "text": [
            "\n",
            "Epoch 85: val_loss improved from 345003968.00000 to 341311200.00000, saving model to /content/checkFile.hdf5\n",
            "29/29 [==============================] - 0s 4ms/step - loss: 356451712.0000 - mae: 12804.2109 - val_loss: 341311200.0000 - val_mae: 12930.5146\n",
            "Epoch 86/350\n",
            "22/29 [=====================>........] - ETA: 0s - loss: 340241984.0000 - mae: 12562.0361"
          ]
        },
        {
          "output_type": "stream",
          "name": "stderr",
          "text": [
            "WARNING:tensorflow:Early stopping conditioned on metric `val_mse` which is not available. Available metrics are: loss,mae,val_loss,val_mae\n"
          ]
        },
        {
          "output_type": "stream",
          "name": "stdout",
          "text": [
            "\n",
            "Epoch 86: val_loss improved from 341311200.00000 to 337263456.00000, saving model to /content/checkFile.hdf5\n",
            "29/29 [==============================] - 0s 5ms/step - loss: 351496000.0000 - mae: 12695.1416 - val_loss: 337263456.0000 - val_mae: 12846.0400\n",
            "Epoch 87/350\n",
            "24/29 [=======================>......] - ETA: 0s - loss: 341848800.0000 - mae: 12611.7109"
          ]
        },
        {
          "output_type": "stream",
          "name": "stderr",
          "text": [
            "WARNING:tensorflow:Early stopping conditioned on metric `val_mse` which is not available. Available metrics are: loss,mae,val_loss,val_mae\n"
          ]
        },
        {
          "output_type": "stream",
          "name": "stdout",
          "text": [
            "\n",
            "Epoch 87: val_loss improved from 337263456.00000 to 333731904.00000, saving model to /content/checkFile.hdf5\n",
            "29/29 [==============================] - 0s 5ms/step - loss: 346591712.0000 - mae: 12620.7812 - val_loss: 333731904.0000 - val_mae: 12790.6094\n",
            "Epoch 88/350\n",
            "23/29 [======================>.......] - ETA: 0s - loss: 348431776.0000 - mae: 12557.9082"
          ]
        },
        {
          "output_type": "stream",
          "name": "stderr",
          "text": [
            "WARNING:tensorflow:Early stopping conditioned on metric `val_mse` which is not available. Available metrics are: loss,mae,val_loss,val_mae\n"
          ]
        },
        {
          "output_type": "stream",
          "name": "stdout",
          "text": [
            "\n",
            "Epoch 88: val_loss improved from 333731904.00000 to 330172992.00000, saving model to /content/checkFile.hdf5\n",
            "29/29 [==============================] - 0s 4ms/step - loss: 341787392.0000 - mae: 12545.2852 - val_loss: 330172992.0000 - val_mae: 12728.6455\n",
            "Epoch 89/350\n",
            "23/29 [======================>.......] - ETA: 0s - loss: 335276832.0000 - mae: 12381.6680"
          ]
        },
        {
          "output_type": "stream",
          "name": "stderr",
          "text": [
            "WARNING:tensorflow:Early stopping conditioned on metric `val_mse` which is not available. Available metrics are: loss,mae,val_loss,val_mae\n"
          ]
        },
        {
          "output_type": "stream",
          "name": "stdout",
          "text": [
            "\n",
            "Epoch 89: val_loss improved from 330172992.00000 to 326196416.00000, saving model to /content/checkFile.hdf5\n",
            "29/29 [==============================] - 0s 5ms/step - loss: 337058432.0000 - mae: 12408.2344 - val_loss: 326196416.0000 - val_mae: 12638.6855\n",
            "Epoch 90/350\n",
            "24/29 [=======================>......] - ETA: 0s - loss: 325250784.0000 - mae: 12255.8955"
          ]
        },
        {
          "output_type": "stream",
          "name": "stderr",
          "text": [
            "WARNING:tensorflow:Early stopping conditioned on metric `val_mse` which is not available. Available metrics are: loss,mae,val_loss,val_mae\n"
          ]
        },
        {
          "output_type": "stream",
          "name": "stdout",
          "text": [
            "\n",
            "Epoch 90: val_loss improved from 326196416.00000 to 322663264.00000, saving model to /content/checkFile.hdf5\n",
            "29/29 [==============================] - 0s 4ms/step - loss: 332360320.0000 - mae: 12341.8447 - val_loss: 322663264.0000 - val_mae: 12573.1660\n",
            "Epoch 91/350\n",
            "24/29 [=======================>......] - ETA: 0s - loss: 335373248.0000 - mae: 12359.7871"
          ]
        },
        {
          "output_type": "stream",
          "name": "stderr",
          "text": [
            "WARNING:tensorflow:Early stopping conditioned on metric `val_mse` which is not available. Available metrics are: loss,mae,val_loss,val_mae\n"
          ]
        },
        {
          "output_type": "stream",
          "name": "stdout",
          "text": [
            "\n",
            "Epoch 91: val_loss improved from 322663264.00000 to 319130496.00000, saving model to /content/checkFile.hdf5\n",
            "29/29 [==============================] - 0s 5ms/step - loss: 327929504.0000 - mae: 12279.1387 - val_loss: 319130496.0000 - val_mae: 12510.4521\n",
            "Epoch 92/350\n",
            "22/29 [=====================>........] - ETA: 0s - loss: 328724384.0000 - mae: 12160.7256"
          ]
        },
        {
          "output_type": "stream",
          "name": "stderr",
          "text": [
            "WARNING:tensorflow:Early stopping conditioned on metric `val_mse` which is not available. Available metrics are: loss,mae,val_loss,val_mae\n"
          ]
        },
        {
          "output_type": "stream",
          "name": "stdout",
          "text": [
            "\n",
            "Epoch 92: val_loss improved from 319130496.00000 to 315374368.00000, saving model to /content/checkFile.hdf5\n",
            "29/29 [==============================] - 0s 4ms/step - loss: 323322784.0000 - mae: 12167.0879 - val_loss: 315374368.0000 - val_mae: 12432.4395\n",
            "Epoch 93/350\n",
            "23/29 [======================>.......] - ETA: 0s - loss: 317490304.0000 - mae: 12104.8398"
          ]
        },
        {
          "output_type": "stream",
          "name": "stderr",
          "text": [
            "WARNING:tensorflow:Early stopping conditioned on metric `val_mse` which is not available. Available metrics are: loss,mae,val_loss,val_mae\n"
          ]
        },
        {
          "output_type": "stream",
          "name": "stdout",
          "text": [
            "\n",
            "Epoch 93: val_loss improved from 315374368.00000 to 311821504.00000, saving model to /content/checkFile.hdf5\n",
            "29/29 [==============================] - 0s 4ms/step - loss: 318899904.0000 - mae: 12068.9160 - val_loss: 311821504.0000 - val_mae: 12360.9678\n",
            "Epoch 94/350\n",
            "24/29 [=======================>......] - ETA: 0s - loss: 306764672.0000 - mae: 11978.1924"
          ]
        },
        {
          "output_type": "stream",
          "name": "stderr",
          "text": [
            "WARNING:tensorflow:Early stopping conditioned on metric `val_mse` which is not available. Available metrics are: loss,mae,val_loss,val_mae\n"
          ]
        },
        {
          "output_type": "stream",
          "name": "stdout",
          "text": [
            "\n",
            "Epoch 94: val_loss improved from 311821504.00000 to 308547072.00000, saving model to /content/checkFile.hdf5\n",
            "29/29 [==============================] - 0s 4ms/step - loss: 314596992.0000 - mae: 12005.1689 - val_loss: 308547072.0000 - val_mae: 12301.3340\n",
            "Epoch 95/350\n",
            "24/29 [=======================>......] - ETA: 0s - loss: 316047680.0000 - mae: 11962.0449"
          ]
        },
        {
          "output_type": "stream",
          "name": "stderr",
          "text": [
            "WARNING:tensorflow:Early stopping conditioned on metric `val_mse` which is not available. Available metrics are: loss,mae,val_loss,val_mae\n"
          ]
        },
        {
          "output_type": "stream",
          "name": "stdout",
          "text": [
            "\n",
            "Epoch 95: val_loss improved from 308547072.00000 to 304983776.00000, saving model to /content/checkFile.hdf5\n",
            "29/29 [==============================] - 0s 5ms/step - loss: 310320640.0000 - mae: 11910.6309 - val_loss: 304983776.0000 - val_mae: 12226.3877\n",
            "Epoch 96/350\n",
            "23/29 [======================>.......] - ETA: 0s - loss: 299411008.0000 - mae: 11682.6387"
          ]
        },
        {
          "output_type": "stream",
          "name": "stderr",
          "text": [
            "WARNING:tensorflow:Early stopping conditioned on metric `val_mse` which is not available. Available metrics are: loss,mae,val_loss,val_mae\n"
          ]
        },
        {
          "output_type": "stream",
          "name": "stdout",
          "text": [
            "\n",
            "Epoch 96: val_loss improved from 304983776.00000 to 301551424.00000, saving model to /content/checkFile.hdf5\n",
            "29/29 [==============================] - 0s 4ms/step - loss: 306122400.0000 - mae: 11810.6201 - val_loss: 301551424.0000 - val_mae: 12155.3232\n",
            "Epoch 97/350\n",
            "25/29 [========================>.....] - ETA: 0s - loss: 303281632.0000 - mae: 11737.9639"
          ]
        },
        {
          "output_type": "stream",
          "name": "stderr",
          "text": [
            "WARNING:tensorflow:Early stopping conditioned on metric `val_mse` which is not available. Available metrics are: loss,mae,val_loss,val_mae\n"
          ]
        },
        {
          "output_type": "stream",
          "name": "stdout",
          "text": [
            "\n",
            "Epoch 97: val_loss improved from 301551424.00000 to 298123328.00000, saving model to /content/checkFile.hdf5\n",
            "29/29 [==============================] - 0s 4ms/step - loss: 301972992.0000 - mae: 11751.8135 - val_loss: 298123328.0000 - val_mae: 12081.7344\n",
            "Epoch 98/350\n",
            "20/29 [===================>..........] - ETA: 0s - loss: 302674016.0000 - mae: 11709.4746"
          ]
        },
        {
          "output_type": "stream",
          "name": "stderr",
          "text": [
            "WARNING:tensorflow:Early stopping conditioned on metric `val_mse` which is not available. Available metrics are: loss,mae,val_loss,val_mae\n"
          ]
        },
        {
          "output_type": "stream",
          "name": "stdout",
          "text": [
            "\n",
            "Epoch 98: val_loss improved from 298123328.00000 to 294778336.00000, saving model to /content/checkFile.hdf5\n",
            "29/29 [==============================] - 0s 5ms/step - loss: 297944992.0000 - mae: 11647.7109 - val_loss: 294778336.0000 - val_mae: 12011.7578\n",
            "Epoch 99/350\n",
            "22/29 [=====================>........] - ETA: 0s - loss: 286565920.0000 - mae: 11554.1924"
          ]
        },
        {
          "output_type": "stream",
          "name": "stderr",
          "text": [
            "WARNING:tensorflow:Early stopping conditioned on metric `val_mse` which is not available. Available metrics are: loss,mae,val_loss,val_mae\n"
          ]
        },
        {
          "output_type": "stream",
          "name": "stdout",
          "text": [
            "\n",
            "Epoch 99: val_loss improved from 294778336.00000 to 291136096.00000, saving model to /content/checkFile.hdf5\n",
            "29/29 [==============================] - 0s 5ms/step - loss: 293884032.0000 - mae: 11567.9727 - val_loss: 291136096.0000 - val_mae: 11926.2959\n",
            "Epoch 100/350\n",
            "23/29 [======================>.......] - ETA: 0s - loss: 279363776.0000 - mae: 11398.4277"
          ]
        },
        {
          "output_type": "stream",
          "name": "stderr",
          "text": [
            "WARNING:tensorflow:Early stopping conditioned on metric `val_mse` which is not available. Available metrics are: loss,mae,val_loss,val_mae\n"
          ]
        },
        {
          "output_type": "stream",
          "name": "stdout",
          "text": [
            "\n",
            "Epoch 100: val_loss improved from 291136096.00000 to 287641504.00000, saving model to /content/checkFile.hdf5\n",
            "29/29 [==============================] - 0s 4ms/step - loss: 289883840.0000 - mae: 11502.4424 - val_loss: 287641504.0000 - val_mae: 11843.8086\n",
            "Epoch 101/350\n",
            "20/29 [===================>..........] - ETA: 0s - loss: 301026848.0000 - mae: 11567.2119"
          ]
        },
        {
          "output_type": "stream",
          "name": "stderr",
          "text": [
            "WARNING:tensorflow:Early stopping conditioned on metric `val_mse` which is not available. Available metrics are: loss,mae,val_loss,val_mae\n"
          ]
        },
        {
          "output_type": "stream",
          "name": "stdout",
          "text": [
            "\n",
            "Epoch 101: val_loss improved from 287641504.00000 to 284407776.00000, saving model to /content/checkFile.hdf5\n",
            "29/29 [==============================] - 0s 5ms/step - loss: 285983552.0000 - mae: 11414.0078 - val_loss: 284407776.0000 - val_mae: 11776.5977\n",
            "Epoch 102/350\n",
            "25/29 [========================>.....] - ETA: 0s - loss: 284134688.0000 - mae: 11350.5820"
          ]
        },
        {
          "output_type": "stream",
          "name": "stderr",
          "text": [
            "WARNING:tensorflow:Early stopping conditioned on metric `val_mse` which is not available. Available metrics are: loss,mae,val_loss,val_mae\n"
          ]
        },
        {
          "output_type": "stream",
          "name": "stdout",
          "text": [
            "\n",
            "Epoch 102: val_loss improved from 284407776.00000 to 280863616.00000, saving model to /content/checkFile.hdf5\n",
            "29/29 [==============================] - 0s 5ms/step - loss: 282006944.0000 - mae: 11318.8936 - val_loss: 280863616.0000 - val_mae: 11688.2764\n",
            "Epoch 103/350\n",
            "25/29 [========================>.....] - ETA: 0s - loss: 275898400.0000 - mae: 11268.4287"
          ]
        },
        {
          "output_type": "stream",
          "name": "stderr",
          "text": [
            "WARNING:tensorflow:Early stopping conditioned on metric `val_mse` which is not available. Available metrics are: loss,mae,val_loss,val_mae\n"
          ]
        },
        {
          "output_type": "stream",
          "name": "stdout",
          "text": [
            "\n",
            "Epoch 103: val_loss improved from 280863616.00000 to 277850624.00000, saving model to /content/checkFile.hdf5\n",
            "29/29 [==============================] - 0s 4ms/step - loss: 278225504.0000 - mae: 11251.3174 - val_loss: 277850624.0000 - val_mae: 11627.4473\n",
            "Epoch 104/350\n",
            "22/29 [=====================>........] - ETA: 0s - loss: 270309632.0000 - mae: 11075.4863"
          ]
        },
        {
          "output_type": "stream",
          "name": "stderr",
          "text": [
            "WARNING:tensorflow:Early stopping conditioned on metric `val_mse` which is not available. Available metrics are: loss,mae,val_loss,val_mae\n"
          ]
        },
        {
          "output_type": "stream",
          "name": "stdout",
          "text": [
            "\n",
            "Epoch 104: val_loss improved from 277850624.00000 to 274426784.00000, saving model to /content/checkFile.hdf5\n",
            "29/29 [==============================] - 0s 5ms/step - loss: 274453664.0000 - mae: 11138.7168 - val_loss: 274426784.0000 - val_mae: 11545.5029\n",
            "Epoch 105/350\n",
            "18/29 [=================>............] - ETA: 0s - loss: 273013632.0000 - mae: 11194.4004"
          ]
        },
        {
          "output_type": "stream",
          "name": "stderr",
          "text": [
            "WARNING:tensorflow:Early stopping conditioned on metric `val_mse` which is not available. Available metrics are: loss,mae,val_loss,val_mae\n"
          ]
        },
        {
          "output_type": "stream",
          "name": "stdout",
          "text": [
            "\n",
            "Epoch 105: val_loss improved from 274426784.00000 to 271311264.00000, saving model to /content/checkFile.hdf5\n",
            "29/29 [==============================] - 0s 5ms/step - loss: 270645632.0000 - mae: 11087.1113 - val_loss: 271311264.0000 - val_mae: 11478.5557\n",
            "Epoch 106/350\n",
            "23/29 [======================>.......] - ETA: 0s - loss: 267948160.0000 - mae: 10982.9365"
          ]
        },
        {
          "output_type": "stream",
          "name": "stderr",
          "text": [
            "WARNING:tensorflow:Early stopping conditioned on metric `val_mse` which is not available. Available metrics are: loss,mae,val_loss,val_mae\n"
          ]
        },
        {
          "output_type": "stream",
          "name": "stdout",
          "text": [
            "\n",
            "Epoch 106: val_loss improved from 271311264.00000 to 267979248.00000, saving model to /content/checkFile.hdf5\n",
            "29/29 [==============================] - 0s 5ms/step - loss: 266904192.0000 - mae: 11011.6904 - val_loss: 267979248.0000 - val_mae: 11398.6621\n",
            "Epoch 107/350\n",
            "23/29 [======================>.......] - ETA: 0s - loss: 248130592.0000 - mae: 10786.7627"
          ]
        },
        {
          "output_type": "stream",
          "name": "stderr",
          "text": [
            "WARNING:tensorflow:Early stopping conditioned on metric `val_mse` which is not available. Available metrics are: loss,mae,val_loss,val_mae\n"
          ]
        },
        {
          "output_type": "stream",
          "name": "stdout",
          "text": [
            "\n",
            "Epoch 107: val_loss improved from 267979248.00000 to 264488928.00000, saving model to /content/checkFile.hdf5\n",
            "29/29 [==============================] - 0s 4ms/step - loss: 263169488.0000 - mae: 10913.2510 - val_loss: 264488928.0000 - val_mae: 11307.5000\n",
            "Epoch 108/350\n",
            "21/29 [====================>.........] - ETA: 0s - loss: 268134096.0000 - mae: 10989.0957"
          ]
        },
        {
          "output_type": "stream",
          "name": "stderr",
          "text": [
            "WARNING:tensorflow:Early stopping conditioned on metric `val_mse` which is not available. Available metrics are: loss,mae,val_loss,val_mae\n"
          ]
        },
        {
          "output_type": "stream",
          "name": "stdout",
          "text": [
            "\n",
            "Epoch 108: val_loss improved from 264488928.00000 to 261501728.00000, saving model to /content/checkFile.hdf5\n",
            "29/29 [==============================] - 0s 5ms/step - loss: 259659792.0000 - mae: 10860.8545 - val_loss: 261501728.0000 - val_mae: 11245.4492\n",
            "Epoch 109/350\n",
            "24/29 [=======================>......] - ETA: 0s - loss: 249761008.0000 - mae: 10664.3838"
          ]
        },
        {
          "output_type": "stream",
          "name": "stderr",
          "text": [
            "WARNING:tensorflow:Early stopping conditioned on metric `val_mse` which is not available. Available metrics are: loss,mae,val_loss,val_mae\n"
          ]
        },
        {
          "output_type": "stream",
          "name": "stdout",
          "text": [
            "\n",
            "Epoch 109: val_loss improved from 261501728.00000 to 257968704.00000, saving model to /content/checkFile.hdf5\n",
            "29/29 [==============================] - 0s 5ms/step - loss: 255980480.0000 - mae: 10734.5889 - val_loss: 257968704.0000 - val_mae: 11151.6592\n",
            "Epoch 110/350\n",
            "22/29 [=====================>........] - ETA: 0s - loss: 253736016.0000 - mae: 10680.9580"
          ]
        },
        {
          "output_type": "stream",
          "name": "stderr",
          "text": [
            "WARNING:tensorflow:Early stopping conditioned on metric `val_mse` which is not available. Available metrics are: loss,mae,val_loss,val_mae\n"
          ]
        },
        {
          "output_type": "stream",
          "name": "stdout",
          "text": [
            "\n",
            "Epoch 110: val_loss improved from 257968704.00000 to 254925952.00000, saving model to /content/checkFile.hdf5\n",
            "29/29 [==============================] - 0s 5ms/step - loss: 252421728.0000 - mae: 10692.4180 - val_loss: 254925952.0000 - val_mae: 11084.8223\n",
            "Epoch 111/350\n",
            "24/29 [=======================>......] - ETA: 0s - loss: 247696384.0000 - mae: 10609.5381"
          ]
        },
        {
          "output_type": "stream",
          "name": "stderr",
          "text": [
            "WARNING:tensorflow:Early stopping conditioned on metric `val_mse` which is not available. Available metrics are: loss,mae,val_loss,val_mae\n"
          ]
        },
        {
          "output_type": "stream",
          "name": "stdout",
          "text": [
            "\n",
            "Epoch 111: val_loss improved from 254925952.00000 to 251485600.00000, saving model to /content/checkFile.hdf5\n",
            "29/29 [==============================] - 0s 4ms/step - loss: 248832496.0000 - mae: 10598.7617 - val_loss: 251485600.0000 - val_mae: 10993.5098\n",
            "Epoch 112/350\n",
            "20/29 [===================>..........] - ETA: 0s - loss: 244117632.0000 - mae: 10506.5850"
          ]
        },
        {
          "output_type": "stream",
          "name": "stderr",
          "text": [
            "WARNING:tensorflow:Early stopping conditioned on metric `val_mse` which is not available. Available metrics are: loss,mae,val_loss,val_mae\n"
          ]
        },
        {
          "output_type": "stream",
          "name": "stdout",
          "text": [
            "\n",
            "Epoch 112: val_loss improved from 251485600.00000 to 248566512.00000, saving model to /content/checkFile.hdf5\n",
            "29/29 [==============================] - 0s 5ms/step - loss: 245294512.0000 - mae: 10522.2559 - val_loss: 248566512.0000 - val_mae: 10931.8291\n",
            "Epoch 113/350\n",
            "21/29 [====================>.........] - ETA: 0s - loss: 239775520.0000 - mae: 10450.0498"
          ]
        },
        {
          "output_type": "stream",
          "name": "stderr",
          "text": [
            "WARNING:tensorflow:Early stopping conditioned on metric `val_mse` which is not available. Available metrics are: loss,mae,val_loss,val_mae\n"
          ]
        },
        {
          "output_type": "stream",
          "name": "stdout",
          "text": [
            "\n",
            "Epoch 113: val_loss improved from 248566512.00000 to 245243600.00000, saving model to /content/checkFile.hdf5\n",
            "29/29 [==============================] - 0s 5ms/step - loss: 241826992.0000 - mae: 10457.1396 - val_loss: 245243600.0000 - val_mae: 10847.1777\n",
            "Epoch 114/350\n",
            "24/29 [=======================>......] - ETA: 0s - loss: 242317920.0000 - mae: 10399.5166"
          ]
        },
        {
          "output_type": "stream",
          "name": "stderr",
          "text": [
            "WARNING:tensorflow:Early stopping conditioned on metric `val_mse` which is not available. Available metrics are: loss,mae,val_loss,val_mae\n"
          ]
        },
        {
          "output_type": "stream",
          "name": "stdout",
          "text": [
            "\n",
            "Epoch 114: val_loss improved from 245243600.00000 to 241966928.00000, saving model to /content/checkFile.hdf5\n",
            "29/29 [==============================] - 0s 5ms/step - loss: 238398064.0000 - mae: 10361.1191 - val_loss: 241966928.0000 - val_mae: 10767.3789\n",
            "Epoch 115/350\n",
            "24/29 [=======================>......] - ETA: 0s - loss: 234475680.0000 - mae: 10330.7178"
          ]
        },
        {
          "output_type": "stream",
          "name": "stderr",
          "text": [
            "WARNING:tensorflow:Early stopping conditioned on metric `val_mse` which is not available. Available metrics are: loss,mae,val_loss,val_mae\n"
          ]
        },
        {
          "output_type": "stream",
          "name": "stdout",
          "text": [
            "\n",
            "Epoch 115: val_loss improved from 241966928.00000 to 238628656.00000, saving model to /content/checkFile.hdf5\n",
            "29/29 [==============================] - 0s 5ms/step - loss: 234990416.0000 - mae: 10300.4951 - val_loss: 238628656.0000 - val_mae: 10682.3711\n",
            "Epoch 116/350\n",
            "23/29 [======================>.......] - ETA: 0s - loss: 223834976.0000 - mae: 10114.4902"
          ]
        },
        {
          "output_type": "stream",
          "name": "stderr",
          "text": [
            "WARNING:tensorflow:Early stopping conditioned on metric `val_mse` which is not available. Available metrics are: loss,mae,val_loss,val_mae\n"
          ]
        },
        {
          "output_type": "stream",
          "name": "stdout",
          "text": [
            "\n",
            "Epoch 116: val_loss improved from 238628656.00000 to 235577600.00000, saving model to /content/checkFile.hdf5\n",
            "29/29 [==============================] - 0s 4ms/step - loss: 231590704.0000 - mae: 10202.2119 - val_loss: 235577600.0000 - val_mae: 10608.7334\n",
            "Epoch 117/350\n",
            "24/29 [=======================>......] - ETA: 0s - loss: 226632816.0000 - mae: 10147.9326"
          ]
        },
        {
          "output_type": "stream",
          "name": "stderr",
          "text": [
            "WARNING:tensorflow:Early stopping conditioned on metric `val_mse` which is not available. Available metrics are: loss,mae,val_loss,val_mae\n"
          ]
        },
        {
          "output_type": "stream",
          "name": "stdout",
          "text": [
            "\n",
            "Epoch 117: val_loss improved from 235577600.00000 to 232642064.00000, saving model to /content/checkFile.hdf5\n",
            "29/29 [==============================] - 0s 4ms/step - loss: 228313104.0000 - mae: 10156.4229 - val_loss: 232642064.0000 - val_mae: 10541.1914\n",
            "Epoch 118/350\n",
            "23/29 [======================>.......] - ETA: 0s - loss: 227324032.0000 - mae: 10022.8711"
          ]
        },
        {
          "output_type": "stream",
          "name": "stderr",
          "text": [
            "WARNING:tensorflow:Early stopping conditioned on metric `val_mse` which is not available. Available metrics are: loss,mae,val_loss,val_mae\n"
          ]
        },
        {
          "output_type": "stream",
          "name": "stdout",
          "text": [
            "\n",
            "Epoch 118: val_loss improved from 232642064.00000 to 229622864.00000, saving model to /content/checkFile.hdf5\n",
            "29/29 [==============================] - 0s 5ms/step - loss: 225008560.0000 - mae: 10064.8428 - val_loss: 229622864.0000 - val_mae: 10468.4219\n",
            "Epoch 119/350\n",
            "23/29 [======================>.......] - ETA: 0s - loss: 228395392.0000 - mae: 10059.4492"
          ]
        },
        {
          "output_type": "stream",
          "name": "stderr",
          "text": [
            "WARNING:tensorflow:Early stopping conditioned on metric `val_mse` which is not available. Available metrics are: loss,mae,val_loss,val_mae\n"
          ]
        },
        {
          "output_type": "stream",
          "name": "stdout",
          "text": [
            "\n",
            "Epoch 119: val_loss improved from 229622864.00000 to 226318304.00000, saving model to /content/checkFile.hdf5\n",
            "29/29 [==============================] - 0s 5ms/step - loss: 221760096.0000 - mae: 9988.4395 - val_loss: 226318304.0000 - val_mae: 10378.6367\n",
            "Epoch 120/350\n",
            "19/29 [==================>...........] - ETA: 0s - loss: 219876368.0000 - mae: 9911.4102 "
          ]
        },
        {
          "output_type": "stream",
          "name": "stderr",
          "text": [
            "WARNING:tensorflow:Early stopping conditioned on metric `val_mse` which is not available. Available metrics are: loss,mae,val_loss,val_mae\n"
          ]
        },
        {
          "output_type": "stream",
          "name": "stdout",
          "text": [
            "\n",
            "Epoch 120: val_loss improved from 226318304.00000 to 223477472.00000, saving model to /content/checkFile.hdf5\n",
            "29/29 [==============================] - 0s 5ms/step - loss: 218481328.0000 - mae: 9931.0166 - val_loss: 223477472.0000 - val_mae: 10312.4004\n",
            "Epoch 121/350\n",
            "24/29 [=======================>......] - ETA: 0s - loss: 219935136.0000 - mae: 9857.2363"
          ]
        },
        {
          "output_type": "stream",
          "name": "stderr",
          "text": [
            "WARNING:tensorflow:Early stopping conditioned on metric `val_mse` which is not available. Available metrics are: loss,mae,val_loss,val_mae\n"
          ]
        },
        {
          "output_type": "stream",
          "name": "stdout",
          "text": [
            "\n",
            "Epoch 121: val_loss improved from 223477472.00000 to 220707328.00000, saving model to /content/checkFile.hdf5\n",
            "29/29 [==============================] - 0s 4ms/step - loss: 215376800.0000 - mae: 9836.8252 - val_loss: 220707328.0000 - val_mae: 10248.6572\n",
            "Epoch 122/350\n",
            "22/29 [=====================>........] - ETA: 0s - loss: 208319904.0000 - mae: 9701.5459"
          ]
        },
        {
          "output_type": "stream",
          "name": "stderr",
          "text": [
            "WARNING:tensorflow:Early stopping conditioned on metric `val_mse` which is not available. Available metrics are: loss,mae,val_loss,val_mae\n"
          ]
        },
        {
          "output_type": "stream",
          "name": "stdout",
          "text": [
            "\n",
            "Epoch 122: val_loss improved from 220707328.00000 to 217102512.00000, saving model to /content/checkFile.hdf5\n",
            "29/29 [==============================] - 0s 5ms/step - loss: 212100048.0000 - mae: 9761.8584 - val_loss: 217102512.0000 - val_mae: 10140.5742\n",
            "Epoch 123/350\n",
            "23/29 [======================>.......] - ETA: 0s - loss: 208569648.0000 - mae: 9782.0459 "
          ]
        },
        {
          "output_type": "stream",
          "name": "stderr",
          "text": [
            "WARNING:tensorflow:Early stopping conditioned on metric `val_mse` which is not available. Available metrics are: loss,mae,val_loss,val_mae\n"
          ]
        },
        {
          "output_type": "stream",
          "name": "stdout",
          "text": [
            "\n",
            "Epoch 123: val_loss improved from 217102512.00000 to 214306048.00000, saving model to /content/checkFile.hdf5\n",
            "29/29 [==============================] - 0s 5ms/step - loss: 208966640.0000 - mae: 9691.0361 - val_loss: 214306048.0000 - val_mae: 10071.6123\n",
            "Epoch 124/350\n",
            "22/29 [=====================>........] - ETA: 0s - loss: 207210912.0000 - mae: 9638.5078"
          ]
        },
        {
          "output_type": "stream",
          "name": "stderr",
          "text": [
            "WARNING:tensorflow:Early stopping conditioned on metric `val_mse` which is not available. Available metrics are: loss,mae,val_loss,val_mae\n"
          ]
        },
        {
          "output_type": "stream",
          "name": "stdout",
          "text": [
            "\n",
            "Epoch 124: val_loss improved from 214306048.00000 to 211213872.00000, saving model to /content/checkFile.hdf5\n",
            "29/29 [==============================] - 0s 5ms/step - loss: 205937408.0000 - mae: 9624.5303 - val_loss: 211213872.0000 - val_mae: 9987.0283\n",
            "Epoch 125/350\n",
            "23/29 [======================>.......] - ETA: 0s - loss: 195996368.0000 - mae: 9509.7383"
          ]
        },
        {
          "output_type": "stream",
          "name": "stderr",
          "text": [
            "WARNING:tensorflow:Early stopping conditioned on metric `val_mse` which is not available. Available metrics are: loss,mae,val_loss,val_mae\n"
          ]
        },
        {
          "output_type": "stream",
          "name": "stdout",
          "text": [
            "\n",
            "Epoch 125: val_loss improved from 211213872.00000 to 208340832.00000, saving model to /content/checkFile.hdf5\n",
            "29/29 [==============================] - 0s 4ms/step - loss: 202856976.0000 - mae: 9529.5996 - val_loss: 208340832.0000 - val_mae: 9913.7520\n",
            "Epoch 126/350\n",
            "22/29 [=====================>........] - ETA: 0s - loss: 200032672.0000 - mae: 9449.5332"
          ]
        },
        {
          "output_type": "stream",
          "name": "stderr",
          "text": [
            "WARNING:tensorflow:Early stopping conditioned on metric `val_mse` which is not available. Available metrics are: loss,mae,val_loss,val_mae\n"
          ]
        },
        {
          "output_type": "stream",
          "name": "stdout",
          "text": [
            "\n",
            "Epoch 126: val_loss improved from 208340832.00000 to 205507344.00000, saving model to /content/checkFile.hdf5\n",
            "29/29 [==============================] - 0s 5ms/step - loss: 199819792.0000 - mae: 9495.1914 - val_loss: 205507344.0000 - val_mae: 9843.1807\n",
            "Epoch 127/350\n",
            "22/29 [=====================>........] - ETA: 0s - loss: 190398432.0000 - mae: 9287.9922 "
          ]
        },
        {
          "output_type": "stream",
          "name": "stderr",
          "text": [
            "WARNING:tensorflow:Early stopping conditioned on metric `val_mse` which is not available. Available metrics are: loss,mae,val_loss,val_mae\n"
          ]
        },
        {
          "output_type": "stream",
          "name": "stdout",
          "text": [
            "\n",
            "Epoch 127: val_loss improved from 205507344.00000 to 202744048.00000, saving model to /content/checkFile.hdf5\n",
            "29/29 [==============================] - 0s 4ms/step - loss: 196805136.0000 - mae: 9389.5303 - val_loss: 202744048.0000 - val_mae: 9772.2627\n",
            "Epoch 128/350\n",
            "21/29 [====================>.........] - ETA: 0s - loss: 193320256.0000 - mae: 9296.1592"
          ]
        },
        {
          "output_type": "stream",
          "name": "stderr",
          "text": [
            "WARNING:tensorflow:Early stopping conditioned on metric `val_mse` which is not available. Available metrics are: loss,mae,val_loss,val_mae\n"
          ]
        },
        {
          "output_type": "stream",
          "name": "stdout",
          "text": [
            "\n",
            "Epoch 128: val_loss improved from 202744048.00000 to 199633360.00000, saving model to /content/checkFile.hdf5\n",
            "29/29 [==============================] - 0s 5ms/step - loss: 193806080.0000 - mae: 9342.2656 - val_loss: 199633360.0000 - val_mae: 9685.4863\n",
            "Epoch 129/350\n",
            "22/29 [=====================>........] - ETA: 0s - loss: 200146352.0000 - mae: 9395.1172 "
          ]
        },
        {
          "output_type": "stream",
          "name": "stderr",
          "text": [
            "WARNING:tensorflow:Early stopping conditioned on metric `val_mse` which is not available. Available metrics are: loss,mae,val_loss,val_mae\n"
          ]
        },
        {
          "output_type": "stream",
          "name": "stdout",
          "text": [
            "\n",
            "Epoch 129: val_loss improved from 199633360.00000 to 196562592.00000, saving model to /content/checkFile.hdf5\n",
            "29/29 [==============================] - 0s 5ms/step - loss: 190929776.0000 - mae: 9264.9629 - val_loss: 196562592.0000 - val_mae: 9600.9580\n",
            "Epoch 130/350\n",
            "24/29 [=======================>......] - ETA: 0s - loss: 194713168.0000 - mae: 9274.3555"
          ]
        },
        {
          "output_type": "stream",
          "name": "stderr",
          "text": [
            "WARNING:tensorflow:Early stopping conditioned on metric `val_mse` which is not available. Available metrics are: loss,mae,val_loss,val_mae\n"
          ]
        },
        {
          "output_type": "stream",
          "name": "stdout",
          "text": [
            "\n",
            "Epoch 130: val_loss improved from 196562592.00000 to 194194224.00000, saving model to /content/checkFile.hdf5\n",
            "29/29 [==============================] - 0s 4ms/step - loss: 187974320.0000 - mae: 9178.5303 - val_loss: 194194224.0000 - val_mae: 9548.1396\n",
            "Epoch 131/350\n",
            "23/29 [======================>.......] - ETA: 0s - loss: 189860016.0000 - mae: 9167.2666"
          ]
        },
        {
          "output_type": "stream",
          "name": "stderr",
          "text": [
            "WARNING:tensorflow:Early stopping conditioned on metric `val_mse` which is not available. Available metrics are: loss,mae,val_loss,val_mae\n"
          ]
        },
        {
          "output_type": "stream",
          "name": "stdout",
          "text": [
            "\n",
            "Epoch 131: val_loss improved from 194194224.00000 to 191145648.00000, saving model to /content/checkFile.hdf5\n",
            "29/29 [==============================] - 0s 5ms/step - loss: 185036496.0000 - mae: 9119.4541 - val_loss: 191145648.0000 - val_mae: 9460.7119\n",
            "Epoch 132/350\n",
            "23/29 [======================>.......] - ETA: 0s - loss: 184250192.0000 - mae: 9042.1182"
          ]
        },
        {
          "output_type": "stream",
          "name": "stderr",
          "text": [
            "WARNING:tensorflow:Early stopping conditioned on metric `val_mse` which is not available. Available metrics are: loss,mae,val_loss,val_mae\n"
          ]
        },
        {
          "output_type": "stream",
          "name": "stdout",
          "text": [
            "\n",
            "Epoch 132: val_loss improved from 191145648.00000 to 188382192.00000, saving model to /content/checkFile.hdf5\n",
            "29/29 [==============================] - 0s 5ms/step - loss: 182202784.0000 - mae: 9038.1807 - val_loss: 188382192.0000 - val_mae: 9385.8506\n",
            "Epoch 133/350\n",
            "19/29 [==================>...........] - ETA: 0s - loss: 181543712.0000 - mae: 9070.9600"
          ]
        },
        {
          "output_type": "stream",
          "name": "stderr",
          "text": [
            "WARNING:tensorflow:Early stopping conditioned on metric `val_mse` which is not available. Available metrics are: loss,mae,val_loss,val_mae\n"
          ]
        },
        {
          "output_type": "stream",
          "name": "stdout",
          "text": [
            "\n",
            "Epoch 133: val_loss improved from 188382192.00000 to 185309536.00000, saving model to /content/checkFile.hdf5\n",
            "29/29 [==============================] - 0s 5ms/step - loss: 179346976.0000 - mae: 8981.3193 - val_loss: 185309536.0000 - val_mae: 9296.3359\n",
            "Epoch 134/350\n",
            "19/29 [==================>...........] - ETA: 0s - loss: 171188464.0000 - mae: 8784.6709"
          ]
        },
        {
          "output_type": "stream",
          "name": "stderr",
          "text": [
            "WARNING:tensorflow:Early stopping conditioned on metric `val_mse` which is not available. Available metrics are: loss,mae,val_loss,val_mae\n"
          ]
        },
        {
          "output_type": "stream",
          "name": "stdout",
          "text": [
            "\n",
            "Epoch 134: val_loss improved from 185309536.00000 to 182762224.00000, saving model to /content/checkFile.hdf5\n",
            "29/29 [==============================] - 0s 5ms/step - loss: 176557040.0000 - mae: 8892.3311 - val_loss: 182762224.0000 - val_mae: 9229.9404\n",
            "Epoch 135/350\n",
            "23/29 [======================>.......] - ETA: 0s - loss: 172187952.0000 - mae: 8853.0977"
          ]
        },
        {
          "output_type": "stream",
          "name": "stderr",
          "text": [
            "WARNING:tensorflow:Early stopping conditioned on metric `val_mse` which is not available. Available metrics are: loss,mae,val_loss,val_mae\n"
          ]
        },
        {
          "output_type": "stream",
          "name": "stdout",
          "text": [
            "\n",
            "Epoch 135: val_loss improved from 182762224.00000 to 179895104.00000, saving model to /content/checkFile.hdf5\n",
            "29/29 [==============================] - 0s 5ms/step - loss: 173766368.0000 - mae: 8841.3984 - val_loss: 179895104.0000 - val_mae: 9150.5137\n",
            "Epoch 136/350\n",
            "20/29 [===================>..........] - ETA: 0s - loss: 174941344.0000 - mae: 8833.0039"
          ]
        },
        {
          "output_type": "stream",
          "name": "stderr",
          "text": [
            "WARNING:tensorflow:Early stopping conditioned on metric `val_mse` which is not available. Available metrics are: loss,mae,val_loss,val_mae\n"
          ]
        },
        {
          "output_type": "stream",
          "name": "stdout",
          "text": [
            "\n",
            "Epoch 136: val_loss improved from 179895104.00000 to 177142288.00000, saving model to /content/checkFile.hdf5\n",
            "29/29 [==============================] - 0s 5ms/step - loss: 170988848.0000 - mae: 8762.8223 - val_loss: 177142288.0000 - val_mae: 9073.0791\n",
            "Epoch 137/350\n",
            "19/29 [==================>...........] - ETA: 0s - loss: 165285024.0000 - mae: 8570.8887"
          ]
        },
        {
          "output_type": "stream",
          "name": "stderr",
          "text": [
            "WARNING:tensorflow:Early stopping conditioned on metric `val_mse` which is not available. Available metrics are: loss,mae,val_loss,val_mae\n"
          ]
        },
        {
          "output_type": "stream",
          "name": "stdout",
          "text": [
            "\n",
            "Epoch 137: val_loss improved from 177142288.00000 to 174551376.00000, saving model to /content/checkFile.hdf5\n",
            "29/29 [==============================] - 0s 5ms/step - loss: 168245664.0000 - mae: 8689.2822 - val_loss: 174551376.0000 - val_mae: 9002.8027\n",
            "Epoch 138/350\n",
            "21/29 [====================>.........] - ETA: 0s - loss: 174247808.0000 - mae: 8741.8848"
          ]
        },
        {
          "output_type": "stream",
          "name": "stderr",
          "text": [
            "WARNING:tensorflow:Early stopping conditioned on metric `val_mse` which is not available. Available metrics are: loss,mae,val_loss,val_mae\n"
          ]
        },
        {
          "output_type": "stream",
          "name": "stdout",
          "text": [
            "\n",
            "Epoch 138: val_loss improved from 174551376.00000 to 172597296.00000, saving model to /content/checkFile.hdf5\n",
            "29/29 [==============================] - 0s 5ms/step - loss: 165730976.0000 - mae: 8625.4014 - val_loss: 172597296.0000 - val_mae: 8956.1729\n",
            "Epoch 139/350\n",
            "22/29 [=====================>........] - ETA: 0s - loss: 164051696.0000 - mae: 8536.1777"
          ]
        },
        {
          "output_type": "stream",
          "name": "stderr",
          "text": [
            "WARNING:tensorflow:Early stopping conditioned on metric `val_mse` which is not available. Available metrics are: loss,mae,val_loss,val_mae\n"
          ]
        },
        {
          "output_type": "stream",
          "name": "stdout",
          "text": [
            "\n",
            "Epoch 139: val_loss improved from 172597296.00000 to 169083344.00000, saving model to /content/checkFile.hdf5\n",
            "29/29 [==============================] - 0s 4ms/step - loss: 162897008.0000 - mae: 8549.5830 - val_loss: 169083344.0000 - val_mae: 8849.1016\n",
            "Epoch 140/350\n",
            "23/29 [======================>.......] - ETA: 0s - loss: 159506944.0000 - mae: 8508.3193"
          ]
        },
        {
          "output_type": "stream",
          "name": "stderr",
          "text": [
            "WARNING:tensorflow:Early stopping conditioned on metric `val_mse` which is not available. Available metrics are: loss,mae,val_loss,val_mae\n"
          ]
        },
        {
          "output_type": "stream",
          "name": "stdout",
          "text": [
            "\n",
            "Epoch 140: val_loss improved from 169083344.00000 to 166487888.00000, saving model to /content/checkFile.hdf5\n",
            "29/29 [==============================] - 0s 4ms/step - loss: 160237248.0000 - mae: 8484.9414 - val_loss: 166487888.0000 - val_mae: 8777.4199\n",
            "Epoch 141/350\n",
            "17/29 [================>.............] - ETA: 0s - loss: 155721424.0000 - mae: 8443.9326"
          ]
        },
        {
          "output_type": "stream",
          "name": "stderr",
          "text": [
            "WARNING:tensorflow:Early stopping conditioned on metric `val_mse` which is not available. Available metrics are: loss,mae,val_loss,val_mae\n"
          ]
        },
        {
          "output_type": "stream",
          "name": "stdout",
          "text": [
            "\n",
            "Epoch 141: val_loss improved from 166487888.00000 to 163710128.00000, saving model to /content/checkFile.hdf5\n",
            "29/29 [==============================] - 0s 5ms/step - loss: 157625600.0000 - mae: 8418.2383 - val_loss: 163710128.0000 - val_mae: 8699.2314\n",
            "Epoch 142/350\n",
            "21/29 [====================>.........] - ETA: 0s - loss: 151870000.0000 - mae: 8336.2100"
          ]
        },
        {
          "output_type": "stream",
          "name": "stderr",
          "text": [
            "WARNING:tensorflow:Early stopping conditioned on metric `val_mse` which is not available. Available metrics are: loss,mae,val_loss,val_mae\n"
          ]
        },
        {
          "output_type": "stream",
          "name": "stdout",
          "text": [
            "\n",
            "Epoch 142: val_loss improved from 163710128.00000 to 161808656.00000, saving model to /content/checkFile.hdf5\n",
            "29/29 [==============================] - 0s 5ms/step - loss: 155093328.0000 - mae: 8342.1836 - val_loss: 161808656.0000 - val_mae: 8648.9824\n",
            "Epoch 143/350\n",
            "21/29 [====================>.........] - ETA: 0s - loss: 151598880.0000 - mae: 8262.9541"
          ]
        },
        {
          "output_type": "stream",
          "name": "stderr",
          "text": [
            "WARNING:tensorflow:Early stopping conditioned on metric `val_mse` which is not available. Available metrics are: loss,mae,val_loss,val_mae\n"
          ]
        },
        {
          "output_type": "stream",
          "name": "stdout",
          "text": [
            "\n",
            "Epoch 143: val_loss improved from 161808656.00000 to 158610192.00000, saving model to /content/checkFile.hdf5\n",
            "29/29 [==============================] - 0s 5ms/step - loss: 152510688.0000 - mae: 8284.2900 - val_loss: 158610192.0000 - val_mae: 8553.7344\n",
            "Epoch 144/350\n",
            "22/29 [=====================>........] - ETA: 0s - loss: 154099936.0000 - mae: 8290.8545"
          ]
        },
        {
          "output_type": "stream",
          "name": "stderr",
          "text": [
            "WARNING:tensorflow:Early stopping conditioned on metric `val_mse` which is not available. Available metrics are: loss,mae,val_loss,val_mae\n"
          ]
        },
        {
          "output_type": "stream",
          "name": "stdout",
          "text": [
            "\n",
            "Epoch 144: val_loss improved from 158610192.00000 to 156130048.00000, saving model to /content/checkFile.hdf5\n",
            "29/29 [==============================] - 0s 4ms/step - loss: 149976272.0000 - mae: 8212.4668 - val_loss: 156130048.0000 - val_mae: 8482.5049\n",
            "Epoch 145/350\n",
            "21/29 [====================>.........] - ETA: 0s - loss: 139343664.0000 - mae: 8041.1729"
          ]
        },
        {
          "output_type": "stream",
          "name": "stderr",
          "text": [
            "WARNING:tensorflow:Early stopping conditioned on metric `val_mse` which is not available. Available metrics are: loss,mae,val_loss,val_mae\n"
          ]
        },
        {
          "output_type": "stream",
          "name": "stdout",
          "text": [
            "\n",
            "Epoch 145: val_loss improved from 156130048.00000 to 153903488.00000, saving model to /content/checkFile.hdf5\n",
            "29/29 [==============================] - 0s 5ms/step - loss: 147425760.0000 - mae: 8139.7534 - val_loss: 153903488.0000 - val_mae: 8421.9609\n",
            "Epoch 146/350\n",
            "24/29 [=======================>......] - ETA: 0s - loss: 142307696.0000 - mae: 8029.6323"
          ]
        },
        {
          "output_type": "stream",
          "name": "stderr",
          "text": [
            "WARNING:tensorflow:Early stopping conditioned on metric `val_mse` which is not available. Available metrics are: loss,mae,val_loss,val_mae\n"
          ]
        },
        {
          "output_type": "stream",
          "name": "stdout",
          "text": [
            "\n",
            "Epoch 146: val_loss improved from 153903488.00000 to 150894560.00000, saving model to /content/checkFile.hdf5\n",
            "29/29 [==============================] - 0s 4ms/step - loss: 144954592.0000 - mae: 8084.9902 - val_loss: 150894560.0000 - val_mae: 8331.0332\n",
            "Epoch 147/350\n",
            "22/29 [=====================>........] - ETA: 0s - loss: 143851344.0000 - mae: 8062.2061"
          ]
        },
        {
          "output_type": "stream",
          "name": "stderr",
          "text": [
            "WARNING:tensorflow:Early stopping conditioned on metric `val_mse` which is not available. Available metrics are: loss,mae,val_loss,val_mae\n"
          ]
        },
        {
          "output_type": "stream",
          "name": "stdout",
          "text": [
            "\n",
            "Epoch 147: val_loss improved from 150894560.00000 to 148686144.00000, saving model to /content/checkFile.hdf5\n",
            "29/29 [==============================] - 0s 4ms/step - loss: 142503856.0000 - mae: 8002.9116 - val_loss: 148686144.0000 - val_mae: 8265.7021\n",
            "Epoch 148/350\n",
            "18/29 [=================>............] - ETA: 0s - loss: 138116624.0000 - mae: 7938.2075"
          ]
        },
        {
          "output_type": "stream",
          "name": "stderr",
          "text": [
            "WARNING:tensorflow:Early stopping conditioned on metric `val_mse` which is not available. Available metrics are: loss,mae,val_loss,val_mae\n"
          ]
        },
        {
          "output_type": "stream",
          "name": "stdout",
          "text": [
            "\n",
            "Epoch 148: val_loss improved from 148686144.00000 to 146186832.00000, saving model to /content/checkFile.hdf5\n",
            "29/29 [==============================] - 0s 5ms/step - loss: 140065312.0000 - mae: 7940.7212 - val_loss: 146186832.0000 - val_mae: 8192.2871\n",
            "Epoch 149/350\n",
            "22/29 [=====================>........] - ETA: 0s - loss: 137826128.0000 - mae: 7833.1313"
          ]
        },
        {
          "output_type": "stream",
          "name": "stderr",
          "text": [
            "WARNING:tensorflow:Early stopping conditioned on metric `val_mse` which is not available. Available metrics are: loss,mae,val_loss,val_mae\n"
          ]
        },
        {
          "output_type": "stream",
          "name": "stdout",
          "text": [
            "\n",
            "Epoch 149: val_loss improved from 146186832.00000 to 143699904.00000, saving model to /content/checkFile.hdf5\n",
            "29/29 [==============================] - 0s 5ms/step - loss: 137633680.0000 - mae: 7867.8081 - val_loss: 143699904.0000 - val_mae: 8116.4419\n",
            "Epoch 150/350\n",
            "24/29 [=======================>......] - ETA: 0s - loss: 137559584.0000 - mae: 7823.9448"
          ]
        },
        {
          "output_type": "stream",
          "name": "stderr",
          "text": [
            "WARNING:tensorflow:Early stopping conditioned on metric `val_mse` which is not available. Available metrics are: loss,mae,val_loss,val_mae\n"
          ]
        },
        {
          "output_type": "stream",
          "name": "stdout",
          "text": [
            "\n",
            "Epoch 150: val_loss improved from 143699904.00000 to 141480464.00000, saving model to /content/checkFile.hdf5\n",
            "29/29 [==============================] - 0s 4ms/step - loss: 135268304.0000 - mae: 7800.2568 - val_loss: 141480464.0000 - val_mae: 8052.2466\n",
            "Epoch 151/350\n",
            "21/29 [====================>.........] - ETA: 0s - loss: 130264264.0000 - mae: 7699.6367"
          ]
        },
        {
          "output_type": "stream",
          "name": "stderr",
          "text": [
            "WARNING:tensorflow:Early stopping conditioned on metric `val_mse` which is not available. Available metrics are: loss,mae,val_loss,val_mae\n"
          ]
        },
        {
          "output_type": "stream",
          "name": "stdout",
          "text": [
            "\n",
            "Epoch 151: val_loss improved from 141480464.00000 to 138820000.00000, saving model to /content/checkFile.hdf5\n",
            "29/29 [==============================] - 0s 5ms/step - loss: 132917568.0000 - mae: 7743.2988 - val_loss: 138820000.0000 - val_mae: 7969.3604\n",
            "Epoch 152/350\n",
            "23/29 [======================>.......] - ETA: 0s - loss: 134179880.0000 - mae: 7787.2427"
          ]
        },
        {
          "output_type": "stream",
          "name": "stderr",
          "text": [
            "WARNING:tensorflow:Early stopping conditioned on metric `val_mse` which is not available. Available metrics are: loss,mae,val_loss,val_mae\n"
          ]
        },
        {
          "output_type": "stream",
          "name": "stdout",
          "text": [
            "\n",
            "Epoch 152: val_loss improved from 138820000.00000 to 136453248.00000, saving model to /content/checkFile.hdf5\n",
            "29/29 [==============================] - 0s 5ms/step - loss: 130570608.0000 - mae: 7665.1069 - val_loss: 136453248.0000 - val_mae: 7898.3706\n",
            "Epoch 153/350\n",
            "29/29 [==============================] - ETA: 0s - loss: 128241112.0000 - mae: 7604.1655"
          ]
        },
        {
          "output_type": "stream",
          "name": "stderr",
          "text": [
            "WARNING:tensorflow:Early stopping conditioned on metric `val_mse` which is not available. Available metrics are: loss,mae,val_loss,val_mae\n"
          ]
        },
        {
          "output_type": "stream",
          "name": "stdout",
          "text": [
            "\n",
            "Epoch 153: val_loss improved from 136453248.00000 to 134165648.00000, saving model to /content/checkFile.hdf5\n",
            "29/29 [==============================] - 0s 7ms/step - loss: 128241112.0000 - mae: 7604.1655 - val_loss: 134165648.0000 - val_mae: 7829.0464\n",
            "Epoch 154/350\n",
            "28/29 [===========================>..] - ETA: 0s - loss: 125162904.0000 - mae: 7514.2334"
          ]
        },
        {
          "output_type": "stream",
          "name": "stderr",
          "text": [
            "WARNING:tensorflow:Early stopping conditioned on metric `val_mse` which is not available. Available metrics are: loss,mae,val_loss,val_mae\n"
          ]
        },
        {
          "output_type": "stream",
          "name": "stdout",
          "text": [
            "\n",
            "Epoch 154: val_loss improved from 134165648.00000 to 132121864.00000, saving model to /content/checkFile.hdf5\n",
            "29/29 [==============================] - 0s 7ms/step - loss: 125974232.0000 - mae: 7528.8076 - val_loss: 132121864.0000 - val_mae: 7766.5615\n",
            "Epoch 155/350\n",
            "17/29 [================>.............] - ETA: 0s - loss: 119612128.0000 - mae: 7393.3984"
          ]
        },
        {
          "output_type": "stream",
          "name": "stderr",
          "text": [
            "WARNING:tensorflow:Early stopping conditioned on metric `val_mse` which is not available. Available metrics are: loss,mae,val_loss,val_mae\n"
          ]
        },
        {
          "output_type": "stream",
          "name": "stdout",
          "text": [
            "\n",
            "Epoch 155: val_loss improved from 132121864.00000 to 129462088.00000, saving model to /content/checkFile.hdf5\n",
            "29/29 [==============================] - 0s 6ms/step - loss: 123738640.0000 - mae: 7466.7222 - val_loss: 129462088.0000 - val_mae: 7680.5283\n",
            "Epoch 156/350\n",
            "17/29 [================>.............] - ETA: 0s - loss: 118788536.0000 - mae: 7378.4424"
          ]
        },
        {
          "output_type": "stream",
          "name": "stderr",
          "text": [
            "WARNING:tensorflow:Early stopping conditioned on metric `val_mse` which is not available. Available metrics are: loss,mae,val_loss,val_mae\n"
          ]
        },
        {
          "output_type": "stream",
          "name": "stdout",
          "text": [
            "\n",
            "Epoch 156: val_loss improved from 129462088.00000 to 127474624.00000, saving model to /content/checkFile.hdf5\n",
            "29/29 [==============================] - 0s 6ms/step - loss: 121477968.0000 - mae: 7395.0703 - val_loss: 127474624.0000 - val_mae: 7623.8462\n",
            "Epoch 157/350\n",
            "18/29 [=================>............] - ETA: 0s - loss: 124163192.0000 - mae: 7409.2646"
          ]
        },
        {
          "output_type": "stream",
          "name": "stderr",
          "text": [
            "WARNING:tensorflow:Early stopping conditioned on metric `val_mse` which is not available. Available metrics are: loss,mae,val_loss,val_mae\n"
          ]
        },
        {
          "output_type": "stream",
          "name": "stdout",
          "text": [
            "\n",
            "Epoch 157: val_loss improved from 127474624.00000 to 124840264.00000, saving model to /content/checkFile.hdf5\n",
            "29/29 [==============================] - 0s 5ms/step - loss: 119300552.0000 - mae: 7336.3027 - val_loss: 124840264.0000 - val_mae: 7537.0908\n",
            "Epoch 158/350\n",
            "18/29 [=================>............] - ETA: 0s - loss: 118023768.0000 - mae: 7263.4961"
          ]
        },
        {
          "output_type": "stream",
          "name": "stderr",
          "text": [
            "WARNING:tensorflow:Early stopping conditioned on metric `val_mse` which is not available. Available metrics are: loss,mae,val_loss,val_mae\n"
          ]
        },
        {
          "output_type": "stream",
          "name": "stdout",
          "text": [
            "\n",
            "Epoch 158: val_loss improved from 124840264.00000 to 122987760.00000, saving model to /content/checkFile.hdf5\n",
            "29/29 [==============================] - 0s 5ms/step - loss: 117086168.0000 - mae: 7267.6079 - val_loss: 122987760.0000 - val_mae: 7481.1255\n",
            "Epoch 159/350\n",
            "17/29 [================>.............] - ETA: 0s - loss: 120023840.0000 - mae: 7222.1025"
          ]
        },
        {
          "output_type": "stream",
          "name": "stderr",
          "text": [
            "WARNING:tensorflow:Early stopping conditioned on metric `val_mse` which is not available. Available metrics are: loss,mae,val_loss,val_mae\n"
          ]
        },
        {
          "output_type": "stream",
          "name": "stdout",
          "text": [
            "\n",
            "Epoch 159: val_loss improved from 122987760.00000 to 120436888.00000, saving model to /content/checkFile.hdf5\n",
            "29/29 [==============================] - 0s 6ms/step - loss: 114953944.0000 - mae: 7199.3882 - val_loss: 120436888.0000 - val_mae: 7396.4668\n",
            "Epoch 160/350\n",
            "27/29 [==========================>...] - ETA: 0s - loss: 113132232.0000 - mae: 7115.7256"
          ]
        },
        {
          "output_type": "stream",
          "name": "stderr",
          "text": [
            "WARNING:tensorflow:Early stopping conditioned on metric `val_mse` which is not available. Available metrics are: loss,mae,val_loss,val_mae\n"
          ]
        },
        {
          "output_type": "stream",
          "name": "stdout",
          "text": [
            "\n",
            "Epoch 160: val_loss improved from 120436888.00000 to 118407016.00000, saving model to /content/checkFile.hdf5\n",
            "29/29 [==============================] - 0s 7ms/step - loss: 112809136.0000 - mae: 7132.8892 - val_loss: 118407016.0000 - val_mae: 7333.2144\n",
            "Epoch 161/350\n",
            "29/29 [==============================] - ETA: 0s - loss: 110740088.0000 - mae: 7065.8760"
          ]
        },
        {
          "output_type": "stream",
          "name": "stderr",
          "text": [
            "WARNING:tensorflow:Early stopping conditioned on metric `val_mse` which is not available. Available metrics are: loss,mae,val_loss,val_mae\n"
          ]
        },
        {
          "output_type": "stream",
          "name": "stdout",
          "text": [
            "\n",
            "Epoch 161: val_loss improved from 118407016.00000 to 115952880.00000, saving model to /content/checkFile.hdf5\n",
            "29/29 [==============================] - 0s 7ms/step - loss: 110740088.0000 - mae: 7065.8760 - val_loss: 115952880.0000 - val_mae: 7251.0562\n",
            "Epoch 162/350\n",
            "16/29 [===============>..............] - ETA: 0s - loss: 108513832.0000 - mae: 6964.9126"
          ]
        },
        {
          "output_type": "stream",
          "name": "stderr",
          "text": [
            "WARNING:tensorflow:Early stopping conditioned on metric `val_mse` which is not available. Available metrics are: loss,mae,val_loss,val_mae\n"
          ]
        },
        {
          "output_type": "stream",
          "name": "stdout",
          "text": [
            "\n",
            "Epoch 162: val_loss improved from 115952880.00000 to 113850520.00000, saving model to /content/checkFile.hdf5\n",
            "29/29 [==============================] - 0s 6ms/step - loss: 108782040.0000 - mae: 7011.1885 - val_loss: 113850520.0000 - val_mae: 7182.6792\n",
            "Epoch 163/350\n",
            "14/29 [=============>................] - ETA: 0s - loss: 104020912.0000 - mae: 6983.7617"
          ]
        },
        {
          "output_type": "stream",
          "name": "stderr",
          "text": [
            "WARNING:tensorflow:Early stopping conditioned on metric `val_mse` which is not available. Available metrics are: loss,mae,val_loss,val_mae\n"
          ]
        },
        {
          "output_type": "stream",
          "name": "stdout",
          "text": [
            "\n",
            "Epoch 163: val_loss improved from 113850520.00000 to 112378624.00000, saving model to /content/checkFile.hdf5\n",
            "29/29 [==============================] - 0s 6ms/step - loss: 106712760.0000 - mae: 6930.3354 - val_loss: 112378624.0000 - val_mae: 7141.3232\n",
            "Epoch 164/350\n",
            "19/29 [==================>...........] - ETA: 0s - loss: 104057360.0000 - mae: 6844.1143"
          ]
        },
        {
          "output_type": "stream",
          "name": "stderr",
          "text": [
            "WARNING:tensorflow:Early stopping conditioned on metric `val_mse` which is not available. Available metrics are: loss,mae,val_loss,val_mae\n"
          ]
        },
        {
          "output_type": "stream",
          "name": "stdout",
          "text": [
            "\n",
            "Epoch 164: val_loss improved from 112378624.00000 to 109966400.00000, saving model to /content/checkFile.hdf5\n",
            "29/29 [==============================] - 0s 6ms/step - loss: 104596208.0000 - mae: 6870.1553 - val_loss: 109966400.0000 - val_mae: 7056.1240\n",
            "Epoch 165/350\n",
            "17/29 [================>.............] - ETA: 0s - loss: 101688032.0000 - mae: 6764.1943"
          ]
        },
        {
          "output_type": "stream",
          "name": "stderr",
          "text": [
            "WARNING:tensorflow:Early stopping conditioned on metric `val_mse` which is not available. Available metrics are: loss,mae,val_loss,val_mae\n"
          ]
        },
        {
          "output_type": "stream",
          "name": "stdout",
          "text": [
            "\n",
            "Epoch 165: val_loss improved from 109966400.00000 to 108154080.00000, saving model to /content/checkFile.hdf5\n",
            "29/29 [==============================] - 0s 6ms/step - loss: 102580792.0000 - mae: 6798.4219 - val_loss: 108154080.0000 - val_mae: 6998.9028\n",
            "Epoch 166/350\n",
            "14/29 [=============>................] - ETA: 0s - loss: 95828736.0000 - mae: 6651.9956 "
          ]
        },
        {
          "output_type": "stream",
          "name": "stderr",
          "text": [
            "WARNING:tensorflow:Early stopping conditioned on metric `val_mse` which is not available. Available metrics are: loss,mae,val_loss,val_mae\n"
          ]
        },
        {
          "output_type": "stream",
          "name": "stdout",
          "text": [
            "\n",
            "Epoch 166: val_loss improved from 108154080.00000 to 105944696.00000, saving model to /content/checkFile.hdf5\n",
            "29/29 [==============================] - 0s 6ms/step - loss: 100678120.0000 - mae: 6747.1748 - val_loss: 105944696.0000 - val_mae: 6922.3354\n",
            "Epoch 167/350\n",
            "15/29 [==============>...............] - ETA: 0s - loss: 95633104.0000 - mae: 6671.0557"
          ]
        },
        {
          "output_type": "stream",
          "name": "stderr",
          "text": [
            "WARNING:tensorflow:Early stopping conditioned on metric `val_mse` which is not available. Available metrics are: loss,mae,val_loss,val_mae\n"
          ]
        },
        {
          "output_type": "stream",
          "name": "stdout",
          "text": [
            "\n",
            "Epoch 167: val_loss improved from 105944696.00000 to 104068184.00000, saving model to /content/checkFile.hdf5\n",
            "29/29 [==============================] - 0s 6ms/step - loss: 98674080.0000 - mae: 6669.5996 - val_loss: 104068184.0000 - val_mae: 6860.8789\n",
            "Epoch 168/350\n",
            "16/29 [===============>..............] - ETA: 0s - loss: 97074200.0000 - mae: 6606.2515"
          ]
        },
        {
          "output_type": "stream",
          "name": "stderr",
          "text": [
            "WARNING:tensorflow:Early stopping conditioned on metric `val_mse` which is not available. Available metrics are: loss,mae,val_loss,val_mae\n"
          ]
        },
        {
          "output_type": "stream",
          "name": "stdout",
          "text": [
            "\n",
            "Epoch 168: val_loss improved from 104068184.00000 to 102144448.00000, saving model to /content/checkFile.hdf5\n",
            "29/29 [==============================] - 0s 6ms/step - loss: 96818000.0000 - mae: 6610.9429 - val_loss: 102144448.0000 - val_mae: 6798.8516\n",
            "Epoch 169/350\n",
            "18/29 [=================>............] - ETA: 0s - loss: 96406408.0000 - mae: 6579.4370 "
          ]
        },
        {
          "output_type": "stream",
          "name": "stderr",
          "text": [
            "WARNING:tensorflow:Early stopping conditioned on metric `val_mse` which is not available. Available metrics are: loss,mae,val_loss,val_mae\n"
          ]
        },
        {
          "output_type": "stream",
          "name": "stdout",
          "text": [
            "\n",
            "Epoch 169: val_loss improved from 102144448.00000 to 100093616.00000, saving model to /content/checkFile.hdf5\n",
            "29/29 [==============================] - 0s 6ms/step - loss: 94902536.0000 - mae: 6550.4429 - val_loss: 100093616.0000 - val_mae: 6727.1064\n",
            "Epoch 170/350\n",
            "27/29 [==========================>...] - ETA: 0s - loss: 93329648.0000 - mae: 6493.2368"
          ]
        },
        {
          "output_type": "stream",
          "name": "stderr",
          "text": [
            "WARNING:tensorflow:Early stopping conditioned on metric `val_mse` which is not available. Available metrics are: loss,mae,val_loss,val_mae\n"
          ]
        },
        {
          "output_type": "stream",
          "name": "stdout",
          "text": [
            "\n",
            "Epoch 170: val_loss improved from 100093616.00000 to 98194280.00000, saving model to /content/checkFile.hdf5\n",
            "29/29 [==============================] - 0s 7ms/step - loss: 93031144.0000 - mae: 6483.1802 - val_loss: 98194280.0000 - val_mae: 6662.0938\n",
            "Epoch 171/350\n",
            "21/29 [====================>.........] - ETA: 0s - loss: 96375048.0000 - mae: 6580.0039 "
          ]
        },
        {
          "output_type": "stream",
          "name": "stderr",
          "text": [
            "WARNING:tensorflow:Early stopping conditioned on metric `val_mse` which is not available. Available metrics are: loss,mae,val_loss,val_mae\n"
          ]
        },
        {
          "output_type": "stream",
          "name": "stdout",
          "text": [
            "\n",
            "Epoch 171: val_loss improved from 98194280.00000 to 96168104.00000, saving model to /content/checkFile.hdf5\n",
            "29/29 [==============================] - 0s 4ms/step - loss: 91209440.0000 - mae: 6423.3389 - val_loss: 96168104.0000 - val_mae: 6589.2305\n",
            "Epoch 172/350\n",
            "18/29 [=================>............] - ETA: 0s - loss: 93268800.0000 - mae: 6465.5864"
          ]
        },
        {
          "output_type": "stream",
          "name": "stderr",
          "text": [
            "WARNING:tensorflow:Early stopping conditioned on metric `val_mse` which is not available. Available metrics are: loss,mae,val_loss,val_mae\n"
          ]
        },
        {
          "output_type": "stream",
          "name": "stdout",
          "text": [
            "\n",
            "Epoch 172: val_loss improved from 96168104.00000 to 94383048.00000, saving model to /content/checkFile.hdf5\n",
            "29/29 [==============================] - 0s 5ms/step - loss: 89376856.0000 - mae: 6351.1606 - val_loss: 94383048.0000 - val_mae: 6527.6860\n",
            "Epoch 173/350\n",
            "22/29 [=====================>........] - ETA: 0s - loss: 88260856.0000 - mae: 6327.3550"
          ]
        },
        {
          "output_type": "stream",
          "name": "stderr",
          "text": [
            "WARNING:tensorflow:Early stopping conditioned on metric `val_mse` which is not available. Available metrics are: loss,mae,val_loss,val_mae\n"
          ]
        },
        {
          "output_type": "stream",
          "name": "stdout",
          "text": [
            "\n",
            "Epoch 173: val_loss improved from 94383048.00000 to 92622008.00000, saving model to /content/checkFile.hdf5\n",
            "29/29 [==============================] - 0s 5ms/step - loss: 87559528.0000 - mae: 6289.8291 - val_loss: 92622008.0000 - val_mae: 6467.7656\n",
            "Epoch 174/350\n",
            "21/29 [====================>.........] - ETA: 0s - loss: 86811248.0000 - mae: 6226.1060"
          ]
        },
        {
          "output_type": "stream",
          "name": "stderr",
          "text": [
            "WARNING:tensorflow:Early stopping conditioned on metric `val_mse` which is not available. Available metrics are: loss,mae,val_loss,val_mae\n"
          ]
        },
        {
          "output_type": "stream",
          "name": "stdout",
          "text": [
            "\n",
            "Epoch 174: val_loss improved from 92622008.00000 to 90669328.00000, saving model to /content/checkFile.hdf5\n",
            "29/29 [==============================] - 0s 5ms/step - loss: 85830008.0000 - mae: 6230.3521 - val_loss: 90669328.0000 - val_mae: 6394.7100\n",
            "Epoch 175/350\n",
            "22/29 [=====================>........] - ETA: 0s - loss: 83516040.0000 - mae: 6198.3257"
          ]
        },
        {
          "output_type": "stream",
          "name": "stderr",
          "text": [
            "WARNING:tensorflow:Early stopping conditioned on metric `val_mse` which is not available. Available metrics are: loss,mae,val_loss,val_mae\n"
          ]
        },
        {
          "output_type": "stream",
          "name": "stdout",
          "text": [
            "\n",
            "Epoch 175: val_loss improved from 90669328.00000 to 89346640.00000, saving model to /content/checkFile.hdf5\n",
            "29/29 [==============================] - 0s 5ms/step - loss: 84047176.0000 - mae: 6161.1616 - val_loss: 89346640.0000 - val_mae: 6354.2363\n",
            "Epoch 176/350\n",
            "21/29 [====================>.........] - ETA: 0s - loss: 84483808.0000 - mae: 6136.2710"
          ]
        },
        {
          "output_type": "stream",
          "name": "stderr",
          "text": [
            "WARNING:tensorflow:Early stopping conditioned on metric `val_mse` which is not available. Available metrics are: loss,mae,val_loss,val_mae\n"
          ]
        },
        {
          "output_type": "stream",
          "name": "stdout",
          "text": [
            "\n",
            "Epoch 176: val_loss improved from 89346640.00000 to 87329936.00000, saving model to /content/checkFile.hdf5\n",
            "29/29 [==============================] - 0s 4ms/step - loss: 82441984.0000 - mae: 6106.7583 - val_loss: 87329936.0000 - val_mae: 6276.4028\n",
            "Epoch 177/350\n",
            "22/29 [=====================>........] - ETA: 0s - loss: 79424816.0000 - mae: 5996.8423"
          ]
        },
        {
          "output_type": "stream",
          "name": "stderr",
          "text": [
            "WARNING:tensorflow:Early stopping conditioned on metric `val_mse` which is not available. Available metrics are: loss,mae,val_loss,val_mae\n"
          ]
        },
        {
          "output_type": "stream",
          "name": "stdout",
          "text": [
            "\n",
            "Epoch 177: val_loss improved from 87329936.00000 to 85372008.00000, saving model to /content/checkFile.hdf5\n",
            "29/29 [==============================] - 0s 5ms/step - loss: 80709824.0000 - mae: 6045.3711 - val_loss: 85372008.0000 - val_mae: 6198.1685\n",
            "Epoch 178/350\n",
            "21/29 [====================>.........] - ETA: 0s - loss: 78295672.0000 - mae: 5955.6997"
          ]
        },
        {
          "output_type": "stream",
          "name": "stderr",
          "text": [
            "WARNING:tensorflow:Early stopping conditioned on metric `val_mse` which is not available. Available metrics are: loss,mae,val_loss,val_mae\n"
          ]
        },
        {
          "output_type": "stream",
          "name": "stdout",
          "text": [
            "\n",
            "Epoch 178: val_loss improved from 85372008.00000 to 83935528.00000, saving model to /content/checkFile.hdf5\n",
            "29/29 [==============================] - 0s 4ms/step - loss: 79070008.0000 - mae: 5976.9424 - val_loss: 83935528.0000 - val_mae: 6149.0229\n",
            "Epoch 179/350\n",
            "19/29 [==================>...........] - ETA: 0s - loss: 76569640.0000 - mae: 5965.6885"
          ]
        },
        {
          "output_type": "stream",
          "name": "stderr",
          "text": [
            "WARNING:tensorflow:Early stopping conditioned on metric `val_mse` which is not available. Available metrics are: loss,mae,val_loss,val_mae\n"
          ]
        },
        {
          "output_type": "stream",
          "name": "stdout",
          "text": [
            "\n",
            "Epoch 179: val_loss improved from 83935528.00000 to 82017392.00000, saving model to /content/checkFile.hdf5\n",
            "29/29 [==============================] - 0s 5ms/step - loss: 77477224.0000 - mae: 5919.4990 - val_loss: 82017392.0000 - val_mae: 6071.0815\n",
            "Epoch 180/350\n",
            "24/29 [=======================>......] - ETA: 0s - loss: 76252872.0000 - mae: 5895.1768"
          ]
        },
        {
          "output_type": "stream",
          "name": "stderr",
          "text": [
            "WARNING:tensorflow:Early stopping conditioned on metric `val_mse` which is not available. Available metrics are: loss,mae,val_loss,val_mae\n"
          ]
        },
        {
          "output_type": "stream",
          "name": "stdout",
          "text": [
            "\n",
            "Epoch 180: val_loss improved from 82017392.00000 to 80558336.00000, saving model to /content/checkFile.hdf5\n",
            "29/29 [==============================] - 0s 5ms/step - loss: 75858552.0000 - mae: 5856.5825 - val_loss: 80558336.0000 - val_mae: 6018.8271\n",
            "Epoch 181/350\n",
            "23/29 [======================>.......] - ETA: 0s - loss: 73403264.0000 - mae: 5770.5518"
          ]
        },
        {
          "output_type": "stream",
          "name": "stderr",
          "text": [
            "WARNING:tensorflow:Early stopping conditioned on metric `val_mse` which is not available. Available metrics are: loss,mae,val_loss,val_mae\n"
          ]
        },
        {
          "output_type": "stream",
          "name": "stdout",
          "text": [
            "\n",
            "Epoch 181: val_loss improved from 80558336.00000 to 78857272.00000, saving model to /content/checkFile.hdf5\n",
            "29/29 [==============================] - 0s 5ms/step - loss: 74287144.0000 - mae: 5795.7441 - val_loss: 78857272.0000 - val_mae: 5950.2603\n",
            "Epoch 182/350\n",
            "23/29 [======================>.......] - ETA: 0s - loss: 74019056.0000 - mae: 5775.2324"
          ]
        },
        {
          "output_type": "stream",
          "name": "stderr",
          "text": [
            "WARNING:tensorflow:Early stopping conditioned on metric `val_mse` which is not available. Available metrics are: loss,mae,val_loss,val_mae\n"
          ]
        },
        {
          "output_type": "stream",
          "name": "stdout",
          "text": [
            "\n",
            "Epoch 182: val_loss improved from 78857272.00000 to 77194856.00000, saving model to /content/checkFile.hdf5\n",
            "29/29 [==============================] - 0s 4ms/step - loss: 72765408.0000 - mae: 5739.9404 - val_loss: 77194856.0000 - val_mae: 5882.2085\n",
            "Epoch 183/350\n",
            "24/29 [=======================>......] - ETA: 0s - loss: 73483608.0000 - mae: 5734.2915"
          ]
        },
        {
          "output_type": "stream",
          "name": "stderr",
          "text": [
            "WARNING:tensorflow:Early stopping conditioned on metric `val_mse` which is not available. Available metrics are: loss,mae,val_loss,val_mae\n"
          ]
        },
        {
          "output_type": "stream",
          "name": "stdout",
          "text": [
            "\n",
            "Epoch 183: val_loss improved from 77194856.00000 to 75889944.00000, saving model to /content/checkFile.hdf5\n",
            "29/29 [==============================] - 0s 4ms/step - loss: 71273144.0000 - mae: 5675.0283 - val_loss: 75889944.0000 - val_mae: 5834.4282\n",
            "Epoch 184/350\n",
            "21/29 [====================>.........] - ETA: 0s - loss: 67345608.0000 - mae: 5576.2310"
          ]
        },
        {
          "output_type": "stream",
          "name": "stderr",
          "text": [
            "WARNING:tensorflow:Early stopping conditioned on metric `val_mse` which is not available. Available metrics are: loss,mae,val_loss,val_mae\n"
          ]
        },
        {
          "output_type": "stream",
          "name": "stdout",
          "text": [
            "\n",
            "Epoch 184: val_loss improved from 75889944.00000 to 74060040.00000, saving model to /content/checkFile.hdf5\n",
            "29/29 [==============================] - 0s 5ms/step - loss: 69769472.0000 - mae: 5617.6421 - val_loss: 74060040.0000 - val_mae: 5754.9902\n",
            "Epoch 185/350\n",
            "22/29 [=====================>........] - ETA: 0s - loss: 67368864.0000 - mae: 5526.8516"
          ]
        },
        {
          "output_type": "stream",
          "name": "stderr",
          "text": [
            "WARNING:tensorflow:Early stopping conditioned on metric `val_mse` which is not available. Available metrics are: loss,mae,val_loss,val_mae\n"
          ]
        },
        {
          "output_type": "stream",
          "name": "stdout",
          "text": [
            "\n",
            "Epoch 185: val_loss improved from 74060040.00000 to 72868720.00000, saving model to /content/checkFile.hdf5\n",
            "29/29 [==============================] - 0s 5ms/step - loss: 68348600.0000 - mae: 5556.0903 - val_loss: 72868720.0000 - val_mae: 5708.8628\n",
            "Epoch 186/350\n",
            "19/29 [==================>...........] - ETA: 0s - loss: 64793824.0000 - mae: 5482.8438"
          ]
        },
        {
          "output_type": "stream",
          "name": "stderr",
          "text": [
            "WARNING:tensorflow:Early stopping conditioned on metric `val_mse` which is not available. Available metrics are: loss,mae,val_loss,val_mae\n"
          ]
        },
        {
          "output_type": "stream",
          "name": "stdout",
          "text": [
            "\n",
            "Epoch 186: val_loss improved from 72868720.00000 to 71178872.00000, saving model to /content/checkFile.hdf5\n",
            "29/29 [==============================] - 0s 5ms/step - loss: 66891412.0000 - mae: 5503.8760 - val_loss: 71178872.0000 - val_mae: 5634.0151\n",
            "Epoch 187/350\n",
            "23/29 [======================>.......] - ETA: 0s - loss: 65704972.0000 - mae: 5466.4746"
          ]
        },
        {
          "output_type": "stream",
          "name": "stderr",
          "text": [
            "WARNING:tensorflow:Early stopping conditioned on metric `val_mse` which is not available. Available metrics are: loss,mae,val_loss,val_mae\n"
          ]
        },
        {
          "output_type": "stream",
          "name": "stdout",
          "text": [
            "\n",
            "Epoch 187: val_loss improved from 71178872.00000 to 69897904.00000, saving model to /content/checkFile.hdf5\n",
            "29/29 [==============================] - 0s 4ms/step - loss: 65581808.0000 - mae: 5449.3579 - val_loss: 69897904.0000 - val_mae: 5581.9775\n",
            "Epoch 188/350\n",
            "23/29 [======================>.......] - ETA: 0s - loss: 64168268.0000 - mae: 5418.5312"
          ]
        },
        {
          "output_type": "stream",
          "name": "stderr",
          "text": [
            "WARNING:tensorflow:Early stopping conditioned on metric `val_mse` which is not available. Available metrics are: loss,mae,val_loss,val_mae\n"
          ]
        },
        {
          "output_type": "stream",
          "name": "stdout",
          "text": [
            "\n",
            "Epoch 188: val_loss improved from 69897904.00000 to 68552696.00000, saving model to /content/checkFile.hdf5\n",
            "29/29 [==============================] - 0s 4ms/step - loss: 64248692.0000 - mae: 5387.3979 - val_loss: 68552696.0000 - val_mae: 5524.5127\n",
            "Epoch 189/350\n",
            "20/29 [===================>..........] - ETA: 0s - loss: 63616184.0000 - mae: 5333.7056"
          ]
        },
        {
          "output_type": "stream",
          "name": "stderr",
          "text": [
            "WARNING:tensorflow:Early stopping conditioned on metric `val_mse` which is not available. Available metrics are: loss,mae,val_loss,val_mae\n"
          ]
        },
        {
          "output_type": "stream",
          "name": "stdout",
          "text": [
            "\n",
            "Epoch 189: val_loss improved from 68552696.00000 to 67284592.00000, saving model to /content/checkFile.hdf5\n",
            "29/29 [==============================] - 0s 5ms/step - loss: 62781276.0000 - mae: 5325.8394 - val_loss: 67284592.0000 - val_mae: 5471.3818\n",
            "Epoch 190/350\n",
            "23/29 [======================>.......] - ETA: 0s - loss: 62540376.0000 - mae: 5287.7275"
          ]
        },
        {
          "output_type": "stream",
          "name": "stderr",
          "text": [
            "WARNING:tensorflow:Early stopping conditioned on metric `val_mse` which is not available. Available metrics are: loss,mae,val_loss,val_mae\n"
          ]
        },
        {
          "output_type": "stream",
          "name": "stdout",
          "text": [
            "\n",
            "Epoch 190: val_loss improved from 67284592.00000 to 65453540.00000, saving model to /content/checkFile.hdf5\n",
            "29/29 [==============================] - 0s 5ms/step - loss: 61417024.0000 - mae: 5272.1172 - val_loss: 65453540.0000 - val_mae: 5388.2227\n",
            "Epoch 191/350\n",
            "22/29 [=====================>........] - ETA: 0s - loss: 60738468.0000 - mae: 5244.4741"
          ]
        },
        {
          "output_type": "stream",
          "name": "stderr",
          "text": [
            "WARNING:tensorflow:Early stopping conditioned on metric `val_mse` which is not available. Available metrics are: loss,mae,val_loss,val_mae\n"
          ]
        },
        {
          "output_type": "stream",
          "name": "stdout",
          "text": [
            "\n",
            "Epoch 191: val_loss improved from 65453540.00000 to 64221136.00000, saving model to /content/checkFile.hdf5\n",
            "29/29 [==============================] - 0s 5ms/step - loss: 60172716.0000 - mae: 5214.6543 - val_loss: 64221136.0000 - val_mae: 5329.4180\n",
            "Epoch 192/350\n",
            "20/29 [===================>..........] - ETA: 0s - loss: 55527708.0000 - mae: 5034.4263"
          ]
        },
        {
          "output_type": "stream",
          "name": "stderr",
          "text": [
            "WARNING:tensorflow:Early stopping conditioned on metric `val_mse` which is not available. Available metrics are: loss,mae,val_loss,val_mae\n"
          ]
        },
        {
          "output_type": "stream",
          "name": "stdout",
          "text": [
            "\n",
            "Epoch 192: val_loss improved from 64221136.00000 to 63216448.00000, saving model to /content/checkFile.hdf5\n",
            "29/29 [==============================] - 0s 5ms/step - loss: 58788272.0000 - mae: 5150.7827 - val_loss: 63216448.0000 - val_mae: 5285.0410\n",
            "Epoch 193/350\n",
            "17/29 [================>.............] - ETA: 0s - loss: 58168232.0000 - mae: 5096.4868"
          ]
        },
        {
          "output_type": "stream",
          "name": "stderr",
          "text": [
            "WARNING:tensorflow:Early stopping conditioned on metric `val_mse` which is not available. Available metrics are: loss,mae,val_loss,val_mae\n"
          ]
        },
        {
          "output_type": "stream",
          "name": "stdout",
          "text": [
            "\n",
            "Epoch 193: val_loss improved from 63216448.00000 to 61639692.00000, saving model to /content/checkFile.hdf5\n",
            "29/29 [==============================] - 0s 5ms/step - loss: 57547496.0000 - mae: 5093.4844 - val_loss: 61639692.0000 - val_mae: 5211.8281\n",
            "Epoch 194/350\n",
            "21/29 [====================>.........] - ETA: 0s - loss: 56641356.0000 - mae: 5074.9185"
          ]
        },
        {
          "output_type": "stream",
          "name": "stderr",
          "text": [
            "WARNING:tensorflow:Early stopping conditioned on metric `val_mse` which is not available. Available metrics are: loss,mae,val_loss,val_mae\n"
          ]
        },
        {
          "output_type": "stream",
          "name": "stdout",
          "text": [
            "\n",
            "Epoch 194: val_loss improved from 61639692.00000 to 60373816.00000, saving model to /content/checkFile.hdf5\n",
            "29/29 [==============================] - 0s 4ms/step - loss: 56314224.0000 - mae: 5034.9814 - val_loss: 60373816.0000 - val_mae: 5153.0405\n",
            "Epoch 195/350\n",
            "22/29 [=====================>........] - ETA: 0s - loss: 52410132.0000 - mae: 4907.8633"
          ]
        },
        {
          "output_type": "stream",
          "name": "stderr",
          "text": [
            "WARNING:tensorflow:Early stopping conditioned on metric `val_mse` which is not available. Available metrics are: loss,mae,val_loss,val_mae\n"
          ]
        },
        {
          "output_type": "stream",
          "name": "stdout",
          "text": [
            "\n",
            "Epoch 195: val_loss improved from 60373816.00000 to 59736268.00000, saving model to /content/checkFile.hdf5\n",
            "29/29 [==============================] - 0s 4ms/step - loss: 55116800.0000 - mae: 4981.9395 - val_loss: 59736268.0000 - val_mae: 5132.9951\n",
            "Epoch 196/350\n",
            "20/29 [===================>..........] - ETA: 0s - loss: 53092768.0000 - mae: 4892.6929"
          ]
        },
        {
          "output_type": "stream",
          "name": "stderr",
          "text": [
            "WARNING:tensorflow:Early stopping conditioned on metric `val_mse` which is not available. Available metrics are: loss,mae,val_loss,val_mae\n"
          ]
        },
        {
          "output_type": "stream",
          "name": "stdout",
          "text": [
            "\n",
            "Epoch 196: val_loss improved from 59736268.00000 to 58332548.00000, saving model to /content/checkFile.hdf5\n",
            "29/29 [==============================] - 0s 5ms/step - loss: 53945428.0000 - mae: 4926.2051 - val_loss: 58332548.0000 - val_mae: 5064.4639\n",
            "Epoch 197/350\n",
            "23/29 [======================>.......] - ETA: 0s - loss: 52968276.0000 - mae: 4873.5522"
          ]
        },
        {
          "output_type": "stream",
          "name": "stderr",
          "text": [
            "WARNING:tensorflow:Early stopping conditioned on metric `val_mse` which is not available. Available metrics are: loss,mae,val_loss,val_mae\n"
          ]
        },
        {
          "output_type": "stream",
          "name": "stdout",
          "text": [
            "\n",
            "Epoch 197: val_loss improved from 58332548.00000 to 56731376.00000, saving model to /content/checkFile.hdf5\n",
            "29/29 [==============================] - 0s 5ms/step - loss: 52719336.0000 - mae: 4866.7832 - val_loss: 56731376.0000 - val_mae: 4983.8618\n",
            "Epoch 198/350\n",
            "22/29 [=====================>........] - ETA: 0s - loss: 52353920.0000 - mae: 4799.5986"
          ]
        },
        {
          "output_type": "stream",
          "name": "stderr",
          "text": [
            "WARNING:tensorflow:Early stopping conditioned on metric `val_mse` which is not available. Available metrics are: loss,mae,val_loss,val_mae\n"
          ]
        },
        {
          "output_type": "stream",
          "name": "stdout",
          "text": [
            "\n",
            "Epoch 198: val_loss improved from 56731376.00000 to 55407620.00000, saving model to /content/checkFile.hdf5\n",
            "29/29 [==============================] - 0s 5ms/step - loss: 51628096.0000 - mae: 4814.4927 - val_loss: 55407620.0000 - val_mae: 4921.5776\n",
            "Epoch 199/350\n",
            "19/29 [==================>...........] - ETA: 0s - loss: 49758356.0000 - mae: 4747.3936"
          ]
        },
        {
          "output_type": "stream",
          "name": "stderr",
          "text": [
            "WARNING:tensorflow:Early stopping conditioned on metric `val_mse` which is not available. Available metrics are: loss,mae,val_loss,val_mae\n"
          ]
        },
        {
          "output_type": "stream",
          "name": "stdout",
          "text": [
            "\n",
            "Epoch 199: val_loss improved from 55407620.00000 to 54280488.00000, saving model to /content/checkFile.hdf5\n",
            "29/29 [==============================] - 0s 5ms/step - loss: 50454072.0000 - mae: 4757.1694 - val_loss: 54280488.0000 - val_mae: 4864.4771\n",
            "Epoch 200/350\n",
            "21/29 [====================>.........] - ETA: 0s - loss: 49012496.0000 - mae: 4658.0527"
          ]
        },
        {
          "output_type": "stream",
          "name": "stderr",
          "text": [
            "WARNING:tensorflow:Early stopping conditioned on metric `val_mse` which is not available. Available metrics are: loss,mae,val_loss,val_mae\n"
          ]
        },
        {
          "output_type": "stream",
          "name": "stdout",
          "text": [
            "\n",
            "Epoch 200: val_loss improved from 54280488.00000 to 53435580.00000, saving model to /content/checkFile.hdf5\n",
            "29/29 [==============================] - 0s 5ms/step - loss: 49286512.0000 - mae: 4696.4873 - val_loss: 53435580.0000 - val_mae: 4829.4414\n",
            "Epoch 201/350\n",
            "24/29 [=======================>......] - ETA: 0s - loss: 47377536.0000 - mae: 4629.9717"
          ]
        },
        {
          "output_type": "stream",
          "name": "stderr",
          "text": [
            "WARNING:tensorflow:Early stopping conditioned on metric `val_mse` which is not available. Available metrics are: loss,mae,val_loss,val_mae\n"
          ]
        },
        {
          "output_type": "stream",
          "name": "stdout",
          "text": [
            "\n",
            "Epoch 201: val_loss improved from 53435580.00000 to 52229976.00000, saving model to /content/checkFile.hdf5\n",
            "29/29 [==============================] - 0s 5ms/step - loss: 48268656.0000 - mae: 4649.1831 - val_loss: 52229976.0000 - val_mae: 4769.6953\n",
            "Epoch 202/350\n",
            "21/29 [====================>.........] - ETA: 0s - loss: 47923060.0000 - mae: 4588.9233"
          ]
        },
        {
          "output_type": "stream",
          "name": "stderr",
          "text": [
            "WARNING:tensorflow:Early stopping conditioned on metric `val_mse` which is not available. Available metrics are: loss,mae,val_loss,val_mae\n"
          ]
        },
        {
          "output_type": "stream",
          "name": "stdout",
          "text": [
            "\n",
            "Epoch 202: val_loss improved from 52229976.00000 to 51091136.00000, saving model to /content/checkFile.hdf5\n",
            "29/29 [==============================] - 0s 5ms/step - loss: 47138820.0000 - mae: 4586.7695 - val_loss: 51091136.0000 - val_mae: 4713.1733\n",
            "Epoch 203/350\n",
            "22/29 [=====================>........] - ETA: 0s - loss: 45926156.0000 - mae: 4530.3931"
          ]
        },
        {
          "output_type": "stream",
          "name": "stderr",
          "text": [
            "WARNING:tensorflow:Early stopping conditioned on metric `val_mse` which is not available. Available metrics are: loss,mae,val_loss,val_mae\n"
          ]
        },
        {
          "output_type": "stream",
          "name": "stdout",
          "text": [
            "\n",
            "Epoch 203: val_loss improved from 51091136.00000 to 49923568.00000, saving model to /content/checkFile.hdf5\n",
            "29/29 [==============================] - 0s 5ms/step - loss: 46104752.0000 - mae: 4535.4766 - val_loss: 49923568.0000 - val_mae: 4652.0107\n",
            "Epoch 204/350\n",
            "23/29 [======================>.......] - ETA: 0s - loss: 45947508.0000 - mae: 4489.1895"
          ]
        },
        {
          "output_type": "stream",
          "name": "stderr",
          "text": [
            "WARNING:tensorflow:Early stopping conditioned on metric `val_mse` which is not available. Available metrics are: loss,mae,val_loss,val_mae\n"
          ]
        },
        {
          "output_type": "stream",
          "name": "stdout",
          "text": [
            "\n",
            "Epoch 204: val_loss improved from 49923568.00000 to 48966528.00000, saving model to /content/checkFile.hdf5\n",
            "29/29 [==============================] - 0s 5ms/step - loss: 45105340.0000 - mae: 4482.7451 - val_loss: 48966528.0000 - val_mae: 4606.0493\n",
            "Epoch 205/350\n",
            "19/29 [==================>...........] - ETA: 0s - loss: 44754548.0000 - mae: 4422.7002"
          ]
        },
        {
          "output_type": "stream",
          "name": "stderr",
          "text": [
            "WARNING:tensorflow:Early stopping conditioned on metric `val_mse` which is not available. Available metrics are: loss,mae,val_loss,val_mae\n"
          ]
        },
        {
          "output_type": "stream",
          "name": "stdout",
          "text": [
            "\n",
            "Epoch 205: val_loss improved from 48966528.00000 to 48048784.00000, saving model to /content/checkFile.hdf5\n",
            "29/29 [==============================] - 0s 5ms/step - loss: 44083640.0000 - mae: 4424.8916 - val_loss: 48048784.0000 - val_mae: 4564.6709\n",
            "Epoch 206/350\n",
            "20/29 [===================>..........] - ETA: 0s - loss: 43727964.0000 - mae: 4389.0308"
          ]
        },
        {
          "output_type": "stream",
          "name": "stderr",
          "text": [
            "WARNING:tensorflow:Early stopping conditioned on metric `val_mse` which is not available. Available metrics are: loss,mae,val_loss,val_mae\n"
          ]
        },
        {
          "output_type": "stream",
          "name": "stdout",
          "text": [
            "\n",
            "Epoch 206: val_loss improved from 48048784.00000 to 46930620.00000, saving model to /content/checkFile.hdf5\n",
            "29/29 [==============================] - 0s 5ms/step - loss: 43216320.0000 - mae: 4383.0757 - val_loss: 46930620.0000 - val_mae: 4505.2446\n",
            "Epoch 207/350\n",
            "22/29 [=====================>........] - ETA: 0s - loss: 42308592.0000 - mae: 4352.0493"
          ]
        },
        {
          "output_type": "stream",
          "name": "stderr",
          "text": [
            "WARNING:tensorflow:Early stopping conditioned on metric `val_mse` which is not available. Available metrics are: loss,mae,val_loss,val_mae\n"
          ]
        },
        {
          "output_type": "stream",
          "name": "stdout",
          "text": [
            "\n",
            "Epoch 207: val_loss improved from 46930620.00000 to 45864664.00000, saving model to /content/checkFile.hdf5\n",
            "29/29 [==============================] - 0s 5ms/step - loss: 42185204.0000 - mae: 4326.1338 - val_loss: 45864664.0000 - val_mae: 4446.7852\n",
            "Epoch 208/350\n",
            "20/29 [===================>..........] - ETA: 0s - loss: 41516888.0000 - mae: 4289.9351"
          ]
        },
        {
          "output_type": "stream",
          "name": "stderr",
          "text": [
            "WARNING:tensorflow:Early stopping conditioned on metric `val_mse` which is not available. Available metrics are: loss,mae,val_loss,val_mae\n"
          ]
        },
        {
          "output_type": "stream",
          "name": "stdout",
          "text": [
            "\n",
            "Epoch 208: val_loss improved from 45864664.00000 to 45076780.00000, saving model to /content/checkFile.hdf5\n",
            "29/29 [==============================] - 0s 5ms/step - loss: 41274168.0000 - mae: 4276.0845 - val_loss: 45076780.0000 - val_mae: 4413.0889\n",
            "Epoch 209/350\n",
            "20/29 [===================>..........] - ETA: 0s - loss: 41408844.0000 - mae: 4286.1655"
          ]
        },
        {
          "output_type": "stream",
          "name": "stderr",
          "text": [
            "WARNING:tensorflow:Early stopping conditioned on metric `val_mse` which is not available. Available metrics are: loss,mae,val_loss,val_mae\n"
          ]
        },
        {
          "output_type": "stream",
          "name": "stdout",
          "text": [
            "\n",
            "Epoch 209: val_loss improved from 45076780.00000 to 43918344.00000, saving model to /content/checkFile.hdf5\n",
            "29/29 [==============================] - 0s 5ms/step - loss: 40401424.0000 - mae: 4230.7266 - val_loss: 43918344.0000 - val_mae: 4348.3501\n",
            "Epoch 210/350\n",
            "24/29 [=======================>......] - ETA: 0s - loss: 40091092.0000 - mae: 4168.8755"
          ]
        },
        {
          "output_type": "stream",
          "name": "stderr",
          "text": [
            "WARNING:tensorflow:Early stopping conditioned on metric `val_mse` which is not available. Available metrics are: loss,mae,val_loss,val_mae\n"
          ]
        },
        {
          "output_type": "stream",
          "name": "stdout",
          "text": [
            "\n",
            "Epoch 210: val_loss improved from 43918344.00000 to 43023568.00000, saving model to /content/checkFile.hdf5\n",
            "29/29 [==============================] - 0s 4ms/step - loss: 39474584.0000 - mae: 4176.2983 - val_loss: 43023568.0000 - val_mae: 4301.7666\n",
            "Epoch 211/350\n",
            "21/29 [====================>.........] - ETA: 0s - loss: 39917888.0000 - mae: 4169.1270"
          ]
        },
        {
          "output_type": "stream",
          "name": "stderr",
          "text": [
            "WARNING:tensorflow:Early stopping conditioned on metric `val_mse` which is not available. Available metrics are: loss,mae,val_loss,val_mae\n"
          ]
        },
        {
          "output_type": "stream",
          "name": "stdout",
          "text": [
            "\n",
            "Epoch 211: val_loss improved from 43023568.00000 to 42135708.00000, saving model to /content/checkFile.hdf5\n",
            "29/29 [==============================] - 0s 5ms/step - loss: 38620252.0000 - mae: 4131.5000 - val_loss: 42135708.0000 - val_mae: 4254.5078\n",
            "Epoch 212/350\n",
            "22/29 [=====================>........] - ETA: 0s - loss: 38577708.0000 - mae: 4089.5022"
          ]
        },
        {
          "output_type": "stream",
          "name": "stderr",
          "text": [
            "WARNING:tensorflow:Early stopping conditioned on metric `val_mse` which is not available. Available metrics are: loss,mae,val_loss,val_mae\n"
          ]
        },
        {
          "output_type": "stream",
          "name": "stdout",
          "text": [
            "\n",
            "Epoch 212: val_loss improved from 42135708.00000 to 41291012.00000, saving model to /content/checkFile.hdf5\n",
            "29/29 [==============================] - 0s 5ms/step - loss: 37801572.0000 - mae: 4083.6802 - val_loss: 41291012.0000 - val_mae: 4211.3794\n",
            "Epoch 213/350\n",
            "21/29 [====================>.........] - ETA: 0s - loss: 37179592.0000 - mae: 4048.5972"
          ]
        },
        {
          "output_type": "stream",
          "name": "stderr",
          "text": [
            "WARNING:tensorflow:Early stopping conditioned on metric `val_mse` which is not available. Available metrics are: loss,mae,val_loss,val_mae\n"
          ]
        },
        {
          "output_type": "stream",
          "name": "stdout",
          "text": [
            "\n",
            "Epoch 213: val_loss improved from 41291012.00000 to 40378020.00000, saving model to /content/checkFile.hdf5\n",
            "29/29 [==============================] - 0s 5ms/step - loss: 37001320.0000 - mae: 4041.2805 - val_loss: 40378020.0000 - val_mae: 4161.0605\n",
            "Epoch 214/350\n",
            "20/29 [===================>..........] - ETA: 0s - loss: 33896160.0000 - mae: 3943.6609"
          ]
        },
        {
          "output_type": "stream",
          "name": "stderr",
          "text": [
            "WARNING:tensorflow:Early stopping conditioned on metric `val_mse` which is not available. Available metrics are: loss,mae,val_loss,val_mae\n"
          ]
        },
        {
          "output_type": "stream",
          "name": "stdout",
          "text": [
            "\n",
            "Epoch 214: val_loss improved from 40378020.00000 to 39681860.00000, saving model to /content/checkFile.hdf5\n",
            "29/29 [==============================] - 0s 5ms/step - loss: 36203828.0000 - mae: 3995.1841 - val_loss: 39681860.0000 - val_mae: 4126.3633\n",
            "Epoch 215/350\n",
            "21/29 [====================>.........] - ETA: 0s - loss: 34757164.0000 - mae: 3927.3220"
          ]
        },
        {
          "output_type": "stream",
          "name": "stderr",
          "text": [
            "WARNING:tensorflow:Early stopping conditioned on metric `val_mse` which is not available. Available metrics are: loss,mae,val_loss,val_mae\n"
          ]
        },
        {
          "output_type": "stream",
          "name": "stdout",
          "text": [
            "\n",
            "Epoch 215: val_loss improved from 39681860.00000 to 38864676.00000, saving model to /content/checkFile.hdf5\n",
            "29/29 [==============================] - 0s 4ms/step - loss: 35449804.0000 - mae: 3950.5901 - val_loss: 38864676.0000 - val_mae: 4083.5073\n",
            "Epoch 216/350\n",
            "23/29 [======================>.......] - ETA: 0s - loss: 34730992.0000 - mae: 3920.7766"
          ]
        },
        {
          "output_type": "stream",
          "name": "stderr",
          "text": [
            "WARNING:tensorflow:Early stopping conditioned on metric `val_mse` which is not available. Available metrics are: loss,mae,val_loss,val_mae\n"
          ]
        },
        {
          "output_type": "stream",
          "name": "stdout",
          "text": [
            "\n",
            "Epoch 216: val_loss improved from 38864676.00000 to 38099872.00000, saving model to /content/checkFile.hdf5\n",
            "29/29 [==============================] - 0s 5ms/step - loss: 34690852.0000 - mae: 3909.6445 - val_loss: 38099872.0000 - val_mae: 4043.9661\n",
            "Epoch 217/350\n",
            "23/29 [======================>.......] - ETA: 0s - loss: 33794536.0000 - mae: 3855.7441"
          ]
        },
        {
          "output_type": "stream",
          "name": "stderr",
          "text": [
            "WARNING:tensorflow:Early stopping conditioned on metric `val_mse` which is not available. Available metrics are: loss,mae,val_loss,val_mae\n"
          ]
        },
        {
          "output_type": "stream",
          "name": "stdout",
          "text": [
            "\n",
            "Epoch 217: val_loss improved from 38099872.00000 to 37210352.00000, saving model to /content/checkFile.hdf5\n",
            "29/29 [==============================] - 0s 5ms/step - loss: 33999200.0000 - mae: 3868.6167 - val_loss: 37210352.0000 - val_mae: 3990.0940\n",
            "Epoch 218/350\n",
            "24/29 [=======================>......] - ETA: 0s - loss: 33380710.0000 - mae: 3844.0500"
          ]
        },
        {
          "output_type": "stream",
          "name": "stderr",
          "text": [
            "WARNING:tensorflow:Early stopping conditioned on metric `val_mse` which is not available. Available metrics are: loss,mae,val_loss,val_mae\n"
          ]
        },
        {
          "output_type": "stream",
          "name": "stdout",
          "text": [
            "\n",
            "Epoch 218: val_loss improved from 37210352.00000 to 36436392.00000, saving model to /content/checkFile.hdf5\n",
            "29/29 [==============================] - 0s 5ms/step - loss: 33265190.0000 - mae: 3825.7000 - val_loss: 36436392.0000 - val_mae: 3947.7126\n",
            "Epoch 219/350\n",
            "22/29 [=====================>........] - ETA: 0s - loss: 31768552.0000 - mae: 3771.8840"
          ]
        },
        {
          "output_type": "stream",
          "name": "stderr",
          "text": [
            "WARNING:tensorflow:Early stopping conditioned on metric `val_mse` which is not available. Available metrics are: loss,mae,val_loss,val_mae\n"
          ]
        },
        {
          "output_type": "stream",
          "name": "stdout",
          "text": [
            "\n",
            "Epoch 219: val_loss improved from 36436392.00000 to 35666888.00000, saving model to /content/checkFile.hdf5\n",
            "29/29 [==============================] - 0s 5ms/step - loss: 32545570.0000 - mae: 3780.7346 - val_loss: 35666888.0000 - val_mae: 3903.8591\n",
            "Epoch 220/350\n",
            "22/29 [=====================>........] - ETA: 0s - loss: 31735180.0000 - mae: 3733.5605"
          ]
        },
        {
          "output_type": "stream",
          "name": "stderr",
          "text": [
            "WARNING:tensorflow:Early stopping conditioned on metric `val_mse` which is not available. Available metrics are: loss,mae,val_loss,val_mae\n"
          ]
        },
        {
          "output_type": "stream",
          "name": "stdout",
          "text": [
            "\n",
            "Epoch 220: val_loss improved from 35666888.00000 to 35089800.00000, saving model to /content/checkFile.hdf5\n",
            "29/29 [==============================] - 0s 4ms/step - loss: 31892922.0000 - mae: 3742.2625 - val_loss: 35089800.0000 - val_mae: 3880.6021\n",
            "Epoch 221/350\n",
            "21/29 [====================>.........] - ETA: 0s - loss: 31999180.0000 - mae: 3731.4785"
          ]
        },
        {
          "output_type": "stream",
          "name": "stderr",
          "text": [
            "WARNING:tensorflow:Early stopping conditioned on metric `val_mse` which is not available. Available metrics are: loss,mae,val_loss,val_mae\n"
          ]
        },
        {
          "output_type": "stream",
          "name": "stdout",
          "text": [
            "\n",
            "Epoch 221: val_loss improved from 35089800.00000 to 34144380.00000, saving model to /content/checkFile.hdf5\n",
            "29/29 [==============================] - 0s 5ms/step - loss: 31263322.0000 - mae: 3703.1003 - val_loss: 34144380.0000 - val_mae: 3814.1445\n",
            "Epoch 222/350\n",
            "22/29 [=====================>........] - ETA: 0s - loss: 32291432.0000 - mae: 3723.4226"
          ]
        },
        {
          "output_type": "stream",
          "name": "stderr",
          "text": [
            "WARNING:tensorflow:Early stopping conditioned on metric `val_mse` which is not available. Available metrics are: loss,mae,val_loss,val_mae\n"
          ]
        },
        {
          "output_type": "stream",
          "name": "stdout",
          "text": [
            "\n",
            "Epoch 222: val_loss improved from 34144380.00000 to 33342416.00000, saving model to /content/checkFile.hdf5\n",
            "29/29 [==============================] - 0s 5ms/step - loss: 30635182.0000 - mae: 3667.3433 - val_loss: 33342416.0000 - val_mae: 3764.1738\n",
            "Epoch 223/350\n",
            "22/29 [=====================>........] - ETA: 0s - loss: 30420868.0000 - mae: 3665.9321"
          ]
        },
        {
          "output_type": "stream",
          "name": "stderr",
          "text": [
            "WARNING:tensorflow:Early stopping conditioned on metric `val_mse` which is not available. Available metrics are: loss,mae,val_loss,val_mae\n"
          ]
        },
        {
          "output_type": "stream",
          "name": "stdout",
          "text": [
            "\n",
            "Epoch 223: val_loss improved from 33342416.00000 to 32751704.00000, saving model to /content/checkFile.hdf5\n",
            "29/29 [==============================] - 0s 5ms/step - loss: 29991134.0000 - mae: 3622.5723 - val_loss: 32751704.0000 - val_mae: 3731.6992\n",
            "Epoch 224/350\n",
            "23/29 [======================>.......] - ETA: 0s - loss: 28784164.0000 - mae: 3575.8435"
          ]
        },
        {
          "output_type": "stream",
          "name": "stderr",
          "text": [
            "WARNING:tensorflow:Early stopping conditioned on metric `val_mse` which is not available. Available metrics are: loss,mae,val_loss,val_mae\n"
          ]
        },
        {
          "output_type": "stream",
          "name": "stdout",
          "text": [
            "\n",
            "Epoch 224: val_loss improved from 32751704.00000 to 32091010.00000, saving model to /content/checkFile.hdf5\n",
            "29/29 [==============================] - 0s 5ms/step - loss: 29370402.0000 - mae: 3585.8657 - val_loss: 32091010.0000 - val_mae: 3693.9458\n",
            "Epoch 225/350\n",
            "22/29 [=====================>........] - ETA: 0s - loss: 30053992.0000 - mae: 3589.2102"
          ]
        },
        {
          "output_type": "stream",
          "name": "stderr",
          "text": [
            "WARNING:tensorflow:Early stopping conditioned on metric `val_mse` which is not available. Available metrics are: loss,mae,val_loss,val_mae\n"
          ]
        },
        {
          "output_type": "stream",
          "name": "stdout",
          "text": [
            "\n",
            "Epoch 225: val_loss improved from 32091010.00000 to 31423966.00000, saving model to /content/checkFile.hdf5\n",
            "29/29 [==============================] - 0s 5ms/step - loss: 28788324.0000 - mae: 3548.3020 - val_loss: 31423966.0000 - val_mae: 3653.9167\n",
            "Epoch 226/350\n",
            "19/29 [==================>...........] - ETA: 0s - loss: 28732178.0000 - mae: 3504.7173"
          ]
        },
        {
          "output_type": "stream",
          "name": "stderr",
          "text": [
            "WARNING:tensorflow:Early stopping conditioned on metric `val_mse` which is not available. Available metrics are: loss,mae,val_loss,val_mae\n"
          ]
        },
        {
          "output_type": "stream",
          "name": "stdout",
          "text": [
            "\n",
            "Epoch 226: val_loss improved from 31423966.00000 to 30751436.00000, saving model to /content/checkFile.hdf5\n",
            "29/29 [==============================] - 0s 5ms/step - loss: 28204718.0000 - mae: 3510.1870 - val_loss: 30751436.0000 - val_mae: 3610.0291\n",
            "Epoch 227/350\n",
            "21/29 [====================>.........] - ETA: 0s - loss: 27806608.0000 - mae: 3476.1772"
          ]
        },
        {
          "output_type": "stream",
          "name": "stderr",
          "text": [
            "WARNING:tensorflow:Early stopping conditioned on metric `val_mse` which is not available. Available metrics are: loss,mae,val_loss,val_mae\n"
          ]
        },
        {
          "output_type": "stream",
          "name": "stdout",
          "text": [
            "\n",
            "Epoch 227: val_loss improved from 30751436.00000 to 30154710.00000, saving model to /content/checkFile.hdf5\n",
            "29/29 [==============================] - 0s 5ms/step - loss: 27639362.0000 - mae: 3476.3657 - val_loss: 30154710.0000 - val_mae: 3572.9607\n",
            "Epoch 228/350\n",
            "20/29 [===================>..........] - ETA: 0s - loss: 26315290.0000 - mae: 3427.2991"
          ]
        },
        {
          "output_type": "stream",
          "name": "stderr",
          "text": [
            "WARNING:tensorflow:Early stopping conditioned on metric `val_mse` which is not available. Available metrics are: loss,mae,val_loss,val_mae\n"
          ]
        },
        {
          "output_type": "stream",
          "name": "stdout",
          "text": [
            "\n",
            "Epoch 228: val_loss improved from 30154710.00000 to 29566628.00000, saving model to /content/checkFile.hdf5\n",
            "29/29 [==============================] - 0s 5ms/step - loss: 27132162.0000 - mae: 3439.0391 - val_loss: 29566628.0000 - val_mae: 3536.7766\n",
            "Epoch 229/350\n",
            "20/29 [===================>..........] - ETA: 0s - loss: 26427422.0000 - mae: 3383.0381"
          ]
        },
        {
          "output_type": "stream",
          "name": "stderr",
          "text": [
            "WARNING:tensorflow:Early stopping conditioned on metric `val_mse` which is not available. Available metrics are: loss,mae,val_loss,val_mae\n"
          ]
        },
        {
          "output_type": "stream",
          "name": "stdout",
          "text": [
            "\n",
            "Epoch 229: val_loss improved from 29566628.00000 to 29011796.00000, saving model to /content/checkFile.hdf5\n",
            "29/29 [==============================] - 0s 5ms/step - loss: 26581274.0000 - mae: 3403.1423 - val_loss: 29011796.0000 - val_mae: 3503.8054\n",
            "Epoch 230/350\n",
            "23/29 [======================>.......] - ETA: 0s - loss: 26075654.0000 - mae: 3350.6235"
          ]
        },
        {
          "output_type": "stream",
          "name": "stderr",
          "text": [
            "WARNING:tensorflow:Early stopping conditioned on metric `val_mse` which is not available. Available metrics are: loss,mae,val_loss,val_mae\n"
          ]
        },
        {
          "output_type": "stream",
          "name": "stdout",
          "text": [
            "\n",
            "Epoch 230: val_loss improved from 29011796.00000 to 28508306.00000, saving model to /content/checkFile.hdf5\n",
            "29/29 [==============================] - 0s 5ms/step - loss: 26047470.0000 - mae: 3367.9634 - val_loss: 28508306.0000 - val_mae: 3477.8938\n",
            "Epoch 231/350\n",
            "21/29 [====================>.........] - ETA: 0s - loss: 25769686.0000 - mae: 3367.6335"
          ]
        },
        {
          "output_type": "stream",
          "name": "stderr",
          "text": [
            "WARNING:tensorflow:Early stopping conditioned on metric `val_mse` which is not available. Available metrics are: loss,mae,val_loss,val_mae\n"
          ]
        },
        {
          "output_type": "stream",
          "name": "stdout",
          "text": [
            "\n",
            "Epoch 231: val_loss improved from 28508306.00000 to 27851502.00000, saving model to /content/checkFile.hdf5\n",
            "29/29 [==============================] - 0s 5ms/step - loss: 25562592.0000 - mae: 3335.9692 - val_loss: 27851502.0000 - val_mae: 3430.2095\n",
            "Epoch 232/350\n",
            "21/29 [====================>.........] - ETA: 0s - loss: 25255156.0000 - mae: 3337.2170"
          ]
        },
        {
          "output_type": "stream",
          "name": "stderr",
          "text": [
            "WARNING:tensorflow:Early stopping conditioned on metric `val_mse` which is not available. Available metrics are: loss,mae,val_loss,val_mae\n"
          ]
        },
        {
          "output_type": "stream",
          "name": "stdout",
          "text": [
            "\n",
            "Epoch 232: val_loss improved from 27851502.00000 to 27321200.00000, saving model to /content/checkFile.hdf5\n",
            "29/29 [==============================] - 0s 5ms/step - loss: 25108366.0000 - mae: 3302.7827 - val_loss: 27321200.0000 - val_mae: 3397.6672\n",
            "Epoch 233/350\n",
            "21/29 [====================>.........] - ETA: 0s - loss: 24322790.0000 - mae: 3264.9790"
          ]
        },
        {
          "output_type": "stream",
          "name": "stderr",
          "text": [
            "WARNING:tensorflow:Early stopping conditioned on metric `val_mse` which is not available. Available metrics are: loss,mae,val_loss,val_mae\n"
          ]
        },
        {
          "output_type": "stream",
          "name": "stdout",
          "text": [
            "\n",
            "Epoch 233: val_loss improved from 27321200.00000 to 26806506.00000, saving model to /content/checkFile.hdf5\n",
            "29/29 [==============================] - 0s 5ms/step - loss: 24594260.0000 - mae: 3270.7261 - val_loss: 26806506.0000 - val_mae: 3362.1157\n",
            "Epoch 234/350\n",
            "21/29 [====================>.........] - ETA: 0s - loss: 24658056.0000 - mae: 3254.0171"
          ]
        },
        {
          "output_type": "stream",
          "name": "stderr",
          "text": [
            "WARNING:tensorflow:Early stopping conditioned on metric `val_mse` which is not available. Available metrics are: loss,mae,val_loss,val_mae\n"
          ]
        },
        {
          "output_type": "stream",
          "name": "stdout",
          "text": [
            "\n",
            "Epoch 234: val_loss improved from 26806506.00000 to 26284088.00000, saving model to /content/checkFile.hdf5\n",
            "29/29 [==============================] - 0s 5ms/step - loss: 24137482.0000 - mae: 3235.4949 - val_loss: 26284088.0000 - val_mae: 3324.2039\n",
            "Epoch 235/350\n",
            "22/29 [=====================>........] - ETA: 0s - loss: 24378174.0000 - mae: 3217.0632"
          ]
        },
        {
          "output_type": "stream",
          "name": "stderr",
          "text": [
            "WARNING:tensorflow:Early stopping conditioned on metric `val_mse` which is not available. Available metrics are: loss,mae,val_loss,val_mae\n"
          ]
        },
        {
          "output_type": "stream",
          "name": "stdout",
          "text": [
            "\n",
            "Epoch 235: val_loss improved from 26284088.00000 to 25891446.00000, saving model to /content/checkFile.hdf5\n",
            "29/29 [==============================] - 0s 5ms/step - loss: 23684308.0000 - mae: 3203.7227 - val_loss: 25891446.0000 - val_mae: 3315.0056\n",
            "Epoch 236/350\n",
            "18/29 [=================>............] - ETA: 0s - loss: 24587556.0000 - mae: 3178.2600"
          ]
        },
        {
          "output_type": "stream",
          "name": "stderr",
          "text": [
            "WARNING:tensorflow:Early stopping conditioned on metric `val_mse` which is not available. Available metrics are: loss,mae,val_loss,val_mae\n"
          ]
        },
        {
          "output_type": "stream",
          "name": "stdout",
          "text": [
            "\n",
            "Epoch 236: val_loss improved from 25891446.00000 to 25318366.00000, saving model to /content/checkFile.hdf5\n",
            "29/29 [==============================] - 0s 5ms/step - loss: 23257470.0000 - mae: 3174.0076 - val_loss: 25318366.0000 - val_mae: 3267.4392\n",
            "Epoch 237/350\n",
            "16/29 [===============>..............] - ETA: 0s - loss: 23202890.0000 - mae: 3171.9102"
          ]
        },
        {
          "output_type": "stream",
          "name": "stderr",
          "text": [
            "WARNING:tensorflow:Early stopping conditioned on metric `val_mse` which is not available. Available metrics are: loss,mae,val_loss,val_mae\n"
          ]
        },
        {
          "output_type": "stream",
          "name": "stdout",
          "text": [
            "\n",
            "Epoch 237: val_loss improved from 25318366.00000 to 24805698.00000, saving model to /content/checkFile.hdf5\n",
            "29/29 [==============================] - 0s 5ms/step - loss: 22838482.0000 - mae: 3143.7947 - val_loss: 24805698.0000 - val_mae: 3231.6331\n",
            "Epoch 238/350\n",
            "21/29 [====================>.........] - ETA: 0s - loss: 21770280.0000 - mae: 3073.1396"
          ]
        },
        {
          "output_type": "stream",
          "name": "stderr",
          "text": [
            "WARNING:tensorflow:Early stopping conditioned on metric `val_mse` which is not available. Available metrics are: loss,mae,val_loss,val_mae\n"
          ]
        },
        {
          "output_type": "stream",
          "name": "stdout",
          "text": [
            "\n",
            "Epoch 238: val_loss improved from 24805698.00000 to 24464470.00000, saving model to /content/checkFile.hdf5\n",
            "29/29 [==============================] - 0s 5ms/step - loss: 22409764.0000 - mae: 3112.5476 - val_loss: 24464470.0000 - val_mae: 3217.3313\n",
            "Epoch 239/350\n",
            "21/29 [====================>.........] - ETA: 0s - loss: 21745536.0000 - mae: 3091.6392"
          ]
        },
        {
          "output_type": "stream",
          "name": "stderr",
          "text": [
            "WARNING:tensorflow:Early stopping conditioned on metric `val_mse` which is not available. Available metrics are: loss,mae,val_loss,val_mae\n"
          ]
        },
        {
          "output_type": "stream",
          "name": "stdout",
          "text": [
            "\n",
            "Epoch 239: val_loss improved from 24464470.00000 to 23965794.00000, saving model to /content/checkFile.hdf5\n",
            "29/29 [==============================] - 0s 5ms/step - loss: 22047806.0000 - mae: 3089.2783 - val_loss: 23965794.0000 - val_mae: 3183.2534\n",
            "Epoch 240/350\n",
            "17/29 [================>.............] - ETA: 0s - loss: 21860148.0000 - mae: 3095.3088"
          ]
        },
        {
          "output_type": "stream",
          "name": "stderr",
          "text": [
            "WARNING:tensorflow:Early stopping conditioned on metric `val_mse` which is not available. Available metrics are: loss,mae,val_loss,val_mae\n"
          ]
        },
        {
          "output_type": "stream",
          "name": "stdout",
          "text": [
            "\n",
            "Epoch 240: val_loss improved from 23965794.00000 to 23523164.00000, saving model to /content/checkFile.hdf5\n",
            "29/29 [==============================] - 0s 6ms/step - loss: 21627078.0000 - mae: 3054.2305 - val_loss: 23523164.0000 - val_mae: 3150.8828\n",
            "Epoch 241/350\n",
            "16/29 [===============>..............] - ETA: 0s - loss: 20539932.0000 - mae: 2990.9807"
          ]
        },
        {
          "output_type": "stream",
          "name": "stderr",
          "text": [
            "WARNING:tensorflow:Early stopping conditioned on metric `val_mse` which is not available. Available metrics are: loss,mae,val_loss,val_mae\n"
          ]
        },
        {
          "output_type": "stream",
          "name": "stdout",
          "text": [
            "\n",
            "Epoch 241: val_loss improved from 23523164.00000 to 23180382.00000, saving model to /content/checkFile.hdf5\n",
            "29/29 [==============================] - 0s 6ms/step - loss: 21251608.0000 - mae: 3026.8230 - val_loss: 23180382.0000 - val_mae: 3133.9668\n",
            "Epoch 242/350\n",
            "17/29 [================>.............] - ETA: 0s - loss: 21847650.0000 - mae: 3030.9304"
          ]
        },
        {
          "output_type": "stream",
          "name": "stderr",
          "text": [
            "WARNING:tensorflow:Early stopping conditioned on metric `val_mse` which is not available. Available metrics are: loss,mae,val_loss,val_mae\n"
          ]
        },
        {
          "output_type": "stream",
          "name": "stdout",
          "text": [
            "\n",
            "Epoch 242: val_loss improved from 23180382.00000 to 22780584.00000, saving model to /content/checkFile.hdf5\n",
            "29/29 [==============================] - 0s 6ms/step - loss: 20899412.0000 - mae: 3002.9438 - val_loss: 22780584.0000 - val_mae: 3109.3638\n",
            "Epoch 243/350\n",
            "15/29 [==============>...............] - ETA: 0s - loss: 22503392.0000 - mae: 3045.3777"
          ]
        },
        {
          "output_type": "stream",
          "name": "stderr",
          "text": [
            "WARNING:tensorflow:Early stopping conditioned on metric `val_mse` which is not available. Available metrics are: loss,mae,val_loss,val_mae\n"
          ]
        },
        {
          "output_type": "stream",
          "name": "stdout",
          "text": [
            "\n",
            "Epoch 243: val_loss improved from 22780584.00000 to 22264328.00000, saving model to /content/checkFile.hdf5\n",
            "29/29 [==============================] - 0s 6ms/step - loss: 20545564.0000 - mae: 2973.8921 - val_loss: 22264328.0000 - val_mae: 3063.9226\n",
            "Epoch 244/350\n",
            "16/29 [===============>..............] - ETA: 0s - loss: 19612682.0000 - mae: 2927.1533"
          ]
        },
        {
          "output_type": "stream",
          "name": "stderr",
          "text": [
            "WARNING:tensorflow:Early stopping conditioned on metric `val_mse` which is not available. Available metrics are: loss,mae,val_loss,val_mae\n"
          ]
        },
        {
          "output_type": "stream",
          "name": "stdout",
          "text": [
            "\n",
            "Epoch 244: val_loss improved from 22264328.00000 to 21844342.00000, saving model to /content/checkFile.hdf5\n",
            "29/29 [==============================] - 0s 7ms/step - loss: 20181526.0000 - mae: 2945.0964 - val_loss: 21844342.0000 - val_mae: 3027.8430\n",
            "Epoch 245/350\n",
            "15/29 [==============>...............] - ETA: 0s - loss: 20126490.0000 - mae: 2941.1267"
          ]
        },
        {
          "output_type": "stream",
          "name": "stderr",
          "text": [
            "WARNING:tensorflow:Early stopping conditioned on metric `val_mse` which is not available. Available metrics are: loss,mae,val_loss,val_mae\n"
          ]
        },
        {
          "output_type": "stream",
          "name": "stdout",
          "text": [
            "\n",
            "Epoch 245: val_loss improved from 21844342.00000 to 21451664.00000, saving model to /content/checkFile.hdf5\n",
            "29/29 [==============================] - 0s 6ms/step - loss: 19832608.0000 - mae: 2919.2808 - val_loss: 21451664.0000 - val_mae: 2998.2341\n",
            "Epoch 246/350\n",
            "27/29 [==========================>...] - ETA: 0s - loss: 19507080.0000 - mae: 2901.2344"
          ]
        },
        {
          "output_type": "stream",
          "name": "stderr",
          "text": [
            "WARNING:tensorflow:Early stopping conditioned on metric `val_mse` which is not available. Available metrics are: loss,mae,val_loss,val_mae\n"
          ]
        },
        {
          "output_type": "stream",
          "name": "stdout",
          "text": [
            "\n",
            "Epoch 246: val_loss improved from 21451664.00000 to 21065628.00000, saving model to /content/checkFile.hdf5\n",
            "29/29 [==============================] - 0s 6ms/step - loss: 19522996.0000 - mae: 2896.4739 - val_loss: 21065628.0000 - val_mae: 2973.9451\n",
            "Epoch 247/350\n",
            "15/29 [==============>...............] - ETA: 0s - loss: 19723642.0000 - mae: 2847.8728"
          ]
        },
        {
          "output_type": "stream",
          "name": "stderr",
          "text": [
            "WARNING:tensorflow:Early stopping conditioned on metric `val_mse` which is not available. Available metrics are: loss,mae,val_loss,val_mae\n"
          ]
        },
        {
          "output_type": "stream",
          "name": "stdout",
          "text": [
            "\n",
            "Epoch 247: val_loss improved from 21065628.00000 to 20705072.00000, saving model to /content/checkFile.hdf5\n",
            "29/29 [==============================] - 0s 6ms/step - loss: 19248392.0000 - mae: 2877.4614 - val_loss: 20705072.0000 - val_mae: 2945.0908\n",
            "Epoch 248/350\n",
            "14/29 [=============>................] - ETA: 0s - loss: 19187956.0000 - mae: 2879.5447"
          ]
        },
        {
          "output_type": "stream",
          "name": "stderr",
          "text": [
            "WARNING:tensorflow:Early stopping conditioned on metric `val_mse` which is not available. Available metrics are: loss,mae,val_loss,val_mae\n"
          ]
        },
        {
          "output_type": "stream",
          "name": "stdout",
          "text": [
            "\n",
            "Epoch 248: val_loss improved from 20705072.00000 to 20387478.00000, saving model to /content/checkFile.hdf5\n",
            "29/29 [==============================] - 0s 6ms/step - loss: 18915296.0000 - mae: 2849.5776 - val_loss: 20387478.0000 - val_mae: 2914.8416\n",
            "Epoch 249/350\n",
            "15/29 [==============>...............] - ETA: 0s - loss: 19209968.0000 - mae: 2841.1616"
          ]
        },
        {
          "output_type": "stream",
          "name": "stderr",
          "text": [
            "WARNING:tensorflow:Early stopping conditioned on metric `val_mse` which is not available. Available metrics are: loss,mae,val_loss,val_mae\n"
          ]
        },
        {
          "output_type": "stream",
          "name": "stdout",
          "text": [
            "\n",
            "Epoch 249: val_loss improved from 20387478.00000 to 19988768.00000, saving model to /content/checkFile.hdf5\n",
            "29/29 [==============================] - 0s 6ms/step - loss: 18585120.0000 - mae: 2824.0076 - val_loss: 19988768.0000 - val_mae: 2891.1956\n",
            "Epoch 250/350\n",
            "17/29 [================>.............] - ETA: 0s - loss: 19467002.0000 - mae: 2837.1790"
          ]
        },
        {
          "output_type": "stream",
          "name": "stderr",
          "text": [
            "WARNING:tensorflow:Early stopping conditioned on metric `val_mse` which is not available. Available metrics are: loss,mae,val_loss,val_mae\n"
          ]
        },
        {
          "output_type": "stream",
          "name": "stdout",
          "text": [
            "\n",
            "Epoch 250: val_loss improved from 19988768.00000 to 19654776.00000, saving model to /content/checkFile.hdf5\n",
            "29/29 [==============================] - 0s 5ms/step - loss: 18305824.0000 - mae: 2798.3279 - val_loss: 19654776.0000 - val_mae: 2866.3599\n",
            "Epoch 251/350\n",
            "18/29 [=================>............] - ETA: 0s - loss: 17086008.0000 - mae: 2743.0234"
          ]
        },
        {
          "output_type": "stream",
          "name": "stderr",
          "text": [
            "WARNING:tensorflow:Early stopping conditioned on metric `val_mse` which is not available. Available metrics are: loss,mae,val_loss,val_mae\n"
          ]
        },
        {
          "output_type": "stream",
          "name": "stdout",
          "text": [
            "\n",
            "Epoch 251: val_loss improved from 19654776.00000 to 19376518.00000, saving model to /content/checkFile.hdf5\n",
            "29/29 [==============================] - 0s 6ms/step - loss: 17971020.0000 - mae: 2774.6694 - val_loss: 19376518.0000 - val_mae: 2837.3125\n",
            "Epoch 252/350\n",
            "15/29 [==============>...............] - ETA: 0s - loss: 18260422.0000 - mae: 2789.3254"
          ]
        },
        {
          "output_type": "stream",
          "name": "stderr",
          "text": [
            "WARNING:tensorflow:Early stopping conditioned on metric `val_mse` which is not available. Available metrics are: loss,mae,val_loss,val_mae\n"
          ]
        },
        {
          "output_type": "stream",
          "name": "stdout",
          "text": [
            "\n",
            "Epoch 252: val_loss improved from 19376518.00000 to 19029588.00000, saving model to /content/checkFile.hdf5\n",
            "29/29 [==============================] - 0s 6ms/step - loss: 17747962.0000 - mae: 2755.0652 - val_loss: 19029588.0000 - val_mae: 2819.1353\n",
            "Epoch 253/350\n",
            "16/29 [===============>..............] - ETA: 0s - loss: 16638734.0000 - mae: 2722.1370"
          ]
        },
        {
          "output_type": "stream",
          "name": "stderr",
          "text": [
            "WARNING:tensorflow:Early stopping conditioned on metric `val_mse` which is not available. Available metrics are: loss,mae,val_loss,val_mae\n"
          ]
        },
        {
          "output_type": "stream",
          "name": "stdout",
          "text": [
            "\n",
            "Epoch 253: val_loss improved from 19029588.00000 to 18729276.00000, saving model to /content/checkFile.hdf5\n",
            "29/29 [==============================] - 0s 6ms/step - loss: 17450036.0000 - mae: 2729.1113 - val_loss: 18729276.0000 - val_mae: 2795.0684\n",
            "Epoch 254/350\n",
            "28/29 [===========================>..] - ETA: 0s - loss: 16992006.0000 - mae: 2701.7458"
          ]
        },
        {
          "output_type": "stream",
          "name": "stderr",
          "text": [
            "WARNING:tensorflow:Early stopping conditioned on metric `val_mse` which is not available. Available metrics are: loss,mae,val_loss,val_mae\n"
          ]
        },
        {
          "output_type": "stream",
          "name": "stdout",
          "text": [
            "\n",
            "Epoch 254: val_loss improved from 18729276.00000 to 18511684.00000, saving model to /content/checkFile.hdf5\n",
            "29/29 [==============================] - 0s 6ms/step - loss: 17177222.0000 - mae: 2705.3494 - val_loss: 18511684.0000 - val_mae: 2786.0066\n",
            "Epoch 255/350\n",
            "16/29 [===============>..............] - ETA: 0s - loss: 17094830.0000 - mae: 2684.8875"
          ]
        },
        {
          "output_type": "stream",
          "name": "stderr",
          "text": [
            "WARNING:tensorflow:Early stopping conditioned on metric `val_mse` which is not available. Available metrics are: loss,mae,val_loss,val_mae\n"
          ]
        },
        {
          "output_type": "stream",
          "name": "stdout",
          "text": [
            "\n",
            "Epoch 255: val_loss improved from 18511684.00000 to 18110352.00000, saving model to /content/checkFile.hdf5\n",
            "29/29 [==============================] - 0s 7ms/step - loss: 16925082.0000 - mae: 2684.4011 - val_loss: 18110352.0000 - val_mae: 2746.8696\n",
            "Epoch 256/350\n",
            "22/29 [=====================>........] - ETA: 0s - loss: 16779466.0000 - mae: 2655.3467"
          ]
        },
        {
          "output_type": "stream",
          "name": "stderr",
          "text": [
            "WARNING:tensorflow:Early stopping conditioned on metric `val_mse` which is not available. Available metrics are: loss,mae,val_loss,val_mae\n"
          ]
        },
        {
          "output_type": "stream",
          "name": "stdout",
          "text": [
            "\n",
            "Epoch 256: val_loss improved from 18110352.00000 to 17888602.00000, saving model to /content/checkFile.hdf5\n",
            "29/29 [==============================] - 0s 8ms/step - loss: 16652110.0000 - mae: 2661.2781 - val_loss: 17888602.0000 - val_mae: 2733.9116\n",
            "Epoch 257/350\n",
            "28/29 [===========================>..] - ETA: 0s - loss: 16595584.0000 - mae: 2651.2957"
          ]
        },
        {
          "output_type": "stream",
          "name": "stderr",
          "text": [
            "WARNING:tensorflow:Early stopping conditioned on metric `val_mse` which is not available. Available metrics are: loss,mae,val_loss,val_mae\n"
          ]
        },
        {
          "output_type": "stream",
          "name": "stdout",
          "text": [
            "\n",
            "Epoch 257: val_loss improved from 17888602.00000 to 17526624.00000, saving model to /content/checkFile.hdf5\n",
            "29/29 [==============================] - 0s 6ms/step - loss: 16408232.0000 - mae: 2641.5806 - val_loss: 17526624.0000 - val_mae: 2695.6465\n",
            "Epoch 258/350\n",
            "17/29 [================>.............] - ETA: 0s - loss: 16413228.0000 - mae: 2628.6658"
          ]
        },
        {
          "output_type": "stream",
          "name": "stderr",
          "text": [
            "WARNING:tensorflow:Early stopping conditioned on metric `val_mse` which is not available. Available metrics are: loss,mae,val_loss,val_mae\n"
          ]
        },
        {
          "output_type": "stream",
          "name": "stdout",
          "text": [
            "\n",
            "Epoch 258: val_loss improved from 17526624.00000 to 17256804.00000, saving model to /content/checkFile.hdf5\n",
            "29/29 [==============================] - 0s 6ms/step - loss: 16190687.0000 - mae: 2625.6816 - val_loss: 17256804.0000 - val_mae: 2676.1772\n",
            "Epoch 259/350\n",
            "16/29 [===============>..............] - ETA: 0s - loss: 15304240.0000 - mae: 2582.5400"
          ]
        },
        {
          "output_type": "stream",
          "name": "stderr",
          "text": [
            "WARNING:tensorflow:Early stopping conditioned on metric `val_mse` which is not available. Available metrics are: loss,mae,val_loss,val_mae\n"
          ]
        },
        {
          "output_type": "stream",
          "name": "stdout",
          "text": [
            "\n",
            "Epoch 259: val_loss improved from 17256804.00000 to 17073450.00000, saving model to /content/checkFile.hdf5\n",
            "29/29 [==============================] - 0s 6ms/step - loss: 15927826.0000 - mae: 2600.7344 - val_loss: 17073450.0000 - val_mae: 2666.7358\n",
            "Epoch 260/350\n",
            "20/29 [===================>..........] - ETA: 0s - loss: 16646189.0000 - mae: 2619.4451"
          ]
        },
        {
          "output_type": "stream",
          "name": "stderr",
          "text": [
            "WARNING:tensorflow:Early stopping conditioned on metric `val_mse` which is not available. Available metrics are: loss,mae,val_loss,val_mae\n"
          ]
        },
        {
          "output_type": "stream",
          "name": "stdout",
          "text": [
            "\n",
            "Epoch 260: val_loss improved from 17073450.00000 to 16755658.00000, saving model to /content/checkFile.hdf5\n",
            "29/29 [==============================] - 0s 5ms/step - loss: 15719342.0000 - mae: 2583.1641 - val_loss: 16755658.0000 - val_mae: 2636.6475\n",
            "Epoch 261/350\n",
            "22/29 [=====================>........] - ETA: 0s - loss: 15132380.0000 - mae: 2562.9346"
          ]
        },
        {
          "output_type": "stream",
          "name": "stderr",
          "text": [
            "WARNING:tensorflow:Early stopping conditioned on metric `val_mse` which is not available. Available metrics are: loss,mae,val_loss,val_mae\n"
          ]
        },
        {
          "output_type": "stream",
          "name": "stdout",
          "text": [
            "\n",
            "Epoch 261: val_loss improved from 16755658.00000 to 16541861.00000, saving model to /content/checkFile.hdf5\n",
            "29/29 [==============================] - 0s 4ms/step - loss: 15492258.0000 - mae: 2562.9438 - val_loss: 16541861.0000 - val_mae: 2622.6052\n",
            "Epoch 262/350\n",
            "20/29 [===================>..........] - ETA: 0s - loss: 14968227.0000 - mae: 2533.5212"
          ]
        },
        {
          "output_type": "stream",
          "name": "stderr",
          "text": [
            "WARNING:tensorflow:Early stopping conditioned on metric `val_mse` which is not available. Available metrics are: loss,mae,val_loss,val_mae\n"
          ]
        },
        {
          "output_type": "stream",
          "name": "stdout",
          "text": [
            "\n",
            "Epoch 262: val_loss improved from 16541861.00000 to 16300176.00000, saving model to /content/checkFile.hdf5\n",
            "29/29 [==============================] - 0s 5ms/step - loss: 15269101.0000 - mae: 2542.9226 - val_loss: 16300176.0000 - val_mae: 2603.4773\n",
            "Epoch 263/350\n",
            "19/29 [==================>...........] - ETA: 0s - loss: 14506270.0000 - mae: 2481.2646"
          ]
        },
        {
          "output_type": "stream",
          "name": "stderr",
          "text": [
            "WARNING:tensorflow:Early stopping conditioned on metric `val_mse` which is not available. Available metrics are: loss,mae,val_loss,val_mae\n"
          ]
        },
        {
          "output_type": "stream",
          "name": "stdout",
          "text": [
            "\n",
            "Epoch 263: val_loss improved from 16300176.00000 to 16015857.00000, saving model to /content/checkFile.hdf5\n",
            "29/29 [==============================] - 0s 6ms/step - loss: 15051399.0000 - mae: 2523.4612 - val_loss: 16015857.0000 - val_mae: 2576.6638\n",
            "Epoch 264/350\n",
            "18/29 [=================>............] - ETA: 0s - loss: 15169331.0000 - mae: 2517.2773"
          ]
        },
        {
          "output_type": "stream",
          "name": "stderr",
          "text": [
            "WARNING:tensorflow:Early stopping conditioned on metric `val_mse` which is not available. Available metrics are: loss,mae,val_loss,val_mae\n"
          ]
        },
        {
          "output_type": "stream",
          "name": "stdout",
          "text": [
            "\n",
            "Epoch 264: val_loss improved from 16015857.00000 to 15754569.00000, saving model to /content/checkFile.hdf5\n",
            "29/29 [==============================] - 0s 5ms/step - loss: 14837590.0000 - mae: 2504.2983 - val_loss: 15754569.0000 - val_mae: 2557.0474\n",
            "Epoch 265/350\n",
            "20/29 [===================>..........] - ETA: 0s - loss: 15169715.0000 - mae: 2497.2351"
          ]
        },
        {
          "output_type": "stream",
          "name": "stderr",
          "text": [
            "WARNING:tensorflow:Early stopping conditioned on metric `val_mse` which is not available. Available metrics are: loss,mae,val_loss,val_mae\n"
          ]
        },
        {
          "output_type": "stream",
          "name": "stdout",
          "text": [
            "\n",
            "Epoch 265: val_loss improved from 15754569.00000 to 15514975.00000, saving model to /content/checkFile.hdf5\n",
            "29/29 [==============================] - 0s 5ms/step - loss: 14638874.0000 - mae: 2487.3948 - val_loss: 15514975.0000 - val_mae: 2536.3242\n",
            "Epoch 266/350\n",
            "19/29 [==================>...........] - ETA: 0s - loss: 14689604.0000 - mae: 2469.6147"
          ]
        },
        {
          "output_type": "stream",
          "name": "stderr",
          "text": [
            "WARNING:tensorflow:Early stopping conditioned on metric `val_mse` which is not available. Available metrics are: loss,mae,val_loss,val_mae\n"
          ]
        },
        {
          "output_type": "stream",
          "name": "stdout",
          "text": [
            "\n",
            "Epoch 266: val_loss improved from 15514975.00000 to 15377316.00000, saving model to /content/checkFile.hdf5\n",
            "29/29 [==============================] - 0s 5ms/step - loss: 14455170.0000 - mae: 2469.5093 - val_loss: 15377316.0000 - val_mae: 2529.6123\n",
            "Epoch 267/350\n",
            "20/29 [===================>..........] - ETA: 0s - loss: 13995535.0000 - mae: 2442.0396"
          ]
        },
        {
          "output_type": "stream",
          "name": "stderr",
          "text": [
            "WARNING:tensorflow:Early stopping conditioned on metric `val_mse` which is not available. Available metrics are: loss,mae,val_loss,val_mae\n"
          ]
        },
        {
          "output_type": "stream",
          "name": "stdout",
          "text": [
            "\n",
            "Epoch 267: val_loss improved from 15377316.00000 to 15104125.00000, saving model to /content/checkFile.hdf5\n",
            "29/29 [==============================] - 0s 5ms/step - loss: 14242586.0000 - mae: 2450.9104 - val_loss: 15104125.0000 - val_mae: 2501.9246\n",
            "Epoch 268/350\n",
            "23/29 [======================>.......] - ETA: 0s - loss: 13707479.0000 - mae: 2430.1411"
          ]
        },
        {
          "output_type": "stream",
          "name": "stderr",
          "text": [
            "WARNING:tensorflow:Early stopping conditioned on metric `val_mse` which is not available. Available metrics are: loss,mae,val_loss,val_mae\n"
          ]
        },
        {
          "output_type": "stream",
          "name": "stdout",
          "text": [
            "\n",
            "Epoch 268: val_loss improved from 15104125.00000 to 14850632.00000, saving model to /content/checkFile.hdf5\n",
            "29/29 [==============================] - 0s 5ms/step - loss: 14050600.0000 - mae: 2433.1123 - val_loss: 14850632.0000 - val_mae: 2479.5598\n",
            "Epoch 269/350\n",
            "21/29 [====================>.........] - ETA: 0s - loss: 14090278.0000 - mae: 2436.8577"
          ]
        },
        {
          "output_type": "stream",
          "name": "stderr",
          "text": [
            "WARNING:tensorflow:Early stopping conditioned on metric `val_mse` which is not available. Available metrics are: loss,mae,val_loss,val_mae\n"
          ]
        },
        {
          "output_type": "stream",
          "name": "stdout",
          "text": [
            "\n",
            "Epoch 269: val_loss improved from 14850632.00000 to 14642528.00000, saving model to /content/checkFile.hdf5\n",
            "29/29 [==============================] - 0s 5ms/step - loss: 13873591.0000 - mae: 2416.7844 - val_loss: 14642528.0000 - val_mae: 2461.5059\n",
            "Epoch 270/350\n",
            "19/29 [==================>...........] - ETA: 0s - loss: 13521375.0000 - mae: 2398.7148"
          ]
        },
        {
          "output_type": "stream",
          "name": "stderr",
          "text": [
            "WARNING:tensorflow:Early stopping conditioned on metric `val_mse` which is not available. Available metrics are: loss,mae,val_loss,val_mae\n"
          ]
        },
        {
          "output_type": "stream",
          "name": "stdout",
          "text": [
            "\n",
            "Epoch 270: val_loss improved from 14642528.00000 to 14427040.00000, saving model to /content/checkFile.hdf5\n",
            "29/29 [==============================] - 0s 5ms/step - loss: 13690513.0000 - mae: 2397.9788 - val_loss: 14427040.0000 - val_mae: 2442.0054\n",
            "Epoch 271/350\n",
            "20/29 [===================>..........] - ETA: 0s - loss: 13700011.0000 - mae: 2402.8506"
          ]
        },
        {
          "output_type": "stream",
          "name": "stderr",
          "text": [
            "WARNING:tensorflow:Early stopping conditioned on metric `val_mse` which is not available. Available metrics are: loss,mae,val_loss,val_mae\n"
          ]
        },
        {
          "output_type": "stream",
          "name": "stdout",
          "text": [
            "\n",
            "Epoch 271: val_loss improved from 14427040.00000 to 14359215.00000, saving model to /content/checkFile.hdf5\n",
            "29/29 [==============================] - 0s 5ms/step - loss: 13547826.0000 - mae: 2387.1667 - val_loss: 14359215.0000 - val_mae: 2445.6584\n",
            "Epoch 272/350\n",
            "19/29 [==================>...........] - ETA: 0s - loss: 12777324.0000 - mae: 2346.4775"
          ]
        },
        {
          "output_type": "stream",
          "name": "stderr",
          "text": [
            "WARNING:tensorflow:Early stopping conditioned on metric `val_mse` which is not available. Available metrics are: loss,mae,val_loss,val_mae\n"
          ]
        },
        {
          "output_type": "stream",
          "name": "stdout",
          "text": [
            "\n",
            "Epoch 272: val_loss improved from 14359215.00000 to 14030448.00000, saving model to /content/checkFile.hdf5\n",
            "29/29 [==============================] - 0s 5ms/step - loss: 13348823.0000 - mae: 2369.2271 - val_loss: 14030448.0000 - val_mae: 2409.7791\n",
            "Epoch 273/350\n",
            "19/29 [==================>...........] - ETA: 0s - loss: 13050070.0000 - mae: 2359.1467"
          ]
        },
        {
          "output_type": "stream",
          "name": "stderr",
          "text": [
            "WARNING:tensorflow:Early stopping conditioned on metric `val_mse` which is not available. Available metrics are: loss,mae,val_loss,val_mae\n"
          ]
        },
        {
          "output_type": "stream",
          "name": "stdout",
          "text": [
            "\n",
            "Epoch 273: val_loss improved from 14030448.00000 to 13816722.00000, saving model to /content/checkFile.hdf5\n",
            "29/29 [==============================] - 0s 5ms/step - loss: 13163429.0000 - mae: 2350.2134 - val_loss: 13816722.0000 - val_mae: 2390.3225\n",
            "Epoch 274/350\n",
            "20/29 [===================>..........] - ETA: 0s - loss: 13842592.0000 - mae: 2370.4595"
          ]
        },
        {
          "output_type": "stream",
          "name": "stderr",
          "text": [
            "WARNING:tensorflow:Early stopping conditioned on metric `val_mse` which is not available. Available metrics are: loss,mae,val_loss,val_mae\n"
          ]
        },
        {
          "output_type": "stream",
          "name": "stdout",
          "text": [
            "\n",
            "Epoch 274: val_loss improved from 13816722.00000 to 13714516.00000, saving model to /content/checkFile.hdf5\n",
            "29/29 [==============================] - 0s 5ms/step - loss: 12996709.0000 - mae: 2333.1597 - val_loss: 13714516.0000 - val_mae: 2387.1541\n",
            "Epoch 275/350\n",
            "19/29 [==================>...........] - ETA: 0s - loss: 13071108.0000 - mae: 2313.2747"
          ]
        },
        {
          "output_type": "stream",
          "name": "stderr",
          "text": [
            "WARNING:tensorflow:Early stopping conditioned on metric `val_mse` which is not available. Available metrics are: loss,mae,val_loss,val_mae\n"
          ]
        },
        {
          "output_type": "stream",
          "name": "stdout",
          "text": [
            "\n",
            "Epoch 275: val_loss improved from 13714516.00000 to 13474553.00000, saving model to /content/checkFile.hdf5\n",
            "29/29 [==============================] - 0s 5ms/step - loss: 12835789.0000 - mae: 2317.9407 - val_loss: 13474553.0000 - val_mae: 2362.5959\n",
            "Epoch 276/350\n",
            "21/29 [====================>.........] - ETA: 0s - loss: 12443574.0000 - mae: 2278.2854"
          ]
        },
        {
          "output_type": "stream",
          "name": "stderr",
          "text": [
            "WARNING:tensorflow:Early stopping conditioned on metric `val_mse` which is not available. Available metrics are: loss,mae,val_loss,val_mae\n"
          ]
        },
        {
          "output_type": "stream",
          "name": "stdout",
          "text": [
            "\n",
            "Epoch 276: val_loss improved from 13474553.00000 to 13291196.00000, saving model to /content/checkFile.hdf5\n",
            "29/29 [==============================] - 0s 5ms/step - loss: 12671554.0000 - mae: 2301.2837 - val_loss: 13291196.0000 - val_mae: 2346.3435\n",
            "Epoch 277/350\n",
            "20/29 [===================>..........] - ETA: 0s - loss: 12658644.0000 - mae: 2288.6260"
          ]
        },
        {
          "output_type": "stream",
          "name": "stderr",
          "text": [
            "WARNING:tensorflow:Early stopping conditioned on metric `val_mse` which is not available. Available metrics are: loss,mae,val_loss,val_mae\n"
          ]
        },
        {
          "output_type": "stream",
          "name": "stdout",
          "text": [
            "\n",
            "Epoch 277: val_loss improved from 13291196.00000 to 13091862.00000, saving model to /content/checkFile.hdf5\n",
            "29/29 [==============================] - 0s 5ms/step - loss: 12510460.0000 - mae: 2285.0881 - val_loss: 13091862.0000 - val_mae: 2325.6409\n",
            "Epoch 278/350\n",
            "21/29 [====================>.........] - ETA: 0s - loss: 11998044.0000 - mae: 2258.1062"
          ]
        },
        {
          "output_type": "stream",
          "name": "stderr",
          "text": [
            "WARNING:tensorflow:Early stopping conditioned on metric `val_mse` which is not available. Available metrics are: loss,mae,val_loss,val_mae\n"
          ]
        },
        {
          "output_type": "stream",
          "name": "stdout",
          "text": [
            "\n",
            "Epoch 278: val_loss improved from 13091862.00000 to 12944136.00000, saving model to /content/checkFile.hdf5\n",
            "29/29 [==============================] - 0s 5ms/step - loss: 12363227.0000 - mae: 2272.6809 - val_loss: 12944136.0000 - val_mae: 2316.3875\n",
            "Epoch 279/350\n",
            "21/29 [====================>.........] - ETA: 0s - loss: 12077001.0000 - mae: 2252.8079"
          ]
        },
        {
          "output_type": "stream",
          "name": "stderr",
          "text": [
            "WARNING:tensorflow:Early stopping conditioned on metric `val_mse` which is not available. Available metrics are: loss,mae,val_loss,val_mae\n"
          ]
        },
        {
          "output_type": "stream",
          "name": "stdout",
          "text": [
            "\n",
            "Epoch 279: val_loss improved from 12944136.00000 to 12734071.00000, saving model to /content/checkFile.hdf5\n",
            "29/29 [==============================] - 0s 5ms/step - loss: 12219393.0000 - mae: 2256.7371 - val_loss: 12734071.0000 - val_mae: 2292.1875\n",
            "Epoch 280/350\n",
            "22/29 [=====================>........] - ETA: 0s - loss: 11634257.0000 - mae: 2219.8875"
          ]
        },
        {
          "output_type": "stream",
          "name": "stderr",
          "text": [
            "WARNING:tensorflow:Early stopping conditioned on metric `val_mse` which is not available. Available metrics are: loss,mae,val_loss,val_mae\n"
          ]
        },
        {
          "output_type": "stream",
          "name": "stdout",
          "text": [
            "\n",
            "Epoch 280: val_loss improved from 12734071.00000 to 12576985.00000, saving model to /content/checkFile.hdf5\n",
            "29/29 [==============================] - 0s 5ms/step - loss: 12056003.0000 - mae: 2239.5046 - val_loss: 12576985.0000 - val_mae: 2277.6650\n",
            "Epoch 281/350\n",
            "22/29 [=====================>........] - ETA: 0s - loss: 12051617.0000 - mae: 2253.6577"
          ]
        },
        {
          "output_type": "stream",
          "name": "stderr",
          "text": [
            "WARNING:tensorflow:Early stopping conditioned on metric `val_mse` which is not available. Available metrics are: loss,mae,val_loss,val_mae\n"
          ]
        },
        {
          "output_type": "stream",
          "name": "stdout",
          "text": [
            "\n",
            "Epoch 281: val_loss improved from 12576985.00000 to 12411609.00000, saving model to /content/checkFile.hdf5\n",
            "29/29 [==============================] - 0s 5ms/step - loss: 11921504.0000 - mae: 2228.2727 - val_loss: 12411609.0000 - val_mae: 2262.0986\n",
            "Epoch 282/350\n",
            "21/29 [====================>.........] - ETA: 0s - loss: 12138921.0000 - mae: 2240.4841"
          ]
        },
        {
          "output_type": "stream",
          "name": "stderr",
          "text": [
            "WARNING:tensorflow:Early stopping conditioned on metric `val_mse` which is not available. Available metrics are: loss,mae,val_loss,val_mae\n"
          ]
        },
        {
          "output_type": "stream",
          "name": "stdout",
          "text": [
            "\n",
            "Epoch 282: val_loss improved from 12411609.00000 to 12265628.00000, saving model to /content/checkFile.hdf5\n",
            "29/29 [==============================] - 0s 5ms/step - loss: 11773524.0000 - mae: 2212.7634 - val_loss: 12265628.0000 - val_mae: 2251.2407\n",
            "Epoch 283/350\n",
            "22/29 [=====================>........] - ETA: 0s - loss: 11647877.0000 - mae: 2195.7993"
          ]
        },
        {
          "output_type": "stream",
          "name": "stderr",
          "text": [
            "WARNING:tensorflow:Early stopping conditioned on metric `val_mse` which is not available. Available metrics are: loss,mae,val_loss,val_mae\n"
          ]
        },
        {
          "output_type": "stream",
          "name": "stdout",
          "text": [
            "\n",
            "Epoch 283: val_loss improved from 12265628.00000 to 12085325.00000, saving model to /content/checkFile.hdf5\n",
            "29/29 [==============================] - 0s 5ms/step - loss: 11638781.0000 - mae: 2197.8833 - val_loss: 12085325.0000 - val_mae: 2230.8496\n",
            "Epoch 284/350\n",
            "18/29 [=================>............] - ETA: 0s - loss: 12350124.0000 - mae: 2228.7146"
          ]
        },
        {
          "output_type": "stream",
          "name": "stderr",
          "text": [
            "WARNING:tensorflow:Early stopping conditioned on metric `val_mse` which is not available. Available metrics are: loss,mae,val_loss,val_mae\n"
          ]
        },
        {
          "output_type": "stream",
          "name": "stdout",
          "text": [
            "\n",
            "Epoch 284: val_loss improved from 12085325.00000 to 11965902.00000, saving model to /content/checkFile.hdf5\n",
            "29/29 [==============================] - 0s 5ms/step - loss: 11505743.0000 - mae: 2183.6116 - val_loss: 11965902.0000 - val_mae: 2222.4470\n",
            "Epoch 285/350\n",
            "22/29 [=====================>........] - ETA: 0s - loss: 11489173.0000 - mae: 2166.4788"
          ]
        },
        {
          "output_type": "stream",
          "name": "stderr",
          "text": [
            "WARNING:tensorflow:Early stopping conditioned on metric `val_mse` which is not available. Available metrics are: loss,mae,val_loss,val_mae\n"
          ]
        },
        {
          "output_type": "stream",
          "name": "stdout",
          "text": [
            "\n",
            "Epoch 285: val_loss improved from 11965902.00000 to 11826483.00000, saving model to /content/checkFile.hdf5\n",
            "29/29 [==============================] - 0s 5ms/step - loss: 11370168.0000 - mae: 2169.4165 - val_loss: 11826483.0000 - val_mae: 2209.6641\n",
            "Epoch 286/350\n",
            "21/29 [====================>.........] - ETA: 0s - loss: 11524529.0000 - mae: 2173.0916"
          ]
        },
        {
          "output_type": "stream",
          "name": "stderr",
          "text": [
            "WARNING:tensorflow:Early stopping conditioned on metric `val_mse` which is not available. Available metrics are: loss,mae,val_loss,val_mae\n"
          ]
        },
        {
          "output_type": "stream",
          "name": "stdout",
          "text": [
            "\n",
            "Epoch 286: val_loss improved from 11826483.00000 to 11786971.00000, saving model to /content/checkFile.hdf5\n",
            "29/29 [==============================] - 0s 5ms/step - loss: 11234291.0000 - mae: 2159.8384 - val_loss: 11786971.0000 - val_mae: 2209.8696\n",
            "Epoch 287/350\n",
            "21/29 [====================>.........] - ETA: 0s - loss: 10789822.0000 - mae: 2114.8362"
          ]
        },
        {
          "output_type": "stream",
          "name": "stderr",
          "text": [
            "WARNING:tensorflow:Early stopping conditioned on metric `val_mse` which is not available. Available metrics are: loss,mae,val_loss,val_mae\n"
          ]
        },
        {
          "output_type": "stream",
          "name": "stdout",
          "text": [
            "\n",
            "Epoch 287: val_loss improved from 11786971.00000 to 11490157.00000, saving model to /content/checkFile.hdf5\n",
            "29/29 [==============================] - 0s 5ms/step - loss: 11114971.0000 - mae: 2142.6094 - val_loss: 11490157.0000 - val_mae: 2170.2676\n",
            "Epoch 288/350\n",
            "17/29 [================>.............] - ETA: 0s - loss: 10565406.0000 - mae: 2107.1204"
          ]
        },
        {
          "output_type": "stream",
          "name": "stderr",
          "text": [
            "WARNING:tensorflow:Early stopping conditioned on metric `val_mse` which is not available. Available metrics are: loss,mae,val_loss,val_mae\n"
          ]
        },
        {
          "output_type": "stream",
          "name": "stdout",
          "text": [
            "\n",
            "Epoch 288: val_loss improved from 11490157.00000 to 11338917.00000, saving model to /content/checkFile.hdf5\n",
            "29/29 [==============================] - 0s 5ms/step - loss: 10977490.0000 - mae: 2128.4126 - val_loss: 11338917.0000 - val_mae: 2158.0334\n",
            "Epoch 289/350\n",
            "22/29 [=====================>........] - ETA: 0s - loss: 10810694.0000 - mae: 2130.8547"
          ]
        },
        {
          "output_type": "stream",
          "name": "stderr",
          "text": [
            "WARNING:tensorflow:Early stopping conditioned on metric `val_mse` which is not available. Available metrics are: loss,mae,val_loss,val_mae\n"
          ]
        },
        {
          "output_type": "stream",
          "name": "stdout",
          "text": [
            "\n",
            "Epoch 289: val_loss improved from 11338917.00000 to 11309615.00000, saving model to /content/checkFile.hdf5\n",
            "29/29 [==============================] - 0s 4ms/step - loss: 10846072.0000 - mae: 2115.3682 - val_loss: 11309615.0000 - val_mae: 2160.7778\n",
            "Epoch 290/350\n",
            "21/29 [====================>.........] - ETA: 0s - loss: 10743220.0000 - mae: 2116.3760"
          ]
        },
        {
          "output_type": "stream",
          "name": "stderr",
          "text": [
            "WARNING:tensorflow:Early stopping conditioned on metric `val_mse` which is not available. Available metrics are: loss,mae,val_loss,val_mae\n"
          ]
        },
        {
          "output_type": "stream",
          "name": "stdout",
          "text": [
            "\n",
            "Epoch 290: val_loss improved from 11309615.00000 to 11091600.00000, saving model to /content/checkFile.hdf5\n",
            "29/29 [==============================] - 0s 5ms/step - loss: 10736792.0000 - mae: 2101.1919 - val_loss: 11091600.0000 - val_mae: 2134.0774\n",
            "Epoch 291/350\n",
            "19/29 [==================>...........] - ETA: 0s - loss: 10062811.0000 - mae: 2062.4182"
          ]
        },
        {
          "output_type": "stream",
          "name": "stderr",
          "text": [
            "WARNING:tensorflow:Early stopping conditioned on metric `val_mse` which is not available. Available metrics are: loss,mae,val_loss,val_mae\n"
          ]
        },
        {
          "output_type": "stream",
          "name": "stdout",
          "text": [
            "\n",
            "Epoch 291: val_loss improved from 11091600.00000 to 10910894.00000, saving model to /content/checkFile.hdf5\n",
            "29/29 [==============================] - 0s 5ms/step - loss: 10604602.0000 - mae: 2087.7200 - val_loss: 10910894.0000 - val_mae: 2112.2537\n",
            "Epoch 292/350\n",
            "22/29 [=====================>........] - ETA: 0s - loss: 10776751.0000 - mae: 2114.7529"
          ]
        },
        {
          "output_type": "stream",
          "name": "stderr",
          "text": [
            "WARNING:tensorflow:Early stopping conditioned on metric `val_mse` which is not available. Available metrics are: loss,mae,val_loss,val_mae\n"
          ]
        },
        {
          "output_type": "stream",
          "name": "stdout",
          "text": [
            "\n",
            "Epoch 292: val_loss improved from 10910894.00000 to 10781631.00000, saving model to /content/checkFile.hdf5\n",
            "29/29 [==============================] - 0s 5ms/step - loss: 10573784.0000 - mae: 2093.4365 - val_loss: 10781631.0000 - val_mae: 2099.9548\n",
            "Epoch 293/350\n",
            "22/29 [=====================>........] - ETA: 0s - loss: 10285897.0000 - mae: 2058.4714"
          ]
        },
        {
          "output_type": "stream",
          "name": "stderr",
          "text": [
            "WARNING:tensorflow:Early stopping conditioned on metric `val_mse` which is not available. Available metrics are: loss,mae,val_loss,val_mae\n"
          ]
        },
        {
          "output_type": "stream",
          "name": "stdout",
          "text": [
            "\n",
            "Epoch 293: val_loss improved from 10781631.00000 to 10739783.00000, saving model to /content/checkFile.hdf5\n",
            "29/29 [==============================] - 0s 5ms/step - loss: 10370920.0000 - mae: 2065.0107 - val_loss: 10739783.0000 - val_mae: 2099.6301\n",
            "Epoch 294/350\n",
            "19/29 [==================>...........] - ETA: 0s - loss: 10145322.0000 - mae: 2052.4182"
          ]
        },
        {
          "output_type": "stream",
          "name": "stderr",
          "text": [
            "WARNING:tensorflow:Early stopping conditioned on metric `val_mse` which is not available. Available metrics are: loss,mae,val_loss,val_mae\n"
          ]
        },
        {
          "output_type": "stream",
          "name": "stdout",
          "text": [
            "\n",
            "Epoch 294: val_loss improved from 10739783.00000 to 10534830.00000, saving model to /content/checkFile.hdf5\n",
            "29/29 [==============================] - 0s 6ms/step - loss: 10261685.0000 - mae: 2051.7256 - val_loss: 10534830.0000 - val_mae: 2075.2297\n",
            "Epoch 295/350\n",
            "21/29 [====================>.........] - ETA: 0s - loss: 10098316.0000 - mae: 2041.5842"
          ]
        },
        {
          "output_type": "stream",
          "name": "stderr",
          "text": [
            "WARNING:tensorflow:Early stopping conditioned on metric `val_mse` which is not available. Available metrics are: loss,mae,val_loss,val_mae\n"
          ]
        },
        {
          "output_type": "stream",
          "name": "stdout",
          "text": [
            "\n",
            "Epoch 295: val_loss improved from 10534830.00000 to 10432383.00000, saving model to /content/checkFile.hdf5\n",
            "29/29 [==============================] - 0s 5ms/step - loss: 10224554.0000 - mae: 2058.0486 - val_loss: 10432383.0000 - val_mae: 2065.0481\n",
            "Epoch 296/350\n",
            "19/29 [==================>...........] - ETA: 0s - loss: 9463606.0000 - mae: 1998.4093"
          ]
        },
        {
          "output_type": "stream",
          "name": "stderr",
          "text": [
            "WARNING:tensorflow:Early stopping conditioned on metric `val_mse` which is not available. Available metrics are: loss,mae,val_loss,val_mae\n"
          ]
        },
        {
          "output_type": "stream",
          "name": "stdout",
          "text": [
            "\n",
            "Epoch 296: val_loss improved from 10432383.00000 to 10377858.00000, saving model to /content/checkFile.hdf5\n",
            "29/29 [==============================] - 0s 5ms/step - loss: 10068039.0000 - mae: 2033.6062 - val_loss: 10377858.0000 - val_mae: 2065.1848\n",
            "Epoch 297/350\n",
            "19/29 [==================>...........] - ETA: 0s - loss: 9720892.0000 - mae: 1997.7628 "
          ]
        },
        {
          "output_type": "stream",
          "name": "stderr",
          "text": [
            "WARNING:tensorflow:Early stopping conditioned on metric `val_mse` which is not available. Available metrics are: loss,mae,val_loss,val_mae\n"
          ]
        },
        {
          "output_type": "stream",
          "name": "stdout",
          "text": [
            "\n",
            "Epoch 297: val_loss improved from 10377858.00000 to 10141246.00000, saving model to /content/checkFile.hdf5\n",
            "29/29 [==============================] - 0s 5ms/step - loss: 9937775.0000 - mae: 2018.3293 - val_loss: 10141246.0000 - val_mae: 2030.8767\n",
            "Epoch 298/350\n",
            "22/29 [=====================>........] - ETA: 0s - loss: 9663811.0000 - mae: 1993.2977"
          ]
        },
        {
          "output_type": "stream",
          "name": "stderr",
          "text": [
            "WARNING:tensorflow:Early stopping conditioned on metric `val_mse` which is not available. Available metrics are: loss,mae,val_loss,val_mae\n"
          ]
        },
        {
          "output_type": "stream",
          "name": "stdout",
          "text": [
            "\n",
            "Epoch 298: val_loss improved from 10141246.00000 to 10104413.00000, saving model to /content/checkFile.hdf5\n",
            "29/29 [==============================] - 0s 5ms/step - loss: 9812057.0000 - mae: 2002.2552 - val_loss: 10104413.0000 - val_mae: 2032.4775\n",
            "Epoch 299/350\n",
            "22/29 [=====================>........] - ETA: 0s - loss: 9913755.0000 - mae: 1995.6710"
          ]
        },
        {
          "output_type": "stream",
          "name": "stderr",
          "text": [
            "WARNING:tensorflow:Early stopping conditioned on metric `val_mse` which is not available. Available metrics are: loss,mae,val_loss,val_mae\n"
          ]
        },
        {
          "output_type": "stream",
          "name": "stdout",
          "text": [
            "\n",
            "Epoch 299: val_loss improved from 10104413.00000 to 9917301.00000, saving model to /content/checkFile.hdf5\n",
            "29/29 [==============================] - 0s 5ms/step - loss: 9702874.0000 - mae: 1989.4147 - val_loss: 9917301.0000 - val_mae: 2007.6958\n",
            "Epoch 300/350\n",
            "22/29 [=====================>........] - ETA: 0s - loss: 9443718.0000 - mae: 1976.3654"
          ]
        },
        {
          "output_type": "stream",
          "name": "stderr",
          "text": [
            "WARNING:tensorflow:Early stopping conditioned on metric `val_mse` which is not available. Available metrics are: loss,mae,val_loss,val_mae\n"
          ]
        },
        {
          "output_type": "stream",
          "name": "stdout",
          "text": [
            "\n",
            "Epoch 300: val_loss improved from 9917301.00000 to 9900212.00000, saving model to /content/checkFile.hdf5\n",
            "29/29 [==============================] - 0s 5ms/step - loss: 9593196.0000 - mae: 1976.4943 - val_loss: 9900212.0000 - val_mae: 2012.8496\n",
            "Epoch 301/350\n",
            "16/29 [===============>..............] - ETA: 0s - loss: 9485652.0000 - mae: 1972.5779"
          ]
        },
        {
          "output_type": "stream",
          "name": "stderr",
          "text": [
            "WARNING:tensorflow:Early stopping conditioned on metric `val_mse` which is not available. Available metrics are: loss,mae,val_loss,val_mae\n"
          ]
        },
        {
          "output_type": "stream",
          "name": "stdout",
          "text": [
            "\n",
            "Epoch 301: val_loss improved from 9900212.00000 to 9661423.00000, saving model to /content/checkFile.hdf5\n",
            "29/29 [==============================] - 0s 5ms/step - loss: 9507201.0000 - mae: 1968.7865 - val_loss: 9661423.0000 - val_mae: 1979.2111\n",
            "Epoch 302/350\n",
            "22/29 [=====================>........] - ETA: 0s - loss: 9551495.0000 - mae: 1974.0026"
          ]
        },
        {
          "output_type": "stream",
          "name": "stderr",
          "text": [
            "WARNING:tensorflow:Early stopping conditioned on metric `val_mse` which is not available. Available metrics are: loss,mae,val_loss,val_mae\n"
          ]
        },
        {
          "output_type": "stream",
          "name": "stdout",
          "text": [
            "\n",
            "Epoch 302: val_loss improved from 9661423.00000 to 9546975.00000, saving model to /content/checkFile.hdf5\n",
            "29/29 [==============================] - 0s 5ms/step - loss: 9395732.0000 - mae: 1953.7148 - val_loss: 9546975.0000 - val_mae: 1966.7283\n",
            "Epoch 303/350\n",
            "23/29 [======================>.......] - ETA: 0s - loss: 9161916.0000 - mae: 1925.2748 "
          ]
        },
        {
          "output_type": "stream",
          "name": "stderr",
          "text": [
            "WARNING:tensorflow:Early stopping conditioned on metric `val_mse` which is not available. Available metrics are: loss,mae,val_loss,val_mae\n"
          ]
        },
        {
          "output_type": "stream",
          "name": "stdout",
          "text": [
            "\n",
            "Epoch 303: val_loss improved from 9546975.00000 to 9450179.00000, saving model to /content/checkFile.hdf5\n",
            "29/29 [==============================] - 0s 4ms/step - loss: 9301006.0000 - mae: 1941.9923 - val_loss: 9450179.0000 - val_mae: 1953.5459\n",
            "Epoch 304/350\n",
            "19/29 [==================>...........] - ETA: 0s - loss: 9044638.0000 - mae: 1912.0663 "
          ]
        },
        {
          "output_type": "stream",
          "name": "stderr",
          "text": [
            "WARNING:tensorflow:Early stopping conditioned on metric `val_mse` which is not available. Available metrics are: loss,mae,val_loss,val_mae\n"
          ]
        },
        {
          "output_type": "stream",
          "name": "stdout",
          "text": [
            "\n",
            "Epoch 304: val_loss improved from 9450179.00000 to 9382540.00000, saving model to /content/checkFile.hdf5\n",
            "29/29 [==============================] - 0s 5ms/step - loss: 9197004.0000 - mae: 1930.0032 - val_loss: 9382540.0000 - val_mae: 1954.4073\n",
            "Epoch 305/350\n",
            "22/29 [=====================>........] - ETA: 0s - loss: 8917380.0000 - mae: 1913.9258"
          ]
        },
        {
          "output_type": "stream",
          "name": "stderr",
          "text": [
            "WARNING:tensorflow:Early stopping conditioned on metric `val_mse` which is not available. Available metrics are: loss,mae,val_loss,val_mae\n"
          ]
        },
        {
          "output_type": "stream",
          "name": "stdout",
          "text": [
            "\n",
            "Epoch 305: val_loss improved from 9382540.00000 to 9201089.00000, saving model to /content/checkFile.hdf5\n",
            "29/29 [==============================] - 0s 4ms/step - loss: 9113083.0000 - mae: 1920.0402 - val_loss: 9201089.0000 - val_mae: 1927.5317\n",
            "Epoch 306/350\n",
            "20/29 [===================>..........] - ETA: 0s - loss: 9166572.0000 - mae: 1921.7990 "
          ]
        },
        {
          "output_type": "stream",
          "name": "stderr",
          "text": [
            "WARNING:tensorflow:Early stopping conditioned on metric `val_mse` which is not available. Available metrics are: loss,mae,val_loss,val_mae\n"
          ]
        },
        {
          "output_type": "stream",
          "name": "stdout",
          "text": [
            "\n",
            "Epoch 306: val_loss improved from 9201089.00000 to 9118368.00000, saving model to /content/checkFile.hdf5\n",
            "29/29 [==============================] - 0s 5ms/step - loss: 8999682.0000 - mae: 1908.2283 - val_loss: 9118368.0000 - val_mae: 1918.8831\n",
            "Epoch 307/350\n",
            "20/29 [===================>..........] - ETA: 0s - loss: 8764512.0000 - mae: 1890.7086"
          ]
        },
        {
          "output_type": "stream",
          "name": "stderr",
          "text": [
            "WARNING:tensorflow:Early stopping conditioned on metric `val_mse` which is not available. Available metrics are: loss,mae,val_loss,val_mae\n"
          ]
        },
        {
          "output_type": "stream",
          "name": "stdout",
          "text": [
            "\n",
            "Epoch 307: val_loss improved from 9118368.00000 to 8993702.00000, saving model to /content/checkFile.hdf5\n",
            "29/29 [==============================] - 0s 5ms/step - loss: 8918839.0000 - mae: 1899.9976 - val_loss: 8993702.0000 - val_mae: 1903.8575\n",
            "Epoch 308/350\n",
            "16/29 [===============>..............] - ETA: 0s - loss: 8796792.0000 - mae: 1877.8221"
          ]
        },
        {
          "output_type": "stream",
          "name": "stderr",
          "text": [
            "WARNING:tensorflow:Early stopping conditioned on metric `val_mse` which is not available. Available metrics are: loss,mae,val_loss,val_mae\n"
          ]
        },
        {
          "output_type": "stream",
          "name": "stdout",
          "text": [
            "\n",
            "Epoch 308: val_loss improved from 8993702.00000 to 8907614.00000, saving model to /content/checkFile.hdf5\n",
            "29/29 [==============================] - 0s 6ms/step - loss: 8822230.0000 - mae: 1887.0328 - val_loss: 8907614.0000 - val_mae: 1894.4420\n",
            "Epoch 309/350\n",
            "17/29 [================>.............] - ETA: 0s - loss: 9022455.0000 - mae: 1873.3053 "
          ]
        },
        {
          "output_type": "stream",
          "name": "stderr",
          "text": [
            "WARNING:tensorflow:Early stopping conditioned on metric `val_mse` which is not available. Available metrics are: loss,mae,val_loss,val_mae\n"
          ]
        },
        {
          "output_type": "stream",
          "name": "stdout",
          "text": [
            "\n",
            "Epoch 309: val_loss improved from 8907614.00000 to 8784219.00000, saving model to /content/checkFile.hdf5\n",
            "29/29 [==============================] - 0s 5ms/step - loss: 8727706.0000 - mae: 1876.5818 - val_loss: 8784219.0000 - val_mae: 1879.8767\n",
            "Epoch 310/350\n",
            "18/29 [=================>............] - ETA: 0s - loss: 8459953.0000 - mae: 1849.5730 "
          ]
        },
        {
          "output_type": "stream",
          "name": "stderr",
          "text": [
            "WARNING:tensorflow:Early stopping conditioned on metric `val_mse` which is not available. Available metrics are: loss,mae,val_loss,val_mae\n"
          ]
        },
        {
          "output_type": "stream",
          "name": "stdout",
          "text": [
            "\n",
            "Epoch 310: val_loss improved from 8784219.00000 to 8682169.00000, saving model to /content/checkFile.hdf5\n",
            "29/29 [==============================] - 0s 5ms/step - loss: 8648046.0000 - mae: 1865.6975 - val_loss: 8682169.0000 - val_mae: 1867.4580\n",
            "Epoch 311/350\n",
            "18/29 [=================>............] - ETA: 0s - loss: 8585412.0000 - mae: 1859.2498 "
          ]
        },
        {
          "output_type": "stream",
          "name": "stderr",
          "text": [
            "WARNING:tensorflow:Early stopping conditioned on metric `val_mse` which is not available. Available metrics are: loss,mae,val_loss,val_mae\n"
          ]
        },
        {
          "output_type": "stream",
          "name": "stdout",
          "text": [
            "\n",
            "Epoch 311: val_loss improved from 8682169.00000 to 8590286.00000, saving model to /content/checkFile.hdf5\n",
            "29/29 [==============================] - 0s 5ms/step - loss: 8554869.0000 - mae: 1853.4406 - val_loss: 8590286.0000 - val_mae: 1855.6891\n",
            "Epoch 312/350\n",
            "21/29 [====================>.........] - ETA: 0s - loss: 8331305.5000 - mae: 1839.4872"
          ]
        },
        {
          "output_type": "stream",
          "name": "stderr",
          "text": [
            "WARNING:tensorflow:Early stopping conditioned on metric `val_mse` which is not available. Available metrics are: loss,mae,val_loss,val_mae\n"
          ]
        },
        {
          "output_type": "stream",
          "name": "stdout",
          "text": [
            "\n",
            "Epoch 312: val_loss improved from 8590286.00000 to 8559218.00000, saving model to /content/checkFile.hdf5\n",
            "29/29 [==============================] - 0s 5ms/step - loss: 8465953.0000 - mae: 1845.1230 - val_loss: 8559218.0000 - val_mae: 1860.5862\n",
            "Epoch 313/350\n",
            "22/29 [=====================>........] - ETA: 0s - loss: 8700675.0000 - mae: 1858.6772 "
          ]
        },
        {
          "output_type": "stream",
          "name": "stderr",
          "text": [
            "WARNING:tensorflow:Early stopping conditioned on metric `val_mse` which is not available. Available metrics are: loss,mae,val_loss,val_mae\n"
          ]
        },
        {
          "output_type": "stream",
          "name": "stdout",
          "text": [
            "\n",
            "Epoch 313: val_loss improved from 8559218.00000 to 8402031.00000, saving model to /content/checkFile.hdf5\n",
            "29/29 [==============================] - 0s 5ms/step - loss: 8390552.0000 - mae: 1834.0972 - val_loss: 8402031.0000 - val_mae: 1837.0100\n",
            "Epoch 314/350\n",
            "21/29 [====================>.........] - ETA: 0s - loss: 8409737.0000 - mae: 1837.0491"
          ]
        },
        {
          "output_type": "stream",
          "name": "stderr",
          "text": [
            "WARNING:tensorflow:Early stopping conditioned on metric `val_mse` which is not available. Available metrics are: loss,mae,val_loss,val_mae\n"
          ]
        },
        {
          "output_type": "stream",
          "name": "stdout",
          "text": [
            "\n",
            "Epoch 314: val_loss improved from 8402031.00000 to 8293830.50000, saving model to /content/checkFile.hdf5\n",
            "29/29 [==============================] - 0s 5ms/step - loss: 8306883.5000 - mae: 1824.8585 - val_loss: 8293830.5000 - val_mae: 1821.7698\n",
            "Epoch 315/350\n",
            "17/29 [================>.............] - ETA: 0s - loss: 8856534.0000 - mae: 1846.5874"
          ]
        },
        {
          "output_type": "stream",
          "name": "stderr",
          "text": [
            "WARNING:tensorflow:Early stopping conditioned on metric `val_mse` which is not available. Available metrics are: loss,mae,val_loss,val_mae\n"
          ]
        },
        {
          "output_type": "stream",
          "name": "stdout",
          "text": [
            "\n",
            "Epoch 315: val_loss improved from 8293830.50000 to 8208033.00000, saving model to /content/checkFile.hdf5\n",
            "29/29 [==============================] - 0s 5ms/step - loss: 8220711.0000 - mae: 1811.6521 - val_loss: 8208033.0000 - val_mae: 1811.6979\n",
            "Epoch 316/350\n",
            "19/29 [==================>...........] - ETA: 0s - loss: 8358169.5000 - mae: 1819.2592"
          ]
        },
        {
          "output_type": "stream",
          "name": "stderr",
          "text": [
            "WARNING:tensorflow:Early stopping conditioned on metric `val_mse` which is not available. Available metrics are: loss,mae,val_loss,val_mae\n"
          ]
        },
        {
          "output_type": "stream",
          "name": "stdout",
          "text": [
            "\n",
            "Epoch 316: val_loss improved from 8208033.00000 to 8131751.00000, saving model to /content/checkFile.hdf5\n",
            "29/29 [==============================] - 0s 5ms/step - loss: 8129137.5000 - mae: 1799.6611 - val_loss: 8131751.0000 - val_mae: 1803.8546\n",
            "Epoch 317/350\n",
            "17/29 [================>.............] - ETA: 0s - loss: 7846805.0000 - mae: 1789.4335"
          ]
        },
        {
          "output_type": "stream",
          "name": "stderr",
          "text": [
            "WARNING:tensorflow:Early stopping conditioned on metric `val_mse` which is not available. Available metrics are: loss,mae,val_loss,val_mae\n"
          ]
        },
        {
          "output_type": "stream",
          "name": "stdout",
          "text": [
            "\n",
            "Epoch 317: val_loss improved from 8131751.00000 to 8045026.00000, saving model to /content/checkFile.hdf5\n",
            "29/29 [==============================] - 0s 5ms/step - loss: 8043476.0000 - mae: 1790.3536 - val_loss: 8045026.0000 - val_mae: 1794.4344\n",
            "Epoch 318/350\n",
            "18/29 [=================>............] - ETA: 0s - loss: 7909628.5000 - mae: 1796.5914"
          ]
        },
        {
          "output_type": "stream",
          "name": "stderr",
          "text": [
            "WARNING:tensorflow:Early stopping conditioned on metric `val_mse` which is not available. Available metrics are: loss,mae,val_loss,val_mae\n"
          ]
        },
        {
          "output_type": "stream",
          "name": "stdout",
          "text": [
            "\n",
            "Epoch 318: val_loss improved from 8045026.00000 to 7921705.00000, saving model to /content/checkFile.hdf5\n",
            "29/29 [==============================] - 0s 5ms/step - loss: 7961194.5000 - mae: 1780.2493 - val_loss: 7921705.0000 - val_mae: 1775.7125\n",
            "Epoch 319/350\n",
            "22/29 [=====================>........] - ETA: 0s - loss: 7933959.5000 - mae: 1787.2725 "
          ]
        },
        {
          "output_type": "stream",
          "name": "stderr",
          "text": [
            "WARNING:tensorflow:Early stopping conditioned on metric `val_mse` which is not available. Available metrics are: loss,mae,val_loss,val_mae\n"
          ]
        },
        {
          "output_type": "stream",
          "name": "stdout",
          "text": [
            "\n",
            "Epoch 319: val_loss improved from 7921705.00000 to 7833686.50000, saving model to /content/checkFile.hdf5\n",
            "29/29 [==============================] - 0s 5ms/step - loss: 7910010.5000 - mae: 1779.4503 - val_loss: 7833686.5000 - val_mae: 1766.0220\n",
            "Epoch 320/350\n",
            "19/29 [==================>...........] - ETA: 0s - loss: 7249456.5000 - mae: 1733.6014"
          ]
        },
        {
          "output_type": "stream",
          "name": "stderr",
          "text": [
            "WARNING:tensorflow:Early stopping conditioned on metric `val_mse` which is not available. Available metrics are: loss,mae,val_loss,val_mae\n"
          ]
        },
        {
          "output_type": "stream",
          "name": "stdout",
          "text": [
            "\n",
            "Epoch 320: val_loss improved from 7833686.50000 to 7750050.50000, saving model to /content/checkFile.hdf5\n",
            "29/29 [==============================] - 0s 5ms/step - loss: 7817443.0000 - mae: 1759.5942 - val_loss: 7750050.5000 - val_mae: 1751.9685\n",
            "Epoch 321/350\n",
            "20/29 [===================>..........] - ETA: 0s - loss: 7917351.5000 - mae: 1765.6879"
          ]
        },
        {
          "output_type": "stream",
          "name": "stderr",
          "text": [
            "WARNING:tensorflow:Early stopping conditioned on metric `val_mse` which is not available. Available metrics are: loss,mae,val_loss,val_mae\n"
          ]
        },
        {
          "output_type": "stream",
          "name": "stdout",
          "text": [
            "\n",
            "Epoch 321: val_loss improved from 7750050.50000 to 7662014.00000, saving model to /content/checkFile.hdf5\n",
            "29/29 [==============================] - 0s 5ms/step - loss: 7726719.0000 - mae: 1750.3541 - val_loss: 7662014.0000 - val_mae: 1743.4414\n",
            "Epoch 322/350\n",
            "17/29 [================>.............] - ETA: 0s - loss: 7612968.5000 - mae: 1742.5104"
          ]
        },
        {
          "output_type": "stream",
          "name": "stderr",
          "text": [
            "WARNING:tensorflow:Early stopping conditioned on metric `val_mse` which is not available. Available metrics are: loss,mae,val_loss,val_mae\n"
          ]
        },
        {
          "output_type": "stream",
          "name": "stdout",
          "text": [
            "\n",
            "Epoch 322: val_loss improved from 7662014.00000 to 7580822.00000, saving model to /content/checkFile.hdf5\n",
            "29/29 [==============================] - 0s 5ms/step - loss: 7674560.5000 - mae: 1742.2473 - val_loss: 7580822.0000 - val_mae: 1734.0923\n",
            "Epoch 323/350\n",
            "20/29 [===================>..........] - ETA: 0s - loss: 7460941.0000 - mae: 1733.0890"
          ]
        },
        {
          "output_type": "stream",
          "name": "stderr",
          "text": [
            "WARNING:tensorflow:Early stopping conditioned on metric `val_mse` which is not available. Available metrics are: loss,mae,val_loss,val_mae\n"
          ]
        },
        {
          "output_type": "stream",
          "name": "stdout",
          "text": [
            "\n",
            "Epoch 323: val_loss improved from 7580822.00000 to 7488723.50000, saving model to /content/checkFile.hdf5\n",
            "29/29 [==============================] - 0s 5ms/step - loss: 7587436.0000 - mae: 1732.8356 - val_loss: 7488723.5000 - val_mae: 1722.2496\n",
            "Epoch 324/350\n",
            "22/29 [=====================>........] - ETA: 0s - loss: 7517542.0000 - mae: 1712.4152"
          ]
        },
        {
          "output_type": "stream",
          "name": "stderr",
          "text": [
            "WARNING:tensorflow:Early stopping conditioned on metric `val_mse` which is not available. Available metrics are: loss,mae,val_loss,val_mae\n"
          ]
        },
        {
          "output_type": "stream",
          "name": "stdout",
          "text": [
            "\n",
            "Epoch 324: val_loss improved from 7488723.50000 to 7419514.00000, saving model to /content/checkFile.hdf5\n",
            "29/29 [==============================] - 0s 5ms/step - loss: 7518344.0000 - mae: 1725.5675 - val_loss: 7419514.0000 - val_mae: 1713.2438\n",
            "Epoch 325/350\n",
            "19/29 [==================>...........] - ETA: 0s - loss: 7272509.0000 - mae: 1702.9415"
          ]
        },
        {
          "output_type": "stream",
          "name": "stderr",
          "text": [
            "WARNING:tensorflow:Early stopping conditioned on metric `val_mse` which is not available. Available metrics are: loss,mae,val_loss,val_mae\n"
          ]
        },
        {
          "output_type": "stream",
          "name": "stdout",
          "text": [
            "\n",
            "Epoch 325: val_loss did not improve from 7419514.00000\n",
            "29/29 [==============================] - 0s 4ms/step - loss: 7432912.0000 - mae: 1707.7792 - val_loss: 7430744.5000 - val_mae: 1724.1963\n",
            "Epoch 326/350\n",
            "19/29 [==================>...........] - ETA: 0s - loss: 7499981.0000 - mae: 1721.5638"
          ]
        },
        {
          "output_type": "stream",
          "name": "stderr",
          "text": [
            "WARNING:tensorflow:Early stopping conditioned on metric `val_mse` which is not available. Available metrics are: loss,mae,val_loss,val_mae\n"
          ]
        },
        {
          "output_type": "stream",
          "name": "stdout",
          "text": [
            "\n",
            "Epoch 326: val_loss improved from 7419514.00000 to 7271721.00000, saving model to /content/checkFile.hdf5\n",
            "29/29 [==============================] - 0s 5ms/step - loss: 7399900.0000 - mae: 1711.6204 - val_loss: 7271721.0000 - val_mae: 1696.9657\n",
            "Epoch 327/350\n",
            "29/29 [==============================] - ETA: 0s - loss: 7314710.5000 - mae: 1695.3981"
          ]
        },
        {
          "output_type": "stream",
          "name": "stderr",
          "text": [
            "WARNING:tensorflow:Early stopping conditioned on metric `val_mse` which is not available. Available metrics are: loss,mae,val_loss,val_mae\n"
          ]
        },
        {
          "output_type": "stream",
          "name": "stdout",
          "text": [
            "\n",
            "Epoch 327: val_loss improved from 7271721.00000 to 7188176.50000, saving model to /content/checkFile.hdf5\n",
            "29/29 [==============================] - 0s 7ms/step - loss: 7314710.5000 - mae: 1695.3981 - val_loss: 7188176.5000 - val_mae: 1682.5402\n",
            "Epoch 328/350\n",
            "16/29 [===============>..............] - ETA: 0s - loss: 7125245.5000 - mae: 1678.3982"
          ]
        },
        {
          "output_type": "stream",
          "name": "stderr",
          "text": [
            "WARNING:tensorflow:Early stopping conditioned on metric `val_mse` which is not available. Available metrics are: loss,mae,val_loss,val_mae\n"
          ]
        },
        {
          "output_type": "stream",
          "name": "stdout",
          "text": [
            "\n",
            "Epoch 328: val_loss improved from 7188176.50000 to 7129258.50000, saving model to /content/checkFile.hdf5\n",
            "29/29 [==============================] - 0s 6ms/step - loss: 7230386.0000 - mae: 1683.5468 - val_loss: 7129258.5000 - val_mae: 1679.9900\n",
            "Epoch 329/350\n",
            "18/29 [=================>............] - ETA: 0s - loss: 6789720.0000 - mae: 1676.0802"
          ]
        },
        {
          "output_type": "stream",
          "name": "stderr",
          "text": [
            "WARNING:tensorflow:Early stopping conditioned on metric `val_mse` which is not available. Available metrics are: loss,mae,val_loss,val_mae\n"
          ]
        },
        {
          "output_type": "stream",
          "name": "stdout",
          "text": [
            "\n",
            "Epoch 329: val_loss improved from 7129258.50000 to 7034565.00000, saving model to /content/checkFile.hdf5\n",
            "29/29 [==============================] - 0s 6ms/step - loss: 7170360.5000 - mae: 1677.8521 - val_loss: 7034565.0000 - val_mae: 1664.1211\n",
            "Epoch 330/350\n",
            "17/29 [================>.............] - ETA: 0s - loss: 6919618.0000 - mae: 1650.6145 "
          ]
        },
        {
          "output_type": "stream",
          "name": "stderr",
          "text": [
            "WARNING:tensorflow:Early stopping conditioned on metric `val_mse` which is not available. Available metrics are: loss,mae,val_loss,val_mae\n"
          ]
        },
        {
          "output_type": "stream",
          "name": "stdout",
          "text": [
            "\n",
            "Epoch 330: val_loss improved from 7034565.00000 to 6964422.00000, saving model to /content/checkFile.hdf5\n",
            "29/29 [==============================] - 0s 6ms/step - loss: 7108596.0000 - mae: 1667.2225 - val_loss: 6964422.0000 - val_mae: 1656.8118\n",
            "Epoch 331/350\n",
            "17/29 [================>.............] - ETA: 0s - loss: 6704048.5000 - mae: 1642.4169"
          ]
        },
        {
          "output_type": "stream",
          "name": "stderr",
          "text": [
            "WARNING:tensorflow:Early stopping conditioned on metric `val_mse` which is not available. Available metrics are: loss,mae,val_loss,val_mae\n"
          ]
        },
        {
          "output_type": "stream",
          "name": "stdout",
          "text": [
            "\n",
            "Epoch 331: val_loss improved from 6964422.00000 to 6900414.50000, saving model to /content/checkFile.hdf5\n",
            "29/29 [==============================] - 0s 7ms/step - loss: 7039977.5000 - mae: 1661.1079 - val_loss: 6900414.5000 - val_mae: 1646.0817\n",
            "Epoch 332/350\n",
            "17/29 [================>.............] - ETA: 0s - loss: 7060111.5000 - mae: 1656.7045"
          ]
        },
        {
          "output_type": "stream",
          "name": "stderr",
          "text": [
            "WARNING:tensorflow:Early stopping conditioned on metric `val_mse` which is not available. Available metrics are: loss,mae,val_loss,val_mae\n"
          ]
        },
        {
          "output_type": "stream",
          "name": "stdout",
          "text": [
            "\n",
            "Epoch 332: val_loss improved from 6900414.50000 to 6852325.50000, saving model to /content/checkFile.hdf5\n",
            "29/29 [==============================] - 0s 6ms/step - loss: 6958921.0000 - mae: 1649.6785 - val_loss: 6852325.5000 - val_mae: 1647.3070\n",
            "Epoch 333/350\n",
            "24/29 [=======================>......] - ETA: 0s - loss: 6878018.0000 - mae: 1626.0699"
          ]
        },
        {
          "output_type": "stream",
          "name": "stderr",
          "text": [
            "WARNING:tensorflow:Early stopping conditioned on metric `val_mse` which is not available. Available metrics are: loss,mae,val_loss,val_mae\n"
          ]
        },
        {
          "output_type": "stream",
          "name": "stdout",
          "text": [
            "\n",
            "Epoch 333: val_loss improved from 6852325.50000 to 6720558.50000, saving model to /content/checkFile.hdf5\n",
            "29/29 [==============================] - 0s 8ms/step - loss: 6888370.0000 - mae: 1635.8638 - val_loss: 6720558.5000 - val_mae: 1618.5841\n",
            "Epoch 334/350\n",
            "28/29 [===========================>..] - ETA: 0s - loss: 6884091.5000 - mae: 1631.7925"
          ]
        },
        {
          "output_type": "stream",
          "name": "stderr",
          "text": [
            "WARNING:tensorflow:Early stopping conditioned on metric `val_mse` which is not available. Available metrics are: loss,mae,val_loss,val_mae\n"
          ]
        },
        {
          "output_type": "stream",
          "name": "stdout",
          "text": [
            "\n",
            "Epoch 334: val_loss improved from 6720558.50000 to 6653475.50000, saving model to /content/checkFile.hdf5\n",
            "29/29 [==============================] - 0s 7ms/step - loss: 6838120.0000 - mae: 1628.0316 - val_loss: 6653475.5000 - val_mae: 1612.5620\n",
            "Epoch 335/350\n",
            "25/29 [========================>.....] - ETA: 0s - loss: 6909060.5000 - mae: 1624.8187"
          ]
        },
        {
          "output_type": "stream",
          "name": "stderr",
          "text": [
            "WARNING:tensorflow:Early stopping conditioned on metric `val_mse` which is not available. Available metrics are: loss,mae,val_loss,val_mae\n"
          ]
        },
        {
          "output_type": "stream",
          "name": "stdout",
          "text": [
            "\n",
            "Epoch 335: val_loss improved from 6653475.50000 to 6605850.50000, saving model to /content/checkFile.hdf5\n",
            "29/29 [==============================] - 0s 8ms/step - loss: 6758411.0000 - mae: 1618.4393 - val_loss: 6605850.5000 - val_mae: 1608.4174\n",
            "Epoch 336/350\n",
            "17/29 [================>.............] - ETA: 0s - loss: 6759356.5000 - mae: 1607.7117"
          ]
        },
        {
          "output_type": "stream",
          "name": "stderr",
          "text": [
            "WARNING:tensorflow:Early stopping conditioned on metric `val_mse` which is not available. Available metrics are: loss,mae,val_loss,val_mae\n"
          ]
        },
        {
          "output_type": "stream",
          "name": "stdout",
          "text": [
            "\n",
            "Epoch 336: val_loss improved from 6605850.50000 to 6506022.00000, saving model to /content/checkFile.hdf5\n",
            "29/29 [==============================] - 0s 6ms/step - loss: 6693180.0000 - mae: 1609.2350 - val_loss: 6506022.0000 - val_mae: 1591.3480\n",
            "Epoch 337/350\n",
            "16/29 [===============>..............] - ETA: 0s - loss: 6453258.5000 - mae: 1589.2650"
          ]
        },
        {
          "output_type": "stream",
          "name": "stderr",
          "text": [
            "WARNING:tensorflow:Early stopping conditioned on metric `val_mse` which is not available. Available metrics are: loss,mae,val_loss,val_mae\n"
          ]
        },
        {
          "output_type": "stream",
          "name": "stdout",
          "text": [
            "\n",
            "Epoch 337: val_loss improved from 6506022.00000 to 6440201.00000, saving model to /content/checkFile.hdf5\n",
            "29/29 [==============================] - 0s 6ms/step - loss: 6638123.0000 - mae: 1601.0232 - val_loss: 6440201.0000 - val_mae: 1582.0366\n",
            "Epoch 338/350\n",
            "29/29 [==============================] - ETA: 0s - loss: 6584941.0000 - mae: 1593.2405"
          ]
        },
        {
          "output_type": "stream",
          "name": "stderr",
          "text": [
            "WARNING:tensorflow:Early stopping conditioned on metric `val_mse` which is not available. Available metrics are: loss,mae,val_loss,val_mae\n"
          ]
        },
        {
          "output_type": "stream",
          "name": "stdout",
          "text": [
            "\n",
            "Epoch 338: val_loss improved from 6440201.00000 to 6385644.00000, saving model to /content/checkFile.hdf5\n",
            "29/29 [==============================] - 0s 7ms/step - loss: 6584941.0000 - mae: 1593.2405 - val_loss: 6385644.0000 - val_mae: 1572.9875\n",
            "Epoch 339/350\n",
            "29/29 [==============================] - ETA: 0s - loss: 6514422.0000 - mae: 1583.6271"
          ]
        },
        {
          "output_type": "stream",
          "name": "stderr",
          "text": [
            "WARNING:tensorflow:Early stopping conditioned on metric `val_mse` which is not available. Available metrics are: loss,mae,val_loss,val_mae\n"
          ]
        },
        {
          "output_type": "stream",
          "name": "stdout",
          "text": [
            "\n",
            "Epoch 339: val_loss improved from 6385644.00000 to 6308933.50000, saving model to /content/checkFile.hdf5\n",
            "29/29 [==============================] - 0s 7ms/step - loss: 6514422.0000 - mae: 1583.6271 - val_loss: 6308933.5000 - val_mae: 1564.5756\n",
            "Epoch 340/350\n",
            "16/29 [===============>..............] - ETA: 0s - loss: 6246601.5000 - mae: 1569.9431"
          ]
        },
        {
          "output_type": "stream",
          "name": "stderr",
          "text": [
            "WARNING:tensorflow:Early stopping conditioned on metric `val_mse` which is not available. Available metrics are: loss,mae,val_loss,val_mae\n"
          ]
        },
        {
          "output_type": "stream",
          "name": "stdout",
          "text": [
            "\n",
            "Epoch 340: val_loss improved from 6308933.50000 to 6244417.50000, saving model to /content/checkFile.hdf5\n",
            "29/29 [==============================] - 0s 7ms/step - loss: 6462065.5000 - mae: 1574.2820 - val_loss: 6244417.5000 - val_mae: 1553.8639\n",
            "Epoch 341/350\n",
            "16/29 [===============>..............] - ETA: 0s - loss: 6549500.0000 - mae: 1585.2395"
          ]
        },
        {
          "output_type": "stream",
          "name": "stderr",
          "text": [
            "WARNING:tensorflow:Early stopping conditioned on metric `val_mse` which is not available. Available metrics are: loss,mae,val_loss,val_mae\n"
          ]
        },
        {
          "output_type": "stream",
          "name": "stdout",
          "text": [
            "\n",
            "Epoch 341: val_loss did not improve from 6244417.50000\n",
            "29/29 [==============================] - 0s 5ms/step - loss: 6392492.0000 - mae: 1564.9698 - val_loss: 6267748.0000 - val_mae: 1571.5165\n",
            "Epoch 342/350\n",
            "16/29 [===============>..............] - ETA: 0s - loss: 6467417.0000 - mae: 1564.4122"
          ]
        },
        {
          "output_type": "stream",
          "name": "stderr",
          "text": [
            "WARNING:tensorflow:Early stopping conditioned on metric `val_mse` which is not available. Available metrics are: loss,mae,val_loss,val_mae\n"
          ]
        },
        {
          "output_type": "stream",
          "name": "stdout",
          "text": [
            "\n",
            "Epoch 342: val_loss improved from 6244417.50000 to 6103377.00000, saving model to /content/checkFile.hdf5\n",
            "29/29 [==============================] - 0s 6ms/step - loss: 6344764.5000 - mae: 1558.6781 - val_loss: 6103377.0000 - val_mae: 1533.8557\n",
            "Epoch 343/350\n",
            "25/29 [========================>.....] - ETA: 0s - loss: 6394112.0000 - mae: 1554.6580"
          ]
        },
        {
          "output_type": "stream",
          "name": "stderr",
          "text": [
            "WARNING:tensorflow:Early stopping conditioned on metric `val_mse` which is not available. Available metrics are: loss,mae,val_loss,val_mae\n"
          ]
        },
        {
          "output_type": "stream",
          "name": "stdout",
          "text": [
            "\n",
            "Epoch 343: val_loss did not improve from 6103377.00000\n",
            "29/29 [==============================] - 0s 6ms/step - loss: 6279353.5000 - mae: 1547.9836 - val_loss: 6110387.5000 - val_mae: 1545.2305\n",
            "Epoch 344/350\n",
            "26/29 [=========================>....] - ETA: 0s - loss: 6333920.5000 - mae: 1550.4832"
          ]
        },
        {
          "output_type": "stream",
          "name": "stderr",
          "text": [
            "WARNING:tensorflow:Early stopping conditioned on metric `val_mse` which is not available. Available metrics are: loss,mae,val_loss,val_mae\n"
          ]
        },
        {
          "output_type": "stream",
          "name": "stdout",
          "text": [
            "\n",
            "Epoch 344: val_loss improved from 6103377.00000 to 5988936.50000, saving model to /content/checkFile.hdf5\n",
            "29/29 [==============================] - 0s 7ms/step - loss: 6234747.0000 - mae: 1544.6171 - val_loss: 5988936.5000 - val_mae: 1518.1887\n",
            "Epoch 345/350\n",
            "19/29 [==================>...........] - ETA: 0s - loss: 6227727.5000 - mae: 1530.0139"
          ]
        },
        {
          "output_type": "stream",
          "name": "stderr",
          "text": [
            "WARNING:tensorflow:Early stopping conditioned on metric `val_mse` which is not available. Available metrics are: loss,mae,val_loss,val_mae\n"
          ]
        },
        {
          "output_type": "stream",
          "name": "stdout",
          "text": [
            "\n",
            "Epoch 345: val_loss improved from 5988936.50000 to 5926797.00000, saving model to /content/checkFile.hdf5\n",
            "29/29 [==============================] - 0s 5ms/step - loss: 6189045.5000 - mae: 1538.2260 - val_loss: 5926797.0000 - val_mae: 1507.7218\n",
            "Epoch 346/350\n",
            "18/29 [=================>............] - ETA: 0s - loss: 5930201.5000 - mae: 1521.4115"
          ]
        },
        {
          "output_type": "stream",
          "name": "stderr",
          "text": [
            "WARNING:tensorflow:Early stopping conditioned on metric `val_mse` which is not available. Available metrics are: loss,mae,val_loss,val_mae\n"
          ]
        },
        {
          "output_type": "stream",
          "name": "stdout",
          "text": [
            "\n",
            "Epoch 346: val_loss improved from 5926797.00000 to 5871039.50000, saving model to /content/checkFile.hdf5\n",
            "29/29 [==============================] - 0s 5ms/step - loss: 6110272.5000 - mae: 1522.7625 - val_loss: 5871039.5000 - val_mae: 1500.3190\n",
            "Epoch 347/350\n",
            "20/29 [===================>..........] - ETA: 0s - loss: 6088892.5000 - mae: 1506.1041"
          ]
        },
        {
          "output_type": "stream",
          "name": "stderr",
          "text": [
            "WARNING:tensorflow:Early stopping conditioned on metric `val_mse` which is not available. Available metrics are: loss,mae,val_loss,val_mae\n"
          ]
        },
        {
          "output_type": "stream",
          "name": "stdout",
          "text": [
            "\n",
            "Epoch 347: val_loss improved from 5871039.50000 to 5801231.50000, saving model to /content/checkFile.hdf5\n",
            "29/29 [==============================] - 0s 5ms/step - loss: 6049177.5000 - mae: 1511.6174 - val_loss: 5801231.5000 - val_mae: 1489.6620\n",
            "Epoch 348/350\n",
            "19/29 [==================>...........] - ETA: 0s - loss: 6264560.5000 - mae: 1515.9197"
          ]
        },
        {
          "output_type": "stream",
          "name": "stderr",
          "text": [
            "WARNING:tensorflow:Early stopping conditioned on metric `val_mse` which is not available. Available metrics are: loss,mae,val_loss,val_mae\n"
          ]
        },
        {
          "output_type": "stream",
          "name": "stdout",
          "text": [
            "\n",
            "Epoch 348: val_loss improved from 5801231.50000 to 5798672.50000, saving model to /content/checkFile.hdf5\n",
            "29/29 [==============================] - 0s 5ms/step - loss: 5990985.0000 - mae: 1505.0543 - val_loss: 5798672.5000 - val_mae: 1497.3511\n",
            "Epoch 349/350\n",
            "19/29 [==================>...........] - ETA: 0s - loss: 5725016.0000 - mae: 1468.4291"
          ]
        },
        {
          "output_type": "stream",
          "name": "stderr",
          "text": [
            "WARNING:tensorflow:Early stopping conditioned on metric `val_mse` which is not available. Available metrics are: loss,mae,val_loss,val_mae\n"
          ]
        },
        {
          "output_type": "stream",
          "name": "stdout",
          "text": [
            "\n",
            "Epoch 349: val_loss improved from 5798672.50000 to 5688418.00000, saving model to /content/checkFile.hdf5\n",
            "29/29 [==============================] - 0s 5ms/step - loss: 5947337.0000 - mae: 1495.8933 - val_loss: 5688418.0000 - val_mae: 1473.0609\n",
            "Epoch 350/350\n",
            "21/29 [====================>.........] - ETA: 0s - loss: 5807803.0000 - mae: 1477.6957"
          ]
        },
        {
          "output_type": "stream",
          "name": "stderr",
          "text": [
            "WARNING:tensorflow:Early stopping conditioned on metric `val_mse` which is not available. Available metrics are: loss,mae,val_loss,val_mae\n"
          ]
        },
        {
          "output_type": "stream",
          "name": "stdout",
          "text": [
            "\n",
            "Epoch 350: val_loss improved from 5688418.00000 to 5632324.50000, saving model to /content/checkFile.hdf5\n",
            "29/29 [==============================] - 0s 5ms/step - loss: 5888870.0000 - mae: 1487.6147 - val_loss: 5632324.5000 - val_mae: 1464.1578\n"
          ]
        }
      ]
    },
    {
      "cell_type": "code",
      "source": [
        "loss_function = regressor_history.history['loss']\n",
        "val_loss_function = regressor_history.history['val_loss']\n",
        "epochs = range(\n",
        "    1,\n",
        "    len(loss_function) + 1,\n",
        ")\n",
        "\n",
        "plt.rcParams['figure.figsize'] = [10, 7]\n",
        "plt.title('Loss function (Train & Val Sets)', fontsize=16)\n",
        "plt.plot(\n",
        "    epochs,\n",
        "    loss_function,\n",
        "    label='Train Loss',\n",
        ")\n",
        "plt.plot(\n",
        "    epochs,\n",
        "    val_loss_function,\n",
        "    color='orange',\n",
        "    label='Val Loss',\n",
        ")\n",
        "plt.xlabel('Epochs', fontsize=14)\n",
        "plt.ylabel('Loss function', fontsize=14)\n",
        "plt.legend(fontsize=14)\n",
        "plt.show()"
      ],
      "metadata": {
        "colab": {
          "base_uri": "https://localhost:8080/",
          "height": 648
        },
        "id": "_rpWnpAPgzKS",
        "outputId": "d7b74543-bc6a-4a22-c2ee-ed0cea0b65a8"
      },
      "execution_count": 82,
      "outputs": [
        {
          "output_type": "display_data",
          "data": {
            "text/plain": [
              "<Figure size 1000x700 with 1 Axes>"
            ],
            "image/png": "[encoded data removed]"
          },
          "metadata": {}
        }
      ]
    },
    {
      "cell_type": "code",
      "source": [
        "mae = regressor_history.history['mae']\n",
        "val_mae = regressor_history.history['val_mae']\n",
        "epochs = range(1, len(mae) + 1)\n",
        "\n",
        "plt.title('MAE (Train & Val Sets)', fontsize=16)\n",
        "plt.plot(\n",
        "    epochs,\n",
        "    mae,\n",
        "    label='Mean Absolute Error (Train)',\n",
        ")\n",
        "plt.plot(\n",
        "    epochs,\n",
        "    val_mae,\n",
        "    color='orange',\n",
        "    label='Mean Absolute Error (Validation)',\n",
        ")\n",
        "plt.xlabel('Epochs', fontsize=14)\n",
        "plt.ylabel('MAE', fontsize=14)\n",
        "plt.legend(fontsize=14)\n",
        "plt.show()"
      ],
      "metadata": {
        "colab": {
          "base_uri": "https://localhost:8080/",
          "height": 648
        },
        "id": "KwKu4OH8hGzG",
        "outputId": "6136025b-ed89-4bf1-ba7b-31a5e0ef0da6"
      },
      "execution_count": 83,
      "outputs": [
        {
          "output_type": "display_data",
          "data": {
            "text/plain": [
              "<Figure size 1000x700 with 1 Axes>"
            ],
            "image/png": "[encoded data removed]"
          },
          "metadata": {}
        }
      ]
    },
    {
      "cell_type": "code",
      "source": [
        "regressor.load_weights('/content/checkFile.hdf5')\n",
        "\n",
        "results = regressor.evaluate(\n",
        "    X2,\n",
        "    y2,\n",
        "    return_dict=True,\n",
        ")\n",
        "\n",
        "y_pred = regressor.predict(X2)\n",
        "\n",
        "print(results)"
      ],
      "metadata": {
        "colab": {
          "base_uri": "https://localhost:8080/"
        },
        "id": "qSHeWS2IhOgU",
        "outputId": "66624bfe-5920-47cf-9a2f-95c68e80b75f"
      },
      "execution_count": 84,
      "outputs": [
        {
          "output_type": "stream",
          "name": "stdout",
          "text": [
            "34/34 [==============================] - 0s 1ms/step - loss: 18637248.0000 - mae: 1644.7726\n",
            "34/34 [==============================] - 0s 1ms/step\n",
            "{'loss': 18637248.0, 'mae': 1644.7725830078125}\n"
          ]
        }
      ]
    },
    {
      "cell_type": "code",
      "source": [
        "print(f\"MSE: {mean_squared_error(y2, y_pred)}\")\n",
        "print(f\"MAE: {mean_absolute_error(y2, y_pred)}\")\n",
        "print(f\"R2: {r2_score(y2, y_pred)}\")"
      ],
      "metadata": {
        "colab": {
          "base_uri": "https://localhost:8080/"
        },
        "id": "achrdmT4hVPE",
        "outputId": "ab1cddc2-90e6-49c3-c41c-14b8b5bccd03"
      },
      "execution_count": 85,
      "outputs": [
        {
          "output_type": "stream",
          "name": "stdout",
          "text": [
            "MSE: 18637241.640370965\n",
            "MAE: 1644.7725821587503\n",
            "R2: 0.987367427541016\n"
          ]
        }
      ]
    }
  ]
}